{
 "cells": [
  {
   "cell_type": "code",
   "execution_count": 363,
   "metadata": {},
   "outputs": [],
   "source": [
    "import pandas as pd\n",
    "from datetime import datetime, date, time\n",
    "import seaborn as sns\n",
    "import matplotlib.pyplot as plt\n",
    "import numpy as np\n",
    "import os"
   ]
  },
  {
   "cell_type": "code",
   "execution_count": 6,
   "metadata": {},
   "outputs": [],
   "source": [
    "worker = ['Olya', 'Silyutina', 350000, 3]\n",
    "status = '{} {} is {}'\n",
    "for i in worker:\n",
    "    user_name = worker[0]\n",
    "    user_family = worker[1]\n",
    "    stazh = worker[-1]\n",
    "    if worker[-1] < 2:\n",
    "        position ='junior';\n",
    "    elif 2 <= worker[-1] < 5:\n",
    "        position ='middle';\n",
    "    else:\n",
    "        position='senior';\n",
    "status = status.format(worker[0], worker[1], position)"
   ]
  },
  {
   "cell_type": "code",
   "execution_count": 5,
   "metadata": {},
   "outputs": [],
   "source": [
    "for i in worker:\n",
    "    user_name = worker[0]\n",
    "    user_family = worker[1]\n",
    "    stazh = worker[-1]\n",
    "    if worker[-1] < 2:\n",
    "        position ='junior';\n",
    "    elif 2 <= worker[-1] < 5:\n",
    "        position ='middle';\n",
    "    else:\n",
    "        position='senior';\n",
    "status = user_name + ' ' + user_family + ' ' + 'is'+' ' + position"
   ]
  },
  {
   "cell_type": "code",
   "execution_count": 2,
   "metadata": {},
   "outputs": [
    {
     "name": "stdout",
     "output_type": "stream",
     "text": [
      "21\n",
      "35\n",
      "42\n",
      "27\n"
     ]
    }
   ],
   "source": [
    "user_ages = [10, 18, 21, 35, 42, 27, 12, 16]\n",
    "for i in user_ages:\n",
    "    if i>18:\n",
    "        print(i)"
   ]
  },
  {
   "cell_type": "code",
   "execution_count": 61,
   "metadata": {},
   "outputs": [],
   "source": [
    "values = [12, 134, 10, 47, 100, 20, 50, 160, 210]\n",
    "tens=[]\n",
    "for i in values:\n",
    "    if i % 10 == 0:\n",
    "        tens.append(i)"
   ]
  },
  {
   "cell_type": "code",
   "execution_count": 22,
   "metadata": {},
   "outputs": [
    {
     "name": "stdout",
     "output_type": "stream",
     "text": [
      "Ivan Ivanov is junior\n",
      "Petr Petrov is middle\n",
      "Sidor Sidorov is middle\n"
     ]
    }
   ],
   "source": [
    "workers = [['Ivan', 'Ivanov', 100000, 0], ['Petr', 'Petrov', 150000, 2], ['Sidor', 'Sidorov', 200000, 4]]\n",
    "status = '{} {} is {}'\n",
    "for w in workers:\n",
    "    user_name = w[0]\n",
    "    user_family = w[1]\n",
    "    exp = w[-1]\n",
    "    if 0 <= w[-1] < 2:\n",
    "        position ='junior';\n",
    "    elif 2 <= w[-1] <= 5:\n",
    "        position ='middle';\n",
    "    else:\n",
    "        position='senior';\n",
    "    print(status.format(w[0], w[1], position))"
   ]
  },
  {
   "cell_type": "code",
   "execution_count": 23,
   "metadata": {},
   "outputs": [
    {
     "name": "stdout",
     "output_type": "stream",
     "text": [
      "2021-11-19\n"
     ]
    }
   ],
   "source": [
    "from datetime import date\n",
    "today = str(date.today())\n",
    "print(today)"
   ]
  },
  {
   "cell_type": "code",
   "execution_count": null,
   "metadata": {},
   "outputs": [],
   "source": [
    "# Поместите в список lst числа от 0 (n = 0) до 10 включительно (N = 10) c шагом 2 (dn = 2). \n",
    "# Для этого используйте условие while.\n",
    "# Note: необходимо создать переменную lst"
   ]
  },
  {
   "cell_type": "code",
   "execution_count": 3,
   "metadata": {},
   "outputs": [],
   "source": [
    "lst=[]\n",
    "n = 0\n",
    "N = 10\n",
    "dn = 2\n",
    "while n<=N:\n",
    "    lst.append(n)\n",
    "    n +=dn"
   ]
  },
  {
   "cell_type": "code",
   "execution_count": 4,
   "metadata": {},
   "outputs": [
    {
     "data": {
      "text/plain": [
       "[0, 2, 4, 6, 8]"
      ]
     },
     "execution_count": 4,
     "metadata": {},
     "output_type": "execute_result"
    }
   ],
   "source": [
    " lst"
   ]
  },
  {
   "cell_type": "code",
   "execution_count": 4,
   "metadata": {},
   "outputs": [],
   "source": [
    "df = pd.read_csv('lesson_2_data.csv', encoding='Windows-1251', sep=';')"
   ]
  },
  {
   "cell_type": "code",
   "execution_count": 13,
   "metadata": {},
   "outputs": [
    {
     "data": {
      "text/html": [
       "<div>\n",
       "<style scoped>\n",
       "    .dataframe tbody tr th:only-of-type {\n",
       "        vertical-align: middle;\n",
       "    }\n",
       "\n",
       "    .dataframe tbody tr th {\n",
       "        vertical-align: top;\n",
       "    }\n",
       "\n",
       "    .dataframe thead th {\n",
       "        text-align: right;\n",
       "    }\n",
       "</style>\n",
       "<table border=\"1\" class=\"dataframe\">\n",
       "  <thead>\n",
       "    <tr style=\"text-align: right;\">\n",
       "      <th></th>\n",
       "      <th>Номер</th>\n",
       "      <th>Дата создания</th>\n",
       "      <th>Дата оплаты</th>\n",
       "      <th>Title</th>\n",
       "      <th>Статус</th>\n",
       "      <th>Заработано</th>\n",
       "      <th>Город</th>\n",
       "      <th>Платежная система</th>\n",
       "    </tr>\n",
       "  </thead>\n",
       "  <tbody>\n",
       "    <tr>\n",
       "      <th>0</th>\n",
       "      <td>1062823</td>\n",
       "      <td>01.12.2019 10:50</td>\n",
       "      <td>01.12.2019 10:52</td>\n",
       "      <td>Курс обучения «Эксперт»</td>\n",
       "      <td>Завершен</td>\n",
       "      <td>29597.5</td>\n",
       "      <td>Чита</td>\n",
       "      <td>Сбербанк эквайринг</td>\n",
       "    </tr>\n",
       "    <tr>\n",
       "      <th>1</th>\n",
       "      <td>1062855</td>\n",
       "      <td>01.12.2019 20:53</td>\n",
       "      <td>01.12.2019 21:27</td>\n",
       "      <td>Курс обучения «Эксперт»</td>\n",
       "      <td>Завершен</td>\n",
       "      <td>17450.3</td>\n",
       "      <td>Краснодар</td>\n",
       "      <td>Яндекс.Касса</td>\n",
       "    </tr>\n",
       "    <tr>\n",
       "      <th>2</th>\n",
       "      <td>1062856</td>\n",
       "      <td>01.12.2019 21:43</td>\n",
       "      <td>NaN</td>\n",
       "      <td>Курс обучения «Специалист»</td>\n",
       "      <td>Отменен</td>\n",
       "      <td>0.0</td>\n",
       "      <td>NaN</td>\n",
       "      <td>NaN</td>\n",
       "    </tr>\n",
       "    <tr>\n",
       "      <th>3</th>\n",
       "      <td>1062880</td>\n",
       "      <td>03.12.2019 0:18</td>\n",
       "      <td>NaN</td>\n",
       "      <td>Курс обучения «Консультант»</td>\n",
       "      <td>Отменен</td>\n",
       "      <td>0.0</td>\n",
       "      <td>г.Москва и Московская область</td>\n",
       "      <td>NaN</td>\n",
       "    </tr>\n",
       "    <tr>\n",
       "      <th>4</th>\n",
       "      <td>1062899</td>\n",
       "      <td>03.12.2019 21:43</td>\n",
       "      <td>NaN</td>\n",
       "      <td>Курс обучения «Эксперт»</td>\n",
       "      <td>Отменен</td>\n",
       "      <td>0.0</td>\n",
       "      <td>г.Москва и Московская область</td>\n",
       "      <td>NaN</td>\n",
       "    </tr>\n",
       "  </tbody>\n",
       "</table>\n",
       "</div>"
      ],
      "text/plain": [
       "     Номер     Дата создания       Дата оплаты                        Title  \\\n",
       "0  1062823  01.12.2019 10:50  01.12.2019 10:52      Курс обучения «Эксперт»   \n",
       "1  1062855  01.12.2019 20:53  01.12.2019 21:27      Курс обучения «Эксперт»   \n",
       "2  1062856  01.12.2019 21:43               NaN   Курс обучения «Специалист»   \n",
       "3  1062880   03.12.2019 0:18               NaN  Курс обучения «Консультант»   \n",
       "4  1062899  03.12.2019 21:43               NaN      Курс обучения «Эксперт»   \n",
       "\n",
       "     Статус  Заработано                          Город   Платежная система  \n",
       "0  Завершен     29597.5                           Чита  Сбербанк эквайринг  \n",
       "1  Завершен     17450.3                      Краснодар        Яндекс.Касса  \n",
       "2   Отменен         0.0                            NaN                 NaN  \n",
       "3   Отменен         0.0  г.Москва и Московская область                 NaN  \n",
       "4   Отменен         0.0  г.Москва и Московская область                 NaN  "
      ]
     },
     "execution_count": 13,
     "metadata": {},
     "output_type": "execute_result"
    }
   ],
   "source": [
    "df.head()"
   ]
  },
  {
   "cell_type": "code",
   "execution_count": 5,
   "metadata": {},
   "outputs": [],
   "source": [
    "df = pd.read_csv('C:/Users/lybov/Downloads/lesson_2_data.csv', encoding='Windows-1251', sep=';')"
   ]
  },
  {
   "cell_type": "code",
   "execution_count": 10,
   "metadata": {},
   "outputs": [
    {
     "data": {
      "text/plain": [
       "(5, 8)"
      ]
     },
     "execution_count": 10,
     "metadata": {},
     "output_type": "execute_result"
    }
   ],
   "source": [
    "df.head().shape"
   ]
  },
  {
   "cell_type": "code",
   "execution_count": 11,
   "metadata": {},
   "outputs": [
    {
     "data": {
      "text/plain": [
       "Номер                  int64\n",
       "Дата создания         object\n",
       "Дата оплаты           object\n",
       "Title                 object\n",
       "Статус                object\n",
       "Заработано           float64\n",
       "Город                 object\n",
       "Платежная система     object\n",
       "dtype: object"
      ]
     },
     "execution_count": 11,
     "metadata": {},
     "output_type": "execute_result"
    }
   ],
   "source": [
    "df.dtypes"
   ]
  },
  {
   "cell_type": "code",
   "execution_count": 12,
   "metadata": {
    "scrolled": true
   },
   "outputs": [
    {
     "data": {
      "text/plain": [
       "<bound method NDFrame.describe of        Номер     Дата создания       Дата оплаты  \\\n",
       "0    1062823  01.12.2019 10:50  01.12.2019 10:52   \n",
       "1    1062855  01.12.2019 20:53  01.12.2019 21:27   \n",
       "2    1062856  01.12.2019 21:43               NaN   \n",
       "3    1062880   03.12.2019 0:18               NaN   \n",
       "4    1062899  03.12.2019 21:43               NaN   \n",
       "..       ...               ...               ...   \n",
       "287  1064720   30.12.2019 9:42  30.12.2019 12:49   \n",
       "288  1064724  30.12.2019 11:32               NaN   \n",
       "289  1064775   31.12.2019 2:17   31.12.2019 2:22   \n",
       "290  1064793  31.12.2019 16:40  01.01.2020 14:29   \n",
       "291  1064796  31.12.2019 17:29  31.12.2019 17:32   \n",
       "\n",
       "                                                 Title    Статус  Заработано  \\\n",
       "0                              Курс обучения «Эксперт»  Завершен    29597.50   \n",
       "1                              Курс обучения «Эксперт»  Завершен    17450.30   \n",
       "2                           Курс обучения «Специалист»   Отменен        0.00   \n",
       "3                          Курс обучения «Консультант»   Отменен        0.00   \n",
       "4                              Курс обучения «Эксперт»   Отменен        0.00   \n",
       "..                                                 ...       ...         ...   \n",
       "287  Подписка «ОНЛАЙН ДИЕТОЛОГ» с ежемесячным автос...  Завершен     2935.44   \n",
       "288                        Курс обучения «Консультант»   Отменен        0.00   \n",
       "289                        Курс обучения «Консультант»  Завершен     7423.92   \n",
       "290  Подписка «ОНЛАЙН ДИЕТОЛОГ» с ежемесячным автос...  Завершен     2935.44   \n",
       "291  Курс от Школы Диетологов. Повышение квалификац...  Завершен     9898.56   \n",
       "\n",
       "                             Город                 Платежная система  \n",
       "0                             Чита                Сбербанк эквайринг  \n",
       "1                        Краснодар                      Яндекс.Касса  \n",
       "2                              NaN                               NaN  \n",
       "3    г.Москва и Московская область                               NaN  \n",
       "4    г.Москва и Московская область                               NaN  \n",
       "..                             ...                               ...  \n",
       "287              Самарская область                      Яндекс.Касса  \n",
       "288                            NaN                               NaN  \n",
       "289                            NaN  Сбербанк эквайринг,Бонусный счет  \n",
       "290             Республика Карелия                      Яндекс.Касса  \n",
       "291                            Уфа  Сбербанк эквайринг,Бонусный счет  \n",
       "\n",
       "[292 rows x 8 columns]>"
      ]
     },
     "execution_count": 12,
     "metadata": {},
     "output_type": "execute_result"
    }
   ],
   "source": [
    "df.describe"
   ]
  },
  {
   "cell_type": "code",
   "execution_count": 13,
   "metadata": {},
   "outputs": [
    {
     "data": {
      "text/plain": [
       "Index(['Номер', 'Дата создания', 'Дата оплаты', 'Title', 'Статус',\n",
       "       'Заработано', 'Город', 'Платежная система'],\n",
       "      dtype='object')"
      ]
     },
     "execution_count": 13,
     "metadata": {},
     "output_type": "execute_result"
    }
   ],
   "source": [
    "df.columns"
   ]
  },
  {
   "cell_type": "code",
   "execution_count": 15,
   "metadata": {},
   "outputs": [],
   "source": [
    "df = df.rename(columns={'Номер':'number', \n",
    "                        'Дата создания':'create_date', \n",
    "                        'Дата оплаты':'payment_date',\n",
    "                        'Title':'title', \n",
    "                        'Статус':'status',\n",
    "                        'Заработано':'total_score', \n",
    "                        'Город':'city', \n",
    "                        'Платежная система':'payment_system'})"
   ]
  },
  {
   "cell_type": "code",
   "execution_count": 16,
   "metadata": {},
   "outputs": [
    {
     "data": {
      "text/html": [
       "<div>\n",
       "<style scoped>\n",
       "    .dataframe tbody tr th:only-of-type {\n",
       "        vertical-align: middle;\n",
       "    }\n",
       "\n",
       "    .dataframe tbody tr th {\n",
       "        vertical-align: top;\n",
       "    }\n",
       "\n",
       "    .dataframe thead th {\n",
       "        text-align: right;\n",
       "    }\n",
       "</style>\n",
       "<table border=\"1\" class=\"dataframe\">\n",
       "  <thead>\n",
       "    <tr style=\"text-align: right;\">\n",
       "      <th></th>\n",
       "      <th>number</th>\n",
       "      <th>create_date</th>\n",
       "      <th>payment_date</th>\n",
       "      <th>title</th>\n",
       "      <th>status</th>\n",
       "      <th>total_score</th>\n",
       "      <th>city</th>\n",
       "      <th>payment_system</th>\n",
       "    </tr>\n",
       "  </thead>\n",
       "  <tbody>\n",
       "    <tr>\n",
       "      <th>0</th>\n",
       "      <td>1062823</td>\n",
       "      <td>01.12.2019 10:50</td>\n",
       "      <td>01.12.2019 10:52</td>\n",
       "      <td>Курс обучения «Эксперт»</td>\n",
       "      <td>Завершен</td>\n",
       "      <td>29597.5</td>\n",
       "      <td>Чита</td>\n",
       "      <td>Сбербанк эквайринг</td>\n",
       "    </tr>\n",
       "    <tr>\n",
       "      <th>1</th>\n",
       "      <td>1062855</td>\n",
       "      <td>01.12.2019 20:53</td>\n",
       "      <td>01.12.2019 21:27</td>\n",
       "      <td>Курс обучения «Эксперт»</td>\n",
       "      <td>Завершен</td>\n",
       "      <td>17450.3</td>\n",
       "      <td>Краснодар</td>\n",
       "      <td>Яндекс.Касса</td>\n",
       "    </tr>\n",
       "    <tr>\n",
       "      <th>2</th>\n",
       "      <td>1062856</td>\n",
       "      <td>01.12.2019 21:43</td>\n",
       "      <td>NaN</td>\n",
       "      <td>Курс обучения «Специалист»</td>\n",
       "      <td>Отменен</td>\n",
       "      <td>0.0</td>\n",
       "      <td>NaN</td>\n",
       "      <td>NaN</td>\n",
       "    </tr>\n",
       "    <tr>\n",
       "      <th>3</th>\n",
       "      <td>1062880</td>\n",
       "      <td>03.12.2019 0:18</td>\n",
       "      <td>NaN</td>\n",
       "      <td>Курс обучения «Консультант»</td>\n",
       "      <td>Отменен</td>\n",
       "      <td>0.0</td>\n",
       "      <td>г.Москва и Московская область</td>\n",
       "      <td>NaN</td>\n",
       "    </tr>\n",
       "    <tr>\n",
       "      <th>4</th>\n",
       "      <td>1062899</td>\n",
       "      <td>03.12.2019 21:43</td>\n",
       "      <td>NaN</td>\n",
       "      <td>Курс обучения «Эксперт»</td>\n",
       "      <td>Отменен</td>\n",
       "      <td>0.0</td>\n",
       "      <td>г.Москва и Московская область</td>\n",
       "      <td>NaN</td>\n",
       "    </tr>\n",
       "  </tbody>\n",
       "</table>\n",
       "</div>"
      ],
      "text/plain": [
       "    number       create_date      payment_date                        title  \\\n",
       "0  1062823  01.12.2019 10:50  01.12.2019 10:52      Курс обучения «Эксперт»   \n",
       "1  1062855  01.12.2019 20:53  01.12.2019 21:27      Курс обучения «Эксперт»   \n",
       "2  1062856  01.12.2019 21:43               NaN   Курс обучения «Специалист»   \n",
       "3  1062880   03.12.2019 0:18               NaN  Курс обучения «Консультант»   \n",
       "4  1062899  03.12.2019 21:43               NaN      Курс обучения «Эксперт»   \n",
       "\n",
       "     status  total_score                           city      payment_system  \n",
       "0  Завершен      29597.5                           Чита  Сбербанк эквайринг  \n",
       "1  Завершен      17450.3                      Краснодар        Яндекс.Касса  \n",
       "2   Отменен          0.0                            NaN                 NaN  \n",
       "3   Отменен          0.0  г.Москва и Московская область                 NaN  \n",
       "4   Отменен          0.0  г.Москва и Московская область                 NaN  "
      ]
     },
     "execution_count": 16,
     "metadata": {},
     "output_type": "execute_result"
    }
   ],
   "source": [
    "df.head()"
   ]
  },
  {
   "cell_type": "code",
   "execution_count": 18,
   "metadata": {},
   "outputs": [
    {
     "data": {
      "text/plain": [
       "992103.59"
      ]
     },
     "execution_count": 18,
     "metadata": {},
     "output_type": "execute_result"
    }
   ],
   "source": [
    "round(df.total_score.sum(),2)"
   ]
  },
  {
   "cell_type": "code",
   "execution_count": 351,
   "metadata": {},
   "outputs": [],
   "source": [
    "df = pd.read_csv('C:/Users/lybov/Downloads/data.csv')"
   ]
  },
  {
   "cell_type": "code",
   "execution_count": 331,
   "metadata": {},
   "outputs": [
    {
     "data": {
      "text/html": [
       "<div>\n",
       "<style scoped>\n",
       "    .dataframe tbody tr th:only-of-type {\n",
       "        vertical-align: middle;\n",
       "    }\n",
       "\n",
       "    .dataframe tbody tr th {\n",
       "        vertical-align: top;\n",
       "    }\n",
       "\n",
       "    .dataframe thead th {\n",
       "        text-align: right;\n",
       "    }\n",
       "</style>\n",
       "<table border=\"1\" class=\"dataframe\">\n",
       "  <thead>\n",
       "    <tr style=\"text-align: right;\">\n",
       "      <th></th>\n",
       "      <th>match_id</th>\n",
       "      <th>start_time</th>\n",
       "      <th>win</th>\n",
       "      <th>hero_id</th>\n",
       "      <th>account_id</th>\n",
       "      <th>leaguename</th>\n",
       "    </tr>\n",
       "  </thead>\n",
       "  <tbody>\n",
       "    <tr>\n",
       "      <th>0</th>\n",
       "      <td>7179178843</td>\n",
       "      <td>1685505859</td>\n",
       "      <td>False</td>\n",
       "      <td>86</td>\n",
       "      <td>992327405</td>\n",
       "      <td>Destiny league</td>\n",
       "    </tr>\n",
       "    <tr>\n",
       "      <th>1</th>\n",
       "      <td>7179178843</td>\n",
       "      <td>1685505859</td>\n",
       "      <td>False</td>\n",
       "      <td>128</td>\n",
       "      <td>162724090</td>\n",
       "      <td>Destiny league</td>\n",
       "    </tr>\n",
       "    <tr>\n",
       "      <th>2</th>\n",
       "      <td>7179178843</td>\n",
       "      <td>1685505859</td>\n",
       "      <td>False</td>\n",
       "      <td>17</td>\n",
       "      <td>1232094007</td>\n",
       "      <td>Destiny league</td>\n",
       "    </tr>\n",
       "    <tr>\n",
       "      <th>3</th>\n",
       "      <td>7179178843</td>\n",
       "      <td>1685505859</td>\n",
       "      <td>False</td>\n",
       "      <td>41</td>\n",
       "      <td>1170923497</td>\n",
       "      <td>Destiny league</td>\n",
       "    </tr>\n",
       "    <tr>\n",
       "      <th>4</th>\n",
       "      <td>7179178843</td>\n",
       "      <td>1685505859</td>\n",
       "      <td>False</td>\n",
       "      <td>38</td>\n",
       "      <td>202984325</td>\n",
       "      <td>Destiny league</td>\n",
       "    </tr>\n",
       "  </tbody>\n",
       "</table>\n",
       "</div>"
      ],
      "text/plain": [
       "     match_id  start_time    win  hero_id  account_id      leaguename\n",
       "0  7179178843  1685505859  False       86   992327405  Destiny league\n",
       "1  7179178843  1685505859  False      128   162724090  Destiny league\n",
       "2  7179178843  1685505859  False       17  1232094007  Destiny league\n",
       "3  7179178843  1685505859  False       41  1170923497  Destiny league\n",
       "4  7179178843  1685505859  False       38   202984325  Destiny league"
      ]
     },
     "execution_count": 331,
     "metadata": {},
     "output_type": "execute_result"
    }
   ],
   "source": [
    "df.head()"
   ]
  },
  {
   "cell_type": "code",
   "execution_count": 4,
   "metadata": {},
   "outputs": [
    {
     "data": {
      "text/plain": [
       "match_id       int64\n",
       "start_time     int64\n",
       "win             bool\n",
       "hero_id        int64\n",
       "account_id     int64\n",
       "leaguename    object\n",
       "dtype: object"
      ]
     },
     "execution_count": 4,
     "metadata": {},
     "output_type": "execute_result"
    }
   ],
   "source": [
    "df.dtypes"
   ]
  },
  {
   "cell_type": "code",
   "execution_count": 103,
   "metadata": {},
   "outputs": [
    {
     "data": {
      "text/plain": [
       "100"
      ]
     },
     "execution_count": 103,
     "metadata": {},
     "output_type": "execute_result"
    }
   ],
   "source": [
    "df.win.sum()"
   ]
  },
  {
   "cell_type": "code",
   "execution_count": 105,
   "metadata": {},
   "outputs": [
    {
     "data": {
      "text/html": [
       "<div>\n",
       "<style scoped>\n",
       "    .dataframe tbody tr th:only-of-type {\n",
       "        vertical-align: middle;\n",
       "    }\n",
       "\n",
       "    .dataframe tbody tr th {\n",
       "        vertical-align: top;\n",
       "    }\n",
       "\n",
       "    .dataframe thead th {\n",
       "        text-align: right;\n",
       "    }\n",
       "</style>\n",
       "<table border=\"1\" class=\"dataframe\">\n",
       "  <thead>\n",
       "    <tr style=\"text-align: right;\">\n",
       "      <th></th>\n",
       "      <th>match_id</th>\n",
       "      <th>start_time</th>\n",
       "      <th>hero_id</th>\n",
       "      <th>account_id</th>\n",
       "    </tr>\n",
       "  </thead>\n",
       "  <tbody>\n",
       "    <tr>\n",
       "      <th>count</th>\n",
       "      <td>2.000000e+02</td>\n",
       "      <td>2.000000e+02</td>\n",
       "      <td>200.000000</td>\n",
       "      <td>2.000000e+02</td>\n",
       "    </tr>\n",
       "    <tr>\n",
       "      <th>mean</th>\n",
       "      <td>7.179271e+09</td>\n",
       "      <td>1.685514e+09</td>\n",
       "      <td>66.595000</td>\n",
       "      <td>9.051761e+08</td>\n",
       "    </tr>\n",
       "    <tr>\n",
       "      <th>std</th>\n",
       "      <td>5.714607e+04</td>\n",
       "      <td>4.716808e+03</td>\n",
       "      <td>39.864859</td>\n",
       "      <td>5.755590e+08</td>\n",
       "    </tr>\n",
       "    <tr>\n",
       "      <th>min</th>\n",
       "      <td>7.179179e+09</td>\n",
       "      <td>1.685506e+09</td>\n",
       "      <td>3.000000</td>\n",
       "      <td>3.165951e+06</td>\n",
       "    </tr>\n",
       "    <tr>\n",
       "      <th>25%</th>\n",
       "      <td>7.179219e+09</td>\n",
       "      <td>1.685509e+09</td>\n",
       "      <td>31.000000</td>\n",
       "      <td>2.055309e+08</td>\n",
       "    </tr>\n",
       "    <tr>\n",
       "      <th>50%</th>\n",
       "      <td>7.179267e+09</td>\n",
       "      <td>1.685514e+09</td>\n",
       "      <td>71.000000</td>\n",
       "      <td>1.093667e+09</td>\n",
       "    </tr>\n",
       "    <tr>\n",
       "      <th>75%</th>\n",
       "      <td>7.179314e+09</td>\n",
       "      <td>1.685518e+09</td>\n",
       "      <td>101.000000</td>\n",
       "      <td>1.499725e+09</td>\n",
       "    </tr>\n",
       "    <tr>\n",
       "      <th>max</th>\n",
       "      <td>7.179368e+09</td>\n",
       "      <td>1.685521e+09</td>\n",
       "      <td>137.000000</td>\n",
       "      <td>1.543901e+09</td>\n",
       "    </tr>\n",
       "  </tbody>\n",
       "</table>\n",
       "</div>"
      ],
      "text/plain": [
       "           match_id    start_time     hero_id    account_id\n",
       "count  2.000000e+02  2.000000e+02  200.000000  2.000000e+02\n",
       "mean   7.179271e+09  1.685514e+09   66.595000  9.051761e+08\n",
       "std    5.714607e+04  4.716808e+03   39.864859  5.755590e+08\n",
       "min    7.179179e+09  1.685506e+09    3.000000  3.165951e+06\n",
       "25%    7.179219e+09  1.685509e+09   31.000000  2.055309e+08\n",
       "50%    7.179267e+09  1.685514e+09   71.000000  1.093667e+09\n",
       "75%    7.179314e+09  1.685518e+09  101.000000  1.499725e+09\n",
       "max    7.179368e+09  1.685521e+09  137.000000  1.543901e+09"
      ]
     },
     "execution_count": 105,
     "metadata": {},
     "output_type": "execute_result"
    }
   ],
   "source": [
    "df"
   ]
  },
  {
   "cell_type": "code",
   "execution_count": 108,
   "metadata": {
    "scrolled": true
   },
   "outputs": [
    {
     "data": {
      "text/plain": [
       "match_id                                           717927094405\n",
       "start_time                                         168551376720\n",
       "win                                                         100\n",
       "hero_id                                                    6435\n",
       "account_id                                          92714711309\n",
       "leaguename    Destiny leagueDestiny leagueDestiny leagueDest...\n",
       "dtype: object"
      ]
     },
     "execution_count": 108,
     "metadata": {},
     "output_type": "execute_result"
    }
   ],
   "source": [
    "df.query(\"win == True\").sum()"
   ]
  },
  {
   "cell_type": "code",
   "execution_count": 111,
   "metadata": {},
   "outputs": [
    {
     "data": {
      "text/html": [
       "<div>\n",
       "<style scoped>\n",
       "    .dataframe tbody tr th:only-of-type {\n",
       "        vertical-align: middle;\n",
       "    }\n",
       "\n",
       "    .dataframe tbody tr th {\n",
       "        vertical-align: top;\n",
       "    }\n",
       "\n",
       "    .dataframe thead th {\n",
       "        text-align: right;\n",
       "    }\n",
       "</style>\n",
       "<table border=\"1\" class=\"dataframe\">\n",
       "  <thead>\n",
       "    <tr style=\"text-align: right;\">\n",
       "      <th></th>\n",
       "      <th>match_id</th>\n",
       "      <th>start_time</th>\n",
       "      <th>win</th>\n",
       "      <th>hero_id</th>\n",
       "      <th>account_id</th>\n",
       "      <th>leaguename</th>\n",
       "    </tr>\n",
       "  </thead>\n",
       "  <tbody>\n",
       "    <tr>\n",
       "      <th>5</th>\n",
       "      <td>7179178843</td>\n",
       "      <td>1685505859</td>\n",
       "      <td>True</td>\n",
       "      <td>51</td>\n",
       "      <td>1216609165</td>\n",
       "      <td>Destiny league</td>\n",
       "    </tr>\n",
       "    <tr>\n",
       "      <th>6</th>\n",
       "      <td>7179178843</td>\n",
       "      <td>1685505859</td>\n",
       "      <td>True</td>\n",
       "      <td>11</td>\n",
       "      <td>1083977859</td>\n",
       "      <td>Destiny league</td>\n",
       "    </tr>\n",
       "    <tr>\n",
       "      <th>7</th>\n",
       "      <td>7179178843</td>\n",
       "      <td>1685505859</td>\n",
       "      <td>True</td>\n",
       "      <td>62</td>\n",
       "      <td>1122407405</td>\n",
       "      <td>Destiny league</td>\n",
       "    </tr>\n",
       "    <tr>\n",
       "      <th>8</th>\n",
       "      <td>7179178843</td>\n",
       "      <td>1685505859</td>\n",
       "      <td>True</td>\n",
       "      <td>21</td>\n",
       "      <td>1119908658</td>\n",
       "      <td>Destiny league</td>\n",
       "    </tr>\n",
       "    <tr>\n",
       "      <th>9</th>\n",
       "      <td>7179178843</td>\n",
       "      <td>1685505859</td>\n",
       "      <td>True</td>\n",
       "      <td>3</td>\n",
       "      <td>1220632105</td>\n",
       "      <td>Destiny league</td>\n",
       "    </tr>\n",
       "    <tr>\n",
       "      <th>...</th>\n",
       "      <td>...</td>\n",
       "      <td>...</td>\n",
       "      <td>...</td>\n",
       "      <td>...</td>\n",
       "      <td>...</td>\n",
       "      <td>...</td>\n",
       "    </tr>\n",
       "    <tr>\n",
       "      <th>195</th>\n",
       "      <td>7179367595</td>\n",
       "      <td>1685521110</td>\n",
       "      <td>True</td>\n",
       "      <td>72</td>\n",
       "      <td>1427100407</td>\n",
       "      <td>Ancients League</td>\n",
       "    </tr>\n",
       "    <tr>\n",
       "      <th>196</th>\n",
       "      <td>7179367595</td>\n",
       "      <td>1685521110</td>\n",
       "      <td>True</td>\n",
       "      <td>88</td>\n",
       "      <td>1529282248</td>\n",
       "      <td>Ancients League</td>\n",
       "    </tr>\n",
       "    <tr>\n",
       "      <th>197</th>\n",
       "      <td>7179367595</td>\n",
       "      <td>1685521110</td>\n",
       "      <td>True</td>\n",
       "      <td>40</td>\n",
       "      <td>1526386891</td>\n",
       "      <td>Ancients League</td>\n",
       "    </tr>\n",
       "    <tr>\n",
       "      <th>198</th>\n",
       "      <td>7179367595</td>\n",
       "      <td>1685521110</td>\n",
       "      <td>True</td>\n",
       "      <td>87</td>\n",
       "      <td>1513040880</td>\n",
       "      <td>Ancients League</td>\n",
       "    </tr>\n",
       "    <tr>\n",
       "      <th>199</th>\n",
       "      <td>7179367595</td>\n",
       "      <td>1685521110</td>\n",
       "      <td>True</td>\n",
       "      <td>126</td>\n",
       "      <td>1517400698</td>\n",
       "      <td>Ancients League</td>\n",
       "    </tr>\n",
       "  </tbody>\n",
       "</table>\n",
       "<p>100 rows × 6 columns</p>\n",
       "</div>"
      ],
      "text/plain": [
       "       match_id  start_time   win  hero_id  account_id       leaguename\n",
       "5    7179178843  1685505859  True       51  1216609165   Destiny league\n",
       "6    7179178843  1685505859  True       11  1083977859   Destiny league\n",
       "7    7179178843  1685505859  True       62  1122407405   Destiny league\n",
       "8    7179178843  1685505859  True       21  1119908658   Destiny league\n",
       "9    7179178843  1685505859  True        3  1220632105   Destiny league\n",
       "..          ...         ...   ...      ...         ...              ...\n",
       "195  7179367595  1685521110  True       72  1427100407  Ancients League\n",
       "196  7179367595  1685521110  True       88  1529282248  Ancients League\n",
       "197  7179367595  1685521110  True       40  1526386891  Ancients League\n",
       "198  7179367595  1685521110  True       87  1513040880  Ancients League\n",
       "199  7179367595  1685521110  True      126  1517400698  Ancients League\n",
       "\n",
       "[100 rows x 6 columns]"
      ]
     },
     "execution_count": 111,
     "metadata": {},
     "output_type": "execute_result"
    }
   ],
   "source": [
    "df.loc[df['win']]"
   ]
  },
  {
   "cell_type": "code",
   "execution_count": 150,
   "metadata": {
    "scrolled": true
   },
   "outputs": [
    {
     "data": {
      "text/html": [
       "<div>\n",
       "<style scoped>\n",
       "    .dataframe tbody tr th:only-of-type {\n",
       "        vertical-align: middle;\n",
       "    }\n",
       "\n",
       "    .dataframe tbody tr th {\n",
       "        vertical-align: top;\n",
       "    }\n",
       "\n",
       "    .dataframe thead th {\n",
       "        text-align: right;\n",
       "    }\n",
       "</style>\n",
       "<table border=\"1\" class=\"dataframe\">\n",
       "  <thead>\n",
       "    <tr style=\"text-align: right;\">\n",
       "      <th></th>\n",
       "      <th>leaguename</th>\n",
       "      <th>win</th>\n",
       "    </tr>\n",
       "  </thead>\n",
       "  <tbody>\n",
       "    <tr>\n",
       "      <th>0</th>\n",
       "      <td>Ancients League</td>\n",
       "      <td>35</td>\n",
       "    </tr>\n",
       "    <tr>\n",
       "      <th>1</th>\n",
       "      <td>DPC 2023 SEA Summer Tour Division I - presente...</td>\n",
       "      <td>15</td>\n",
       "    </tr>\n",
       "    <tr>\n",
       "      <th>2</th>\n",
       "      <td>Destiny league</td>\n",
       "      <td>30</td>\n",
       "    </tr>\n",
       "    <tr>\n",
       "      <th>3</th>\n",
       "      <td>ESportsBattle | DOTA2 SC8</td>\n",
       "      <td>15</td>\n",
       "    </tr>\n",
       "    <tr>\n",
       "      <th>4</th>\n",
       "      <td>Pinnacle Cup: Malta Vibes #2</td>\n",
       "      <td>5</td>\n",
       "    </tr>\n",
       "  </tbody>\n",
       "</table>\n",
       "</div>"
      ],
      "text/plain": [
       "                                          leaguename  win\n",
       "0                                    Ancients League   35\n",
       "1  DPC 2023 SEA Summer Tour Division I - presente...   15\n",
       "2                                     Destiny league   30\n",
       "3                          ESportsBattle | DOTA2 SC8   15\n",
       "4                       Pinnacle Cup: Malta Vibes #2    5"
      ]
     },
     "execution_count": 150,
     "metadata": {},
     "output_type": "execute_result"
    }
   ],
   "source": [
    "df.query(\"win == True\") \\\n",
    "    .groupby(['leaguename'], as_index=False) \\\n",
    "    .agg({'win': 'count'}) \\\n",
    "    .sort_values('leaguename')"
   ]
  },
  {
   "cell_type": "code",
   "execution_count": 176,
   "metadata": {},
   "outputs": [
    {
     "data": {
      "text/html": [
       "<div>\n",
       "<style scoped>\n",
       "    .dataframe tbody tr th:only-of-type {\n",
       "        vertical-align: middle;\n",
       "    }\n",
       "\n",
       "    .dataframe tbody tr th {\n",
       "        vertical-align: top;\n",
       "    }\n",
       "\n",
       "    .dataframe thead th {\n",
       "        text-align: right;\n",
       "    }\n",
       "</style>\n",
       "<table border=\"1\" class=\"dataframe\">\n",
       "  <thead>\n",
       "    <tr style=\"text-align: right;\">\n",
       "      <th></th>\n",
       "      <th>leaguename</th>\n",
       "      <th>win</th>\n",
       "    </tr>\n",
       "  </thead>\n",
       "  <tbody>\n",
       "    <tr>\n",
       "      <th>0</th>\n",
       "      <td>Ancients League</td>\n",
       "      <td>35</td>\n",
       "    </tr>\n",
       "    <tr>\n",
       "      <th>1</th>\n",
       "      <td>Ancients League</td>\n",
       "      <td>35</td>\n",
       "    </tr>\n",
       "    <tr>\n",
       "      <th>4</th>\n",
       "      <td>Destiny league</td>\n",
       "      <td>30</td>\n",
       "    </tr>\n",
       "    <tr>\n",
       "      <th>5</th>\n",
       "      <td>Destiny league</td>\n",
       "      <td>30</td>\n",
       "    </tr>\n",
       "    <tr>\n",
       "      <th>2</th>\n",
       "      <td>DPC 2023 SEA Summer Tour Division I - presente...</td>\n",
       "      <td>15</td>\n",
       "    </tr>\n",
       "    <tr>\n",
       "      <th>3</th>\n",
       "      <td>DPC 2023 SEA Summer Tour Division I - presente...</td>\n",
       "      <td>15</td>\n",
       "    </tr>\n",
       "    <tr>\n",
       "      <th>6</th>\n",
       "      <td>ESportsBattle | DOTA2 SC8</td>\n",
       "      <td>15</td>\n",
       "    </tr>\n",
       "    <tr>\n",
       "      <th>7</th>\n",
       "      <td>ESportsBattle | DOTA2 SC8</td>\n",
       "      <td>15</td>\n",
       "    </tr>\n",
       "    <tr>\n",
       "      <th>8</th>\n",
       "      <td>Pinnacle Cup: Malta Vibes #2</td>\n",
       "      <td>5</td>\n",
       "    </tr>\n",
       "    <tr>\n",
       "      <th>9</th>\n",
       "      <td>Pinnacle Cup: Malta Vibes #2</td>\n",
       "      <td>5</td>\n",
       "    </tr>\n",
       "  </tbody>\n",
       "</table>\n",
       "</div>"
      ],
      "text/plain": [
       "                                          leaguename  win\n",
       "0                                    Ancients League   35\n",
       "1                                    Ancients League   35\n",
       "4                                     Destiny league   30\n",
       "5                                     Destiny league   30\n",
       "2  DPC 2023 SEA Summer Tour Division I - presente...   15\n",
       "3  DPC 2023 SEA Summer Tour Division I - presente...   15\n",
       "6                          ESportsBattle | DOTA2 SC8   15\n",
       "7                          ESportsBattle | DOTA2 SC8   15\n",
       "8                       Pinnacle Cup: Malta Vibes #2    5\n",
       "9                       Pinnacle Cup: Malta Vibes #2    5"
      ]
     },
     "execution_count": 176,
     "metadata": {},
     "output_type": "execute_result"
    }
   ],
   "source": [
    "df.groupby(['leaguename', 'win'], as_index=False) \\\n",
    "    .agg({'win': 'count'}) \\\n",
    "    .sort_values('win', ascending=False)"
   ]
  },
  {
   "cell_type": "code",
   "execution_count": 170,
   "metadata": {},
   "outputs": [
    {
     "data": {
      "text/plain": [
       "35"
      ]
     },
     "execution_count": 170,
     "metadata": {},
     "output_type": "execute_result"
    }
   ],
   "source": [
    "df.query('leaguename == \"Ancients League\" and win == True').shape[0]"
   ]
  },
  {
   "cell_type": "code",
   "execution_count": 180,
   "metadata": {},
   "outputs": [],
   "source": [
    "def t(liar_win):\n",
    "    return df.win+100"
   ]
  },
  {
   "cell_type": "code",
   "execution_count": 181,
   "metadata": {},
   "outputs": [],
   "source": [
    "liar_win = df.win"
   ]
  },
  {
   "cell_type": "code",
   "execution_count": 183,
   "metadata": {},
   "outputs": [],
   "source": [
    "df['qwe'] = t(liar_win)"
   ]
  },
  {
   "cell_type": "code",
   "execution_count": 184,
   "metadata": {},
   "outputs": [
    {
     "data": {
      "text/html": [
       "<div>\n",
       "<style scoped>\n",
       "    .dataframe tbody tr th:only-of-type {\n",
       "        vertical-align: middle;\n",
       "    }\n",
       "\n",
       "    .dataframe tbody tr th {\n",
       "        vertical-align: top;\n",
       "    }\n",
       "\n",
       "    .dataframe thead th {\n",
       "        text-align: right;\n",
       "    }\n",
       "</style>\n",
       "<table border=\"1\" class=\"dataframe\">\n",
       "  <thead>\n",
       "    <tr style=\"text-align: right;\">\n",
       "      <th></th>\n",
       "      <th>match_id</th>\n",
       "      <th>start_time</th>\n",
       "      <th>win</th>\n",
       "      <th>hero_id</th>\n",
       "      <th>account_id</th>\n",
       "      <th>leaguename</th>\n",
       "      <th>qwe</th>\n",
       "    </tr>\n",
       "  </thead>\n",
       "  <tbody>\n",
       "    <tr>\n",
       "      <th>0</th>\n",
       "      <td>7179178843</td>\n",
       "      <td>1685505859</td>\n",
       "      <td>False</td>\n",
       "      <td>86</td>\n",
       "      <td>992327405</td>\n",
       "      <td>Destiny league</td>\n",
       "      <td>100</td>\n",
       "    </tr>\n",
       "    <tr>\n",
       "      <th>1</th>\n",
       "      <td>7179178843</td>\n",
       "      <td>1685505859</td>\n",
       "      <td>False</td>\n",
       "      <td>128</td>\n",
       "      <td>162724090</td>\n",
       "      <td>Destiny league</td>\n",
       "      <td>100</td>\n",
       "    </tr>\n",
       "    <tr>\n",
       "      <th>2</th>\n",
       "      <td>7179178843</td>\n",
       "      <td>1685505859</td>\n",
       "      <td>False</td>\n",
       "      <td>17</td>\n",
       "      <td>1232094007</td>\n",
       "      <td>Destiny league</td>\n",
       "      <td>100</td>\n",
       "    </tr>\n",
       "    <tr>\n",
       "      <th>3</th>\n",
       "      <td>7179178843</td>\n",
       "      <td>1685505859</td>\n",
       "      <td>False</td>\n",
       "      <td>41</td>\n",
       "      <td>1170923497</td>\n",
       "      <td>Destiny league</td>\n",
       "      <td>100</td>\n",
       "    </tr>\n",
       "    <tr>\n",
       "      <th>4</th>\n",
       "      <td>7179178843</td>\n",
       "      <td>1685505859</td>\n",
       "      <td>False</td>\n",
       "      <td>38</td>\n",
       "      <td>202984325</td>\n",
       "      <td>Destiny league</td>\n",
       "      <td>100</td>\n",
       "    </tr>\n",
       "    <tr>\n",
       "      <th>...</th>\n",
       "      <td>...</td>\n",
       "      <td>...</td>\n",
       "      <td>...</td>\n",
       "      <td>...</td>\n",
       "      <td>...</td>\n",
       "      <td>...</td>\n",
       "      <td>...</td>\n",
       "    </tr>\n",
       "    <tr>\n",
       "      <th>195</th>\n",
       "      <td>7179367595</td>\n",
       "      <td>1685521110</td>\n",
       "      <td>True</td>\n",
       "      <td>72</td>\n",
       "      <td>1427100407</td>\n",
       "      <td>Ancients League</td>\n",
       "      <td>101</td>\n",
       "    </tr>\n",
       "    <tr>\n",
       "      <th>196</th>\n",
       "      <td>7179367595</td>\n",
       "      <td>1685521110</td>\n",
       "      <td>True</td>\n",
       "      <td>88</td>\n",
       "      <td>1529282248</td>\n",
       "      <td>Ancients League</td>\n",
       "      <td>101</td>\n",
       "    </tr>\n",
       "    <tr>\n",
       "      <th>197</th>\n",
       "      <td>7179367595</td>\n",
       "      <td>1685521110</td>\n",
       "      <td>True</td>\n",
       "      <td>40</td>\n",
       "      <td>1526386891</td>\n",
       "      <td>Ancients League</td>\n",
       "      <td>101</td>\n",
       "    </tr>\n",
       "    <tr>\n",
       "      <th>198</th>\n",
       "      <td>7179367595</td>\n",
       "      <td>1685521110</td>\n",
       "      <td>True</td>\n",
       "      <td>87</td>\n",
       "      <td>1513040880</td>\n",
       "      <td>Ancients League</td>\n",
       "      <td>101</td>\n",
       "    </tr>\n",
       "    <tr>\n",
       "      <th>199</th>\n",
       "      <td>7179367595</td>\n",
       "      <td>1685521110</td>\n",
       "      <td>True</td>\n",
       "      <td>126</td>\n",
       "      <td>1517400698</td>\n",
       "      <td>Ancients League</td>\n",
       "      <td>101</td>\n",
       "    </tr>\n",
       "  </tbody>\n",
       "</table>\n",
       "<p>200 rows × 7 columns</p>\n",
       "</div>"
      ],
      "text/plain": [
       "       match_id  start_time    win  hero_id  account_id       leaguename  qwe\n",
       "0    7179178843  1685505859  False       86   992327405   Destiny league  100\n",
       "1    7179178843  1685505859  False      128   162724090   Destiny league  100\n",
       "2    7179178843  1685505859  False       17  1232094007   Destiny league  100\n",
       "3    7179178843  1685505859  False       41  1170923497   Destiny league  100\n",
       "4    7179178843  1685505859  False       38   202984325   Destiny league  100\n",
       "..          ...         ...    ...      ...         ...              ...  ...\n",
       "195  7179367595  1685521110   True       72  1427100407  Ancients League  101\n",
       "196  7179367595  1685521110   True       88  1529282248  Ancients League  101\n",
       "197  7179367595  1685521110   True       40  1526386891  Ancients League  101\n",
       "198  7179367595  1685521110   True       87  1513040880  Ancients League  101\n",
       "199  7179367595  1685521110   True      126  1517400698  Ancients League  101\n",
       "\n",
       "[200 rows x 7 columns]"
      ]
     },
     "execution_count": 184,
     "metadata": {},
     "output_type": "execute_result"
    }
   ],
   "source": [
    "df"
   ]
  },
  {
   "cell_type": "code",
   "execution_count": 188,
   "metadata": {
    "scrolled": true
   },
   "outputs": [
    {
     "data": {
      "text/html": [
       "<div>\n",
       "<style scoped>\n",
       "    .dataframe tbody tr th:only-of-type {\n",
       "        vertical-align: middle;\n",
       "    }\n",
       "\n",
       "    .dataframe tbody tr th {\n",
       "        vertical-align: top;\n",
       "    }\n",
       "\n",
       "    .dataframe thead th {\n",
       "        text-align: right;\n",
       "    }\n",
       "</style>\n",
       "<table border=\"1\" class=\"dataframe\">\n",
       "  <thead>\n",
       "    <tr style=\"text-align: right;\">\n",
       "      <th></th>\n",
       "      <th>match_id</th>\n",
       "      <th>start_time</th>\n",
       "      <th>win</th>\n",
       "      <th>hero_id</th>\n",
       "      <th>account_id</th>\n",
       "      <th>leaguename</th>\n",
       "    </tr>\n",
       "  </thead>\n",
       "  <tbody>\n",
       "    <tr>\n",
       "      <th>0</th>\n",
       "      <td>7179178843</td>\n",
       "      <td>1685505859</td>\n",
       "      <td>False</td>\n",
       "      <td>86</td>\n",
       "      <td>992327405</td>\n",
       "      <td>Destiny league</td>\n",
       "    </tr>\n",
       "    <tr>\n",
       "      <th>1</th>\n",
       "      <td>7179178843</td>\n",
       "      <td>1685505859</td>\n",
       "      <td>False</td>\n",
       "      <td>128</td>\n",
       "      <td>162724090</td>\n",
       "      <td>Destiny league</td>\n",
       "    </tr>\n",
       "    <tr>\n",
       "      <th>2</th>\n",
       "      <td>7179178843</td>\n",
       "      <td>1685505859</td>\n",
       "      <td>False</td>\n",
       "      <td>17</td>\n",
       "      <td>1232094007</td>\n",
       "      <td>Destiny league</td>\n",
       "    </tr>\n",
       "    <tr>\n",
       "      <th>3</th>\n",
       "      <td>7179178843</td>\n",
       "      <td>1685505859</td>\n",
       "      <td>False</td>\n",
       "      <td>41</td>\n",
       "      <td>1170923497</td>\n",
       "      <td>Destiny league</td>\n",
       "    </tr>\n",
       "    <tr>\n",
       "      <th>4</th>\n",
       "      <td>7179178843</td>\n",
       "      <td>1685505859</td>\n",
       "      <td>False</td>\n",
       "      <td>38</td>\n",
       "      <td>202984325</td>\n",
       "      <td>Destiny league</td>\n",
       "    </tr>\n",
       "  </tbody>\n",
       "</table>\n",
       "</div>"
      ],
      "text/plain": [
       "     match_id  start_time    win  hero_id  account_id      leaguename\n",
       "0  7179178843  1685505859  False       86   992327405  Destiny league\n",
       "1  7179178843  1685505859  False      128   162724090  Destiny league\n",
       "2  7179178843  1685505859  False       17  1232094007  Destiny league\n",
       "3  7179178843  1685505859  False       41  1170923497  Destiny league\n",
       "4  7179178843  1685505859  False       38   202984325  Destiny league"
      ]
     },
     "execution_count": 188,
     "metadata": {},
     "output_type": "execute_result"
    }
   ],
   "source": [
    "df = df.drop(columns=['qwe'])\n",
    "df.head()"
   ]
  },
  {
   "cell_type": "code",
   "execution_count": 192,
   "metadata": {},
   "outputs": [],
   "source": [
    "def to_upper_underscore(a):\n",
    "    a=a.upper().replace('_', ' ')\n",
    "    return a"
   ]
  },
  {
   "cell_type": "code",
   "execution_count": 193,
   "metadata": {},
   "outputs": [
    {
     "data": {
      "text/plain": [
       "'MATCH ID'"
      ]
     },
     "execution_count": 193,
     "metadata": {},
     "output_type": "execute_result"
    }
   ],
   "source": [
    "to_upper_underscore('match_id')"
   ]
  },
  {
   "cell_type": "code",
   "execution_count": null,
   "metadata": {},
   "outputs": [],
   "source": []
  },
  {
   "cell_type": "code",
   "execution_count": 190,
   "metadata": {},
   "outputs": [
    {
     "data": {
      "text/plain": [
       "'MATCH_ID'"
      ]
     },
     "execution_count": 190,
     "metadata": {},
     "output_type": "execute_result"
    }
   ],
   "source": [
    "'match_id'.upper()"
   ]
  },
  {
   "cell_type": "code",
   "execution_count": 191,
   "metadata": {},
   "outputs": [
    {
     "data": {
      "text/plain": [
       "'match id'"
      ]
     },
     "execution_count": 191,
     "metadata": {},
     "output_type": "execute_result"
    }
   ],
   "source": [
    "'match_id'.replace('_', ' ')"
   ]
  },
  {
   "cell_type": "code",
   "execution_count": 195,
   "metadata": {
    "scrolled": true
   },
   "outputs": [
    {
     "data": {
      "text/html": [
       "<div>\n",
       "<style scoped>\n",
       "    .dataframe tbody tr th:only-of-type {\n",
       "        vertical-align: middle;\n",
       "    }\n",
       "\n",
       "    .dataframe tbody tr th {\n",
       "        vertical-align: top;\n",
       "    }\n",
       "\n",
       "    .dataframe thead th {\n",
       "        text-align: right;\n",
       "    }\n",
       "</style>\n",
       "<table border=\"1\" class=\"dataframe\">\n",
       "  <thead>\n",
       "    <tr style=\"text-align: right;\">\n",
       "      <th></th>\n",
       "      <th>MATCH ID</th>\n",
       "      <th>START TIME</th>\n",
       "      <th>WIN</th>\n",
       "      <th>HERO ID</th>\n",
       "      <th>ACCOUNT ID</th>\n",
       "      <th>LEAGUENAME</th>\n",
       "    </tr>\n",
       "  </thead>\n",
       "  <tbody>\n",
       "    <tr>\n",
       "      <th>0</th>\n",
       "      <td>7179178843</td>\n",
       "      <td>1685505859</td>\n",
       "      <td>False</td>\n",
       "      <td>86</td>\n",
       "      <td>992327405</td>\n",
       "      <td>Destiny league</td>\n",
       "    </tr>\n",
       "    <tr>\n",
       "      <th>1</th>\n",
       "      <td>7179178843</td>\n",
       "      <td>1685505859</td>\n",
       "      <td>False</td>\n",
       "      <td>128</td>\n",
       "      <td>162724090</td>\n",
       "      <td>Destiny league</td>\n",
       "    </tr>\n",
       "    <tr>\n",
       "      <th>2</th>\n",
       "      <td>7179178843</td>\n",
       "      <td>1685505859</td>\n",
       "      <td>False</td>\n",
       "      <td>17</td>\n",
       "      <td>1232094007</td>\n",
       "      <td>Destiny league</td>\n",
       "    </tr>\n",
       "    <tr>\n",
       "      <th>3</th>\n",
       "      <td>7179178843</td>\n",
       "      <td>1685505859</td>\n",
       "      <td>False</td>\n",
       "      <td>41</td>\n",
       "      <td>1170923497</td>\n",
       "      <td>Destiny league</td>\n",
       "    </tr>\n",
       "    <tr>\n",
       "      <th>4</th>\n",
       "      <td>7179178843</td>\n",
       "      <td>1685505859</td>\n",
       "      <td>False</td>\n",
       "      <td>38</td>\n",
       "      <td>202984325</td>\n",
       "      <td>Destiny league</td>\n",
       "    </tr>\n",
       "  </tbody>\n",
       "</table>\n",
       "</div>"
      ],
      "text/plain": [
       "     MATCH ID  START TIME    WIN  HERO ID  ACCOUNT ID      LEAGUENAME\n",
       "0  7179178843  1685505859  False       86   992327405  Destiny league\n",
       "1  7179178843  1685505859  False      128   162724090  Destiny league\n",
       "2  7179178843  1685505859  False       17  1232094007  Destiny league\n",
       "3  7179178843  1685505859  False       41  1170923497  Destiny league\n",
       "4  7179178843  1685505859  False       38   202984325  Destiny league"
      ]
     },
     "execution_count": 195,
     "metadata": {},
     "output_type": "execute_result"
    }
   ],
   "source": [
    "df.rename(columns=to_upper_underscore).head()"
   ]
  },
  {
   "cell_type": "code",
   "execution_count": 201,
   "metadata": {},
   "outputs": [
    {
     "data": {
      "text/plain": [
       "Ancients League                                              35\n",
       "Destiny league                                               30\n",
       "DPC 2023 SEA Summer Tour Division I - presented by Epulze    15\n",
       "ESportsBattle | DOTA2 SC8                                    15\n",
       "Pinnacle Cup: Malta Vibes #2                                  5\n",
       "Name: leaguename, dtype: int64"
      ]
     },
     "execution_count": 201,
     "metadata": {},
     "output_type": "execute_result"
    }
   ],
   "source": [
    "df.query('win == True') \\\n",
    "    .leaguename \\\n",
    "    .value_counts()[:5]"
   ]
  },
  {
   "cell_type": "code",
   "execution_count": 204,
   "metadata": {},
   "outputs": [
    {
     "data": {
      "text/html": [
       "<div>\n",
       "<style scoped>\n",
       "    .dataframe tbody tr th:only-of-type {\n",
       "        vertical-align: middle;\n",
       "    }\n",
       "\n",
       "    .dataframe tbody tr th {\n",
       "        vertical-align: top;\n",
       "    }\n",
       "\n",
       "    .dataframe thead th {\n",
       "        text-align: right;\n",
       "    }\n",
       "</style>\n",
       "<table border=\"1\" class=\"dataframe\">\n",
       "  <thead>\n",
       "    <tr style=\"text-align: right;\">\n",
       "      <th></th>\n",
       "      <th>match_id</th>\n",
       "      <th>start_time</th>\n",
       "    </tr>\n",
       "  </thead>\n",
       "  <tbody>\n",
       "    <tr>\n",
       "      <th>0</th>\n",
       "      <td>7179178843</td>\n",
       "      <td>1685505859</td>\n",
       "    </tr>\n",
       "    <tr>\n",
       "      <th>1</th>\n",
       "      <td>7179178843</td>\n",
       "      <td>1685505859</td>\n",
       "    </tr>\n",
       "    <tr>\n",
       "      <th>2</th>\n",
       "      <td>7179178843</td>\n",
       "      <td>1685505859</td>\n",
       "    </tr>\n",
       "    <tr>\n",
       "      <th>3</th>\n",
       "      <td>7179178843</td>\n",
       "      <td>1685505859</td>\n",
       "    </tr>\n",
       "    <tr>\n",
       "      <th>4</th>\n",
       "      <td>7179178843</td>\n",
       "      <td>1685505859</td>\n",
       "    </tr>\n",
       "  </tbody>\n",
       "</table>\n",
       "</div>"
      ],
      "text/plain": [
       "     match_id  start_time\n",
       "0  7179178843  1685505859\n",
       "1  7179178843  1685505859\n",
       "2  7179178843  1685505859\n",
       "3  7179178843  1685505859\n",
       "4  7179178843  1685505859"
      ]
     },
     "execution_count": 204,
     "metadata": {},
     "output_type": "execute_result"
    }
   ],
   "source": [
    "df[['match_id', 'start_time']].head()"
   ]
  },
  {
   "cell_type": "code",
   "execution_count": 125,
   "metadata": {},
   "outputs": [],
   "source": [
    "from datetime import datetime"
   ]
  },
  {
   "cell_type": "code",
   "execution_count": null,
   "metadata": {},
   "outputs": [],
   "source": []
  },
  {
   "cell_type": "code",
   "execution_count": 127,
   "metadata": {},
   "outputs": [],
   "source": [
    "date = datetime.today().strftime('%Y-%m-%d-%H:%M:%S')"
   ]
  },
  {
   "cell_type": "code",
   "execution_count": 128,
   "metadata": {},
   "outputs": [
    {
     "data": {
      "text/plain": [
       "'2023-06-30-14:27:49'"
      ]
     },
     "execution_count": 128,
     "metadata": {},
     "output_type": "execute_result"
    }
   ],
   "source": [
    "date"
   ]
  },
  {
   "cell_type": "code",
   "execution_count": 130,
   "metadata": {},
   "outputs": [
    {
     "name": "stdout",
     "output_type": "stream",
     "text": [
      "Full time format of now is 2023-06-30 14:28:03.883707\n"
     ]
    }
   ],
   "source": [
    "from datetime import datetime\n",
    "\n",
    "# current date and time\n",
    "now = datetime.now() \n",
    "print(f'Full time format of now is {now}')"
   ]
  },
  {
   "cell_type": "code",
   "execution_count": 133,
   "metadata": {},
   "outputs": [
    {
     "name": "stdout",
     "output_type": "stream",
     "text": [
      "year: 2023\n"
     ]
    }
   ],
   "source": [
    "y = now.strftime('%Y')\n",
    "print('year:', y)"
   ]
  },
  {
   "cell_type": "code",
   "execution_count": 137,
   "metadata": {},
   "outputs": [
    {
     "name": "stdout",
     "output_type": "stream",
     "text": [
      "year:2023\n"
     ]
    }
   ],
   "source": [
    "print(f'year:{y}')"
   ]
  },
  {
   "cell_type": "code",
   "execution_count": 147,
   "metadata": {},
   "outputs": [],
   "source": [
    "name = 'очень жарко сегодня и вообще в эти дни'"
   ]
  },
  {
   "cell_type": "code",
   "execution_count": 148,
   "metadata": {},
   "outputs": [],
   "source": [
    "def underscore(name):\n",
    "    return name.replace(' ', '_')"
   ]
  },
  {
   "cell_type": "code",
   "execution_count": 149,
   "metadata": {},
   "outputs": [
    {
     "data": {
      "text/plain": [
       "'очень_жарко_сегодня_и_вообще_в_эти_дни'"
      ]
     },
     "execution_count": 149,
     "metadata": {},
     "output_type": "execute_result"
    }
   ],
   "source": [
    "underscore(name)"
   ]
  },
  {
   "cell_type": "code",
   "execution_count": 6,
   "metadata": {},
   "outputs": [
    {
     "data": {
      "text/html": [
       "<div>\n",
       "<style scoped>\n",
       "    .dataframe tbody tr th:only-of-type {\n",
       "        vertical-align: middle;\n",
       "    }\n",
       "\n",
       "    .dataframe tbody tr th {\n",
       "        vertical-align: top;\n",
       "    }\n",
       "\n",
       "    .dataframe thead th {\n",
       "        text-align: right;\n",
       "    }\n",
       "</style>\n",
       "<table border=\"1\" class=\"dataframe\">\n",
       "  <thead>\n",
       "    <tr style=\"text-align: right;\">\n",
       "      <th></th>\n",
       "      <th>match_id</th>\n",
       "      <th>start_time</th>\n",
       "      <th>win</th>\n",
       "      <th>hero_id</th>\n",
       "      <th>account_id</th>\n",
       "      <th>leaguename</th>\n",
       "    </tr>\n",
       "  </thead>\n",
       "  <tbody>\n",
       "    <tr>\n",
       "      <th>5</th>\n",
       "      <td>7179178843</td>\n",
       "      <td>1685505859</td>\n",
       "      <td>True</td>\n",
       "      <td>51</td>\n",
       "      <td>1216609165</td>\n",
       "      <td>Destiny league</td>\n",
       "    </tr>\n",
       "    <tr>\n",
       "      <th>6</th>\n",
       "      <td>7179178843</td>\n",
       "      <td>1685505859</td>\n",
       "      <td>True</td>\n",
       "      <td>11</td>\n",
       "      <td>1083977859</td>\n",
       "      <td>Destiny league</td>\n",
       "    </tr>\n",
       "    <tr>\n",
       "      <th>7</th>\n",
       "      <td>7179178843</td>\n",
       "      <td>1685505859</td>\n",
       "      <td>True</td>\n",
       "      <td>62</td>\n",
       "      <td>1122407405</td>\n",
       "      <td>Destiny league</td>\n",
       "    </tr>\n",
       "    <tr>\n",
       "      <th>8</th>\n",
       "      <td>7179178843</td>\n",
       "      <td>1685505859</td>\n",
       "      <td>True</td>\n",
       "      <td>21</td>\n",
       "      <td>1119908658</td>\n",
       "      <td>Destiny league</td>\n",
       "    </tr>\n",
       "    <tr>\n",
       "      <th>9</th>\n",
       "      <td>7179178843</td>\n",
       "      <td>1685505859</td>\n",
       "      <td>True</td>\n",
       "      <td>3</td>\n",
       "      <td>1220632105</td>\n",
       "      <td>Destiny league</td>\n",
       "    </tr>\n",
       "    <tr>\n",
       "      <th>...</th>\n",
       "      <td>...</td>\n",
       "      <td>...</td>\n",
       "      <td>...</td>\n",
       "      <td>...</td>\n",
       "      <td>...</td>\n",
       "      <td>...</td>\n",
       "    </tr>\n",
       "    <tr>\n",
       "      <th>195</th>\n",
       "      <td>7179367595</td>\n",
       "      <td>1685521110</td>\n",
       "      <td>True</td>\n",
       "      <td>72</td>\n",
       "      <td>1427100407</td>\n",
       "      <td>Ancients League</td>\n",
       "    </tr>\n",
       "    <tr>\n",
       "      <th>196</th>\n",
       "      <td>7179367595</td>\n",
       "      <td>1685521110</td>\n",
       "      <td>True</td>\n",
       "      <td>88</td>\n",
       "      <td>1529282248</td>\n",
       "      <td>Ancients League</td>\n",
       "    </tr>\n",
       "    <tr>\n",
       "      <th>197</th>\n",
       "      <td>7179367595</td>\n",
       "      <td>1685521110</td>\n",
       "      <td>True</td>\n",
       "      <td>40</td>\n",
       "      <td>1526386891</td>\n",
       "      <td>Ancients League</td>\n",
       "    </tr>\n",
       "    <tr>\n",
       "      <th>198</th>\n",
       "      <td>7179367595</td>\n",
       "      <td>1685521110</td>\n",
       "      <td>True</td>\n",
       "      <td>87</td>\n",
       "      <td>1513040880</td>\n",
       "      <td>Ancients League</td>\n",
       "    </tr>\n",
       "    <tr>\n",
       "      <th>199</th>\n",
       "      <td>7179367595</td>\n",
       "      <td>1685521110</td>\n",
       "      <td>True</td>\n",
       "      <td>126</td>\n",
       "      <td>1517400698</td>\n",
       "      <td>Ancients League</td>\n",
       "    </tr>\n",
       "  </tbody>\n",
       "</table>\n",
       "<p>100 rows × 6 columns</p>\n",
       "</div>"
      ],
      "text/plain": [
       "       match_id  start_time   win  hero_id  account_id       leaguename\n",
       "5    7179178843  1685505859  True       51  1216609165   Destiny league\n",
       "6    7179178843  1685505859  True       11  1083977859   Destiny league\n",
       "7    7179178843  1685505859  True       62  1122407405   Destiny league\n",
       "8    7179178843  1685505859  True       21  1119908658   Destiny league\n",
       "9    7179178843  1685505859  True        3  1220632105   Destiny league\n",
       "..          ...         ...   ...      ...         ...              ...\n",
       "195  7179367595  1685521110  True       72  1427100407  Ancients League\n",
       "196  7179367595  1685521110  True       88  1529282248  Ancients League\n",
       "197  7179367595  1685521110  True       40  1526386891  Ancients League\n",
       "198  7179367595  1685521110  True       87  1513040880  Ancients League\n",
       "199  7179367595  1685521110  True      126  1517400698  Ancients League\n",
       "\n",
       "[100 rows x 6 columns]"
      ]
     },
     "execution_count": 6,
     "metadata": {},
     "output_type": "execute_result"
    }
   ],
   "source": [
    "df[df.win == True]\n",
    "#другой вид записи запроса"
   ]
  },
  {
   "cell_type": "code",
   "execution_count": 16,
   "metadata": {},
   "outputs": [
    {
     "data": {
      "text/plain": [
       "array(['Destiny league', 'Ancients League',\n",
       "       'DPC 2023 SEA Summer Tour Division I - presented by Epulze',\n",
       "       'ESportsBattle | DOTA2 SC8', 'Pinnacle Cup: Malta Vibes #2'],\n",
       "      dtype=object)"
      ]
     },
     "execution_count": 16,
     "metadata": {},
     "output_type": "execute_result"
    }
   ],
   "source": [
    "df.leaguename.unique()"
   ]
  },
  {
   "cell_type": "code",
   "execution_count": 19,
   "metadata": {},
   "outputs": [
    {
     "data": {
      "text/plain": [
       "20"
      ]
     },
     "execution_count": 19,
     "metadata": {},
     "output_type": "execute_result"
    }
   ],
   "source": [
    "df.match_id.nunique()"
   ]
  },
  {
   "cell_type": "code",
   "execution_count": 25,
   "metadata": {},
   "outputs": [],
   "source": [
    "df['first_word'] = df.leaguename.apply(lambda x: x.split(' ')[0])"
   ]
  },
  {
   "cell_type": "code",
   "execution_count": 46,
   "metadata": {},
   "outputs": [
    {
     "data": {
      "text/plain": [
       "<bound method NDFrame.head of        match_id  start_time    win  hero_id  account_id       leaguename\n",
       "0    7179178843  1685505859  False       86   992327405   Destiny league\n",
       "1    7179178843  1685505859  False      128   162724090   Destiny league\n",
       "2    7179178843  1685505859  False       17  1232094007   Destiny league\n",
       "3    7179178843  1685505859  False       41  1170923497   Destiny league\n",
       "4    7179178843  1685505859  False       38   202984325   Destiny league\n",
       "..          ...         ...    ...      ...         ...              ...\n",
       "195  7179367595  1685521110   True       72  1427100407  Ancients League\n",
       "196  7179367595  1685521110   True       88  1529282248  Ancients League\n",
       "197  7179367595  1685521110   True       40  1526386891  Ancients League\n",
       "198  7179367595  1685521110   True       87  1513040880  Ancients League\n",
       "199  7179367595  1685521110   True      126  1517400698  Ancients League\n",
       "\n",
       "[200 rows x 6 columns]>"
      ]
     },
     "execution_count": 46,
     "metadata": {},
     "output_type": "execute_result"
    }
   ],
   "source": [
    "df.head"
   ]
  },
  {
   "cell_type": "code",
   "execution_count": 93,
   "metadata": {
    "scrolled": true
   },
   "outputs": [
    {
     "data": {
      "text/plain": [
       "0       [Destiny, league]\n",
       "1       [Destiny, league]\n",
       "2       [Destiny, league]\n",
       "3       [Destiny, league]\n",
       "4       [Destiny, league]\n",
       "              ...        \n",
       "195    [Ancients, League]\n",
       "196    [Ancients, League]\n",
       "197    [Ancients, League]\n",
       "198    [Ancients, League]\n",
       "199    [Ancients, League]\n",
       "Name: leaguename, Length: 200, dtype: object"
      ]
     },
     "execution_count": 93,
     "metadata": {},
     "output_type": "execute_result"
    }
   ],
   "source": [
    "df.leaguename.apply(lambda x: x.split(' '))"
   ]
  },
  {
   "cell_type": "markdown",
   "metadata": {},
   "source": [
    "### Создание ДФ с NaN"
   ]
  },
  {
   "cell_type": "code",
   "execution_count": 198,
   "metadata": {},
   "outputs": [],
   "source": [
    "df_1=pd.DataFrame(\n",
    "{'match_id': [7179178843, np.nan , 3, 4, 5],\n",
    " 'amount_match': [78, 90, 67, 88, 11],\n",
    " 'heroes': [1, 3, 5, 2, 5],\n",
    " 'Name': ['RTY', 'Diablo', np.nan, 'Lord', 'zxcvbnm']\n",
    "})"
   ]
  },
  {
   "cell_type": "code",
   "execution_count": 199,
   "metadata": {},
   "outputs": [
    {
     "data": {
      "text/html": [
       "<div>\n",
       "<style scoped>\n",
       "    .dataframe tbody tr th:only-of-type {\n",
       "        vertical-align: middle;\n",
       "    }\n",
       "\n",
       "    .dataframe tbody tr th {\n",
       "        vertical-align: top;\n",
       "    }\n",
       "\n",
       "    .dataframe thead th {\n",
       "        text-align: right;\n",
       "    }\n",
       "</style>\n",
       "<table border=\"1\" class=\"dataframe\">\n",
       "  <thead>\n",
       "    <tr style=\"text-align: right;\">\n",
       "      <th></th>\n",
       "      <th>match_id</th>\n",
       "      <th>amount_match</th>\n",
       "      <th>heroes</th>\n",
       "      <th>name</th>\n",
       "    </tr>\n",
       "  </thead>\n",
       "  <tbody>\n",
       "    <tr>\n",
       "      <th>0</th>\n",
       "      <td>7.179179e+09</td>\n",
       "      <td>78</td>\n",
       "      <td>1</td>\n",
       "      <td>RTY</td>\n",
       "    </tr>\n",
       "    <tr>\n",
       "      <th>1</th>\n",
       "      <td>NaN</td>\n",
       "      <td>90</td>\n",
       "      <td>3</td>\n",
       "      <td>Diablo</td>\n",
       "    </tr>\n",
       "    <tr>\n",
       "      <th>2</th>\n",
       "      <td>3.000000e+00</td>\n",
       "      <td>67</td>\n",
       "      <td>5</td>\n",
       "      <td>NaN</td>\n",
       "    </tr>\n",
       "    <tr>\n",
       "      <th>3</th>\n",
       "      <td>4.000000e+00</td>\n",
       "      <td>88</td>\n",
       "      <td>2</td>\n",
       "      <td>Lord</td>\n",
       "    </tr>\n",
       "    <tr>\n",
       "      <th>4</th>\n",
       "      <td>5.000000e+00</td>\n",
       "      <td>11</td>\n",
       "      <td>5</td>\n",
       "      <td>zxcvbnm</td>\n",
       "    </tr>\n",
       "  </tbody>\n",
       "</table>\n",
       "</div>"
      ],
      "text/plain": [
       "       match_id  amount_match  heroes     name\n",
       "0  7.179179e+09            78       1      RTY\n",
       "1           NaN            90       3   Diablo\n",
       "2  3.000000e+00            67       5      NaN\n",
       "3  4.000000e+00            88       2     Lord\n",
       "4  5.000000e+00            11       5  zxcvbnm"
      ]
     },
     "execution_count": 199,
     "metadata": {},
     "output_type": "execute_result"
    }
   ],
   "source": [
    "df_1.rename(columns={'Name': 'name'})"
   ]
  },
  {
   "cell_type": "code",
   "execution_count": 200,
   "metadata": {},
   "outputs": [
    {
     "data": {
      "text/plain": [
       "match_id        1\n",
       "amount_match    0\n",
       "heroes          0\n",
       "Name            1\n",
       "dtype: int64"
      ]
     },
     "execution_count": 200,
     "metadata": {},
     "output_type": "execute_result"
    }
   ],
   "source": [
    "#считываем пропущенные значения \n",
    "df_1.isna().sum()"
   ]
  },
  {
   "cell_type": "code",
   "execution_count": 201,
   "metadata": {
    "scrolled": true
   },
   "outputs": [
    {
     "data": {
      "text/html": [
       "<div>\n",
       "<style scoped>\n",
       "    .dataframe tbody tr th:only-of-type {\n",
       "        vertical-align: middle;\n",
       "    }\n",
       "\n",
       "    .dataframe tbody tr th {\n",
       "        vertical-align: top;\n",
       "    }\n",
       "\n",
       "    .dataframe thead th {\n",
       "        text-align: right;\n",
       "    }\n",
       "</style>\n",
       "<table border=\"1\" class=\"dataframe\">\n",
       "  <thead>\n",
       "    <tr style=\"text-align: right;\">\n",
       "      <th></th>\n",
       "      <th>match_id</th>\n",
       "      <th>start_time</th>\n",
       "      <th>win</th>\n",
       "      <th>hero_id</th>\n",
       "      <th>account_id</th>\n",
       "      <th>leaguename</th>\n",
       "      <th>amount_match</th>\n",
       "      <th>heroes</th>\n",
       "      <th>Name</th>\n",
       "    </tr>\n",
       "  </thead>\n",
       "  <tbody>\n",
       "    <tr>\n",
       "      <th>0</th>\n",
       "      <td>7179178843</td>\n",
       "      <td>1685505859</td>\n",
       "      <td>False</td>\n",
       "      <td>86</td>\n",
       "      <td>992327405</td>\n",
       "      <td>Destiny league</td>\n",
       "      <td>78</td>\n",
       "      <td>1</td>\n",
       "      <td>RTY</td>\n",
       "    </tr>\n",
       "    <tr>\n",
       "      <th>1</th>\n",
       "      <td>7179178843</td>\n",
       "      <td>1685505859</td>\n",
       "      <td>False</td>\n",
       "      <td>128</td>\n",
       "      <td>162724090</td>\n",
       "      <td>Destiny league</td>\n",
       "      <td>78</td>\n",
       "      <td>1</td>\n",
       "      <td>RTY</td>\n",
       "    </tr>\n",
       "    <tr>\n",
       "      <th>2</th>\n",
       "      <td>7179178843</td>\n",
       "      <td>1685505859</td>\n",
       "      <td>False</td>\n",
       "      <td>17</td>\n",
       "      <td>1232094007</td>\n",
       "      <td>Destiny league</td>\n",
       "      <td>78</td>\n",
       "      <td>1</td>\n",
       "      <td>RTY</td>\n",
       "    </tr>\n",
       "    <tr>\n",
       "      <th>3</th>\n",
       "      <td>7179178843</td>\n",
       "      <td>1685505859</td>\n",
       "      <td>False</td>\n",
       "      <td>41</td>\n",
       "      <td>1170923497</td>\n",
       "      <td>Destiny league</td>\n",
       "      <td>78</td>\n",
       "      <td>1</td>\n",
       "      <td>RTY</td>\n",
       "    </tr>\n",
       "    <tr>\n",
       "      <th>4</th>\n",
       "      <td>7179178843</td>\n",
       "      <td>1685505859</td>\n",
       "      <td>False</td>\n",
       "      <td>38</td>\n",
       "      <td>202984325</td>\n",
       "      <td>Destiny league</td>\n",
       "      <td>78</td>\n",
       "      <td>1</td>\n",
       "      <td>RTY</td>\n",
       "    </tr>\n",
       "    <tr>\n",
       "      <th>5</th>\n",
       "      <td>7179178843</td>\n",
       "      <td>1685505859</td>\n",
       "      <td>True</td>\n",
       "      <td>51</td>\n",
       "      <td>1216609165</td>\n",
       "      <td>Destiny league</td>\n",
       "      <td>78</td>\n",
       "      <td>1</td>\n",
       "      <td>RTY</td>\n",
       "    </tr>\n",
       "    <tr>\n",
       "      <th>6</th>\n",
       "      <td>7179178843</td>\n",
       "      <td>1685505859</td>\n",
       "      <td>True</td>\n",
       "      <td>11</td>\n",
       "      <td>1083977859</td>\n",
       "      <td>Destiny league</td>\n",
       "      <td>78</td>\n",
       "      <td>1</td>\n",
       "      <td>RTY</td>\n",
       "    </tr>\n",
       "    <tr>\n",
       "      <th>7</th>\n",
       "      <td>7179178843</td>\n",
       "      <td>1685505859</td>\n",
       "      <td>True</td>\n",
       "      <td>62</td>\n",
       "      <td>1122407405</td>\n",
       "      <td>Destiny league</td>\n",
       "      <td>78</td>\n",
       "      <td>1</td>\n",
       "      <td>RTY</td>\n",
       "    </tr>\n",
       "    <tr>\n",
       "      <th>8</th>\n",
       "      <td>7179178843</td>\n",
       "      <td>1685505859</td>\n",
       "      <td>True</td>\n",
       "      <td>21</td>\n",
       "      <td>1119908658</td>\n",
       "      <td>Destiny league</td>\n",
       "      <td>78</td>\n",
       "      <td>1</td>\n",
       "      <td>RTY</td>\n",
       "    </tr>\n",
       "    <tr>\n",
       "      <th>9</th>\n",
       "      <td>7179178843</td>\n",
       "      <td>1685505859</td>\n",
       "      <td>True</td>\n",
       "      <td>3</td>\n",
       "      <td>1220632105</td>\n",
       "      <td>Destiny league</td>\n",
       "      <td>78</td>\n",
       "      <td>1</td>\n",
       "      <td>RTY</td>\n",
       "    </tr>\n",
       "  </tbody>\n",
       "</table>\n",
       "</div>"
      ],
      "text/plain": [
       "     match_id  start_time    win  hero_id  account_id      leaguename  \\\n",
       "0  7179178843  1685505859  False       86   992327405  Destiny league   \n",
       "1  7179178843  1685505859  False      128   162724090  Destiny league   \n",
       "2  7179178843  1685505859  False       17  1232094007  Destiny league   \n",
       "3  7179178843  1685505859  False       41  1170923497  Destiny league   \n",
       "4  7179178843  1685505859  False       38   202984325  Destiny league   \n",
       "5  7179178843  1685505859   True       51  1216609165  Destiny league   \n",
       "6  7179178843  1685505859   True       11  1083977859  Destiny league   \n",
       "7  7179178843  1685505859   True       62  1122407405  Destiny league   \n",
       "8  7179178843  1685505859   True       21  1119908658  Destiny league   \n",
       "9  7179178843  1685505859   True        3  1220632105  Destiny league   \n",
       "\n",
       "   amount_match  heroes Name  \n",
       "0            78       1  RTY  \n",
       "1            78       1  RTY  \n",
       "2            78       1  RTY  \n",
       "3            78       1  RTY  \n",
       "4            78       1  RTY  \n",
       "5            78       1  RTY  \n",
       "6            78       1  RTY  \n",
       "7            78       1  RTY  \n",
       "8            78       1  RTY  \n",
       "9            78       1  RTY  "
      ]
     },
     "execution_count": 201,
     "metadata": {},
     "output_type": "execute_result"
    }
   ],
   "source": [
    "df.merge(df_1, how='inner')"
   ]
  },
  {
   "cell_type": "code",
   "execution_count": 87,
   "metadata": {},
   "outputs": [
    {
     "data": {
      "text/html": [
       "<div>\n",
       "<style scoped>\n",
       "    .dataframe tbody tr th:only-of-type {\n",
       "        vertical-align: middle;\n",
       "    }\n",
       "\n",
       "    .dataframe tbody tr th {\n",
       "        vertical-align: top;\n",
       "    }\n",
       "\n",
       "    .dataframe thead th {\n",
       "        text-align: right;\n",
       "    }\n",
       "</style>\n",
       "<table border=\"1\" class=\"dataframe\">\n",
       "  <thead>\n",
       "    <tr style=\"text-align: right;\">\n",
       "      <th></th>\n",
       "      <th>company</th>\n",
       "      <th>income</th>\n",
       "      <th>date</th>\n",
       "    </tr>\n",
       "  </thead>\n",
       "  <tbody>\n",
       "    <tr>\n",
       "      <th>0</th>\n",
       "      <td>ЗАО «Доронин, Колобов и Калашникова»</td>\n",
       "      <td>1221331958</td>\n",
       "      <td>2019-09-09</td>\n",
       "    </tr>\n",
       "    <tr>\n",
       "      <th>1</th>\n",
       "      <td>ООО «Авдеев»</td>\n",
       "      <td>21116804375</td>\n",
       "      <td>1972-12-21</td>\n",
       "    </tr>\n",
       "    <tr>\n",
       "      <th>2</th>\n",
       "      <td>РАО «Аксенов Сорокина»</td>\n",
       "      <td>79257158759</td>\n",
       "      <td>2007-03-05</td>\n",
       "    </tr>\n",
       "    <tr>\n",
       "      <th>3</th>\n",
       "      <td>Ларионов Инкорпорэйтед</td>\n",
       "      <td>36799366126</td>\n",
       "      <td>2011-08-11</td>\n",
       "    </tr>\n",
       "    <tr>\n",
       "      <th>4</th>\n",
       "      <td>Григорьев Инкорпорэйтед</td>\n",
       "      <td>48201837498</td>\n",
       "      <td>1989-09-02</td>\n",
       "    </tr>\n",
       "  </tbody>\n",
       "</table>\n",
       "</div>"
      ],
      "text/plain": [
       "                                company       income        date\n",
       "0  ЗАО «Доронин, Колобов и Калашникова»   1221331958  2019-09-09\n",
       "1                          ООО «Авдеев»  21116804375  1972-12-21\n",
       "2                РАО «Аксенов Сорокина»  79257158759  2007-03-05\n",
       "3                Ларионов Инкорпорэйтед  36799366126  2011-08-11\n",
       "4               Григорьев Инкорпорэйтед  48201837498  1989-09-02"
      ]
     },
     "execution_count": 87,
     "metadata": {},
     "output_type": "execute_result"
    }
   ],
   "source": [
    "df_3=pd.read_csv('C:/Users/lybov/Downloads/3_companies.csv', sep=';')\n",
    "df_3.head()"
   ]
  },
  {
   "cell_type": "code",
   "execution_count": null,
   "metadata": {},
   "outputs": [],
   "source": []
  },
  {
   "cell_type": "code",
   "execution_count": 85,
   "metadata": {},
   "outputs": [],
   "source": [
    "def read_n_agg():\n",
    "    df_3=pd.read_csv('C:/Users/lybov/Downloads/3_companies.csv', sep=';')\n",
    "    df_3.groupby('company', as_index=False) \\\n",
    "        .agg({'income': 'mean'})\n",
    "    return df_3"
   ]
  },
  {
   "cell_type": "code",
   "execution_count": 88,
   "metadata": {},
   "outputs": [],
   "source": [
    "def read_n_agg(path):\n",
    "    path = pd.read_csv(path, sep=';')\n",
    "    df_3 = df.groupby('company', as_index=True) \\\n",
    "    .agg({'income': 'mean'})\n",
    "    return df_3"
   ]
  },
  {
   "cell_type": "code",
   "execution_count": null,
   "metadata": {},
   "outputs": [],
   "source": [
    "# parse_dates=['start_at', 'end_at', 'arrived_at']"
   ]
  },
  {
   "cell_type": "code",
   "execution_count": 105,
   "metadata": {},
   "outputs": [
    {
     "data": {
      "text/plain": [
       "'Ancients League'"
      ]
     },
     "execution_count": 105,
     "metadata": {},
     "output_type": "execute_result"
    }
   ],
   "source": [
    "#df.leaguename.value_counts()/df.shape[0]\n",
    "(df.leaguename.value_counts(normalize=True, dropna=False)*100).idxmax()"
   ]
  },
  {
   "cell_type": "code",
   "execution_count": 108,
   "metadata": {},
   "outputs": [
    {
     "data": {
      "text/plain": [
       "35.0"
      ]
     },
     "execution_count": 108,
     "metadata": {},
     "output_type": "execute_result"
    }
   ],
   "source": [
    "(\n",
    "    df.leaguename\n",
    "    .value_counts(normalize=True, dropna=False)\n",
    "    .mul(100)\n",
    "    .round()\n",
    "    .max()\n",
    ")"
   ]
  },
  {
   "cell_type": "code",
   "execution_count": 125,
   "metadata": {},
   "outputs": [],
   "source": [
    "league_score_counts = df \\\n",
    "    .leaguename \\\n",
    "    .value_counts(normalize=True) \\\n",
    "    .mul(100) \\\n",
    "    .round(2) \\\n",
    "    .reset_index() \\\n",
    "    .rename(columns={'index': 'leaguename', 'leaguename': 'percentage'}) \\\n",
    "    .sort_values('leaguename')\n",
    "    \n"
   ]
  },
  {
   "cell_type": "code",
   "execution_count": 126,
   "metadata": {},
   "outputs": [
    {
     "data": {
      "text/html": [
       "<div>\n",
       "<style scoped>\n",
       "    .dataframe tbody tr th:only-of-type {\n",
       "        vertical-align: middle;\n",
       "    }\n",
       "\n",
       "    .dataframe tbody tr th {\n",
       "        vertical-align: top;\n",
       "    }\n",
       "\n",
       "    .dataframe thead th {\n",
       "        text-align: right;\n",
       "    }\n",
       "</style>\n",
       "<table border=\"1\" class=\"dataframe\">\n",
       "  <thead>\n",
       "    <tr style=\"text-align: right;\">\n",
       "      <th></th>\n",
       "      <th>leaguename</th>\n",
       "      <th>percentage</th>\n",
       "    </tr>\n",
       "  </thead>\n",
       "  <tbody>\n",
       "    <tr>\n",
       "      <th>0</th>\n",
       "      <td>Ancients League</td>\n",
       "      <td>35.0</td>\n",
       "    </tr>\n",
       "    <tr>\n",
       "      <th>2</th>\n",
       "      <td>DPC 2023 SEA Summer Tour Division I - presente...</td>\n",
       "      <td>15.0</td>\n",
       "    </tr>\n",
       "    <tr>\n",
       "      <th>1</th>\n",
       "      <td>Destiny league</td>\n",
       "      <td>30.0</td>\n",
       "    </tr>\n",
       "    <tr>\n",
       "      <th>3</th>\n",
       "      <td>ESportsBattle | DOTA2 SC8</td>\n",
       "      <td>15.0</td>\n",
       "    </tr>\n",
       "    <tr>\n",
       "      <th>4</th>\n",
       "      <td>Pinnacle Cup: Malta Vibes #2</td>\n",
       "      <td>5.0</td>\n",
       "    </tr>\n",
       "  </tbody>\n",
       "</table>\n",
       "</div>"
      ],
      "text/plain": [
       "                                          leaguename  percentage\n",
       "0                                    Ancients League        35.0\n",
       "2  DPC 2023 SEA Summer Tour Division I - presente...        15.0\n",
       "1                                     Destiny league        30.0\n",
       "3                          ESportsBattle | DOTA2 SC8        15.0\n",
       "4                       Pinnacle Cup: Malta Vibes #2         5.0"
      ]
     },
     "execution_count": 126,
     "metadata": {},
     "output_type": "execute_result"
    }
   ],
   "source": [
    "league_score_counts"
   ]
  },
  {
   "cell_type": "code",
   "execution_count": 247,
   "metadata": {},
   "outputs": [
    {
     "data": {
      "text/html": [
       "<div>\n",
       "<style scoped>\n",
       "    .dataframe tbody tr th:only-of-type {\n",
       "        vertical-align: middle;\n",
       "    }\n",
       "\n",
       "    .dataframe tbody tr th {\n",
       "        vertical-align: top;\n",
       "    }\n",
       "\n",
       "    .dataframe thead th {\n",
       "        text-align: right;\n",
       "    }\n",
       "</style>\n",
       "<table border=\"1\" class=\"dataframe\">\n",
       "  <thead>\n",
       "    <tr style=\"text-align: right;\">\n",
       "      <th></th>\n",
       "      <th>match_id</th>\n",
       "      <th>start_time</th>\n",
       "      <th>win</th>\n",
       "      <th>hero_id</th>\n",
       "      <th>account_id</th>\n",
       "      <th>leaguename</th>\n",
       "    </tr>\n",
       "  </thead>\n",
       "  <tbody>\n",
       "    <tr>\n",
       "      <th>0</th>\n",
       "      <td>7179178843</td>\n",
       "      <td>1685505859</td>\n",
       "      <td>False</td>\n",
       "      <td>86</td>\n",
       "      <td>992327405</td>\n",
       "      <td>Destiny league</td>\n",
       "    </tr>\n",
       "    <tr>\n",
       "      <th>1</th>\n",
       "      <td>7179178843</td>\n",
       "      <td>1685505859</td>\n",
       "      <td>False</td>\n",
       "      <td>128</td>\n",
       "      <td>162724090</td>\n",
       "      <td>Destiny league</td>\n",
       "    </tr>\n",
       "    <tr>\n",
       "      <th>2</th>\n",
       "      <td>7179178843</td>\n",
       "      <td>1685505859</td>\n",
       "      <td>False</td>\n",
       "      <td>17</td>\n",
       "      <td>1232094007</td>\n",
       "      <td>Destiny league</td>\n",
       "    </tr>\n",
       "    <tr>\n",
       "      <th>3</th>\n",
       "      <td>7179178843</td>\n",
       "      <td>1685505859</td>\n",
       "      <td>False</td>\n",
       "      <td>41</td>\n",
       "      <td>1170923497</td>\n",
       "      <td>Destiny league</td>\n",
       "    </tr>\n",
       "    <tr>\n",
       "      <th>4</th>\n",
       "      <td>7179178843</td>\n",
       "      <td>1685505859</td>\n",
       "      <td>False</td>\n",
       "      <td>38</td>\n",
       "      <td>202984325</td>\n",
       "      <td>Destiny league</td>\n",
       "    </tr>\n",
       "  </tbody>\n",
       "</table>\n",
       "</div>"
      ],
      "text/plain": [
       "     match_id  start_time    win  hero_id  account_id      leaguename\n",
       "0  7179178843  1685505859  False       86   992327405  Destiny league\n",
       "1  7179178843  1685505859  False      128   162724090  Destiny league\n",
       "2  7179178843  1685505859  False       17  1232094007  Destiny league\n",
       "3  7179178843  1685505859  False       41  1170923497  Destiny league\n",
       "4  7179178843  1685505859  False       38   202984325  Destiny league"
      ]
     },
     "execution_count": 247,
     "metadata": {},
     "output_type": "execute_result"
    }
   ],
   "source": [
    "df.head()"
   ]
  },
  {
   "cell_type": "code",
   "execution_count": 7,
   "metadata": {},
   "outputs": [
    {
     "data": {
      "text/plain": [
       "match_id      0\n",
       "start_time    0\n",
       "win           0\n",
       "hero_id       0\n",
       "account_id    0\n",
       "leaguename    0\n",
       "dtype: int64"
      ]
     },
     "execution_count": 7,
     "metadata": {},
     "output_type": "execute_result"
    }
   ],
   "source": [
    "df.isna().sum()"
   ]
  },
  {
   "cell_type": "code",
   "execution_count": 8,
   "metadata": {},
   "outputs": [
    {
     "data": {
      "text/plain": [
       "'e-fgf-vlvlvl'"
      ]
     },
     "execution_count": 8,
     "metadata": {},
     "output_type": "execute_result"
    }
   ],
   "source": [
    "#работает со строками\n",
    "'-'.join(['e','fgf','vlvlvl'])"
   ]
  },
  {
   "cell_type": "code",
   "execution_count": 70,
   "metadata": {},
   "outputs": [
    {
     "data": {
      "text/html": [
       "<div>\n",
       "<style scoped>\n",
       "    .dataframe tbody tr th:only-of-type {\n",
       "        vertical-align: middle;\n",
       "    }\n",
       "\n",
       "    .dataframe tbody tr th {\n",
       "        vertical-align: top;\n",
       "    }\n",
       "\n",
       "    .dataframe thead th {\n",
       "        text-align: right;\n",
       "    }\n",
       "</style>\n",
       "<table border=\"1\" class=\"dataframe\">\n",
       "  <thead>\n",
       "    <tr style=\"text-align: right;\">\n",
       "      <th></th>\n",
       "      <th>match_id</th>\n",
       "      <th>start_time</th>\n",
       "      <th>win</th>\n",
       "      <th>hero_id</th>\n",
       "      <th>account_id</th>\n",
       "      <th>leaguename</th>\n",
       "    </tr>\n",
       "  </thead>\n",
       "  <tbody>\n",
       "    <tr>\n",
       "      <th>96</th>\n",
       "      <td>7179265905</td>\n",
       "      <td>1685513537</td>\n",
       "      <td>True</td>\n",
       "      <td>137</td>\n",
       "      <td>1499724758</td>\n",
       "      <td>Ancients League</td>\n",
       "    </tr>\n",
       "    <tr>\n",
       "      <th>31</th>\n",
       "      <td>7179209912</td>\n",
       "      <td>1685508622</td>\n",
       "      <td>True</td>\n",
       "      <td>136</td>\n",
       "      <td>1533499102</td>\n",
       "      <td>Ancients League</td>\n",
       "    </tr>\n",
       "    <tr>\n",
       "      <th>150</th>\n",
       "      <td>7179328448</td>\n",
       "      <td>1685518419</td>\n",
       "      <td>False</td>\n",
       "      <td>136</td>\n",
       "      <td>1427100407</td>\n",
       "      <td>Ancients League</td>\n",
       "    </tr>\n",
       "    <tr>\n",
       "      <th>158</th>\n",
       "      <td>7179328448</td>\n",
       "      <td>1685518419</td>\n",
       "      <td>True</td>\n",
       "      <td>135</td>\n",
       "      <td>1525656267</td>\n",
       "      <td>Ancients League</td>\n",
       "    </tr>\n",
       "    <tr>\n",
       "      <th>126</th>\n",
       "      <td>7179299635</td>\n",
       "      <td>1685516274</td>\n",
       "      <td>True</td>\n",
       "      <td>135</td>\n",
       "      <td>1524955916</td>\n",
       "      <td>Ancients League</td>\n",
       "    </tr>\n",
       "    <tr>\n",
       "      <th>27</th>\n",
       "      <td>7179206177</td>\n",
       "      <td>1685508304</td>\n",
       "      <td>True</td>\n",
       "      <td>129</td>\n",
       "      <td>202984325</td>\n",
       "      <td>Destiny league</td>\n",
       "    </tr>\n",
       "    <tr>\n",
       "      <th>190</th>\n",
       "      <td>7179367595</td>\n",
       "      <td>1685521110</td>\n",
       "      <td>False</td>\n",
       "      <td>129</td>\n",
       "      <td>1524693205</td>\n",
       "      <td>Ancients League</td>\n",
       "    </tr>\n",
       "    <tr>\n",
       "      <th>60</th>\n",
       "      <td>7179236527</td>\n",
       "      <td>1685511036</td>\n",
       "      <td>False</td>\n",
       "      <td>129</td>\n",
       "      <td>202984325</td>\n",
       "      <td>Destiny league</td>\n",
       "    </tr>\n",
       "    <tr>\n",
       "      <th>13</th>\n",
       "      <td>7179185035</td>\n",
       "      <td>1685506385</td>\n",
       "      <td>False</td>\n",
       "      <td>129</td>\n",
       "      <td>1423366323</td>\n",
       "      <td>Ancients League</td>\n",
       "    </tr>\n",
       "    <tr>\n",
       "      <th>14</th>\n",
       "      <td>7179185035</td>\n",
       "      <td>1685506385</td>\n",
       "      <td>False</td>\n",
       "      <td>128</td>\n",
       "      <td>1458610209</td>\n",
       "      <td>Ancients League</td>\n",
       "    </tr>\n",
       "  </tbody>\n",
       "</table>\n",
       "</div>"
      ],
      "text/plain": [
       "       match_id  start_time    win  hero_id  account_id       leaguename\n",
       "96   7179265905  1685513537   True      137  1499724758  Ancients League\n",
       "31   7179209912  1685508622   True      136  1533499102  Ancients League\n",
       "150  7179328448  1685518419  False      136  1427100407  Ancients League\n",
       "158  7179328448  1685518419   True      135  1525656267  Ancients League\n",
       "126  7179299635  1685516274   True      135  1524955916  Ancients League\n",
       "27   7179206177  1685508304   True      129   202984325   Destiny league\n",
       "190  7179367595  1685521110  False      129  1524693205  Ancients League\n",
       "60   7179236527  1685511036  False      129   202984325   Destiny league\n",
       "13   7179185035  1685506385  False      129  1423366323  Ancients League\n",
       "14   7179185035  1685506385  False      128  1458610209  Ancients League"
      ]
     },
     "execution_count": 70,
     "metadata": {},
     "output_type": "execute_result"
    }
   ],
   "source": [
    "i_10_heroes = df.sort_values('hero_id', ascending=False).head(10)\n",
    "i_10_heroes"
   ]
  },
  {
   "cell_type": "code",
   "execution_count": 74,
   "metadata": {},
   "outputs": [],
   "source": [
    "i_10_heroes_list = i_10_heroes.account_id \\\n",
    "            .tolist() "
   ]
  },
  {
   "cell_type": "code",
   "execution_count": 75,
   "metadata": {},
   "outputs": [
    {
     "data": {
      "text/plain": [
       "'1499724758, 1533499102, 1427100407, 1525656267, 1524955916, 202984325, 1524693205, 202984325, 1423366323, 1458610209'"
      ]
     },
     "execution_count": 75,
     "metadata": {},
     "output_type": "execute_result"
    }
   ],
   "source": [
    "', '.join([str(account_id) for account_id in i_10_heroes_list])\n",
    "#перечислили в строковом виде 10 аккаунтов "
   ]
  },
  {
   "cell_type": "code",
   "execution_count": 86,
   "metadata": {},
   "outputs": [
    {
     "data": {
      "text/plain": [
       "hero_id\n",
       "86     8\n",
       "97     7\n",
       "71     7\n",
       "17     6\n",
       "39     6\n",
       "31     6\n",
       "126    6\n",
       "45     6\n",
       "11     5\n",
       "14     5\n",
       "dtype: int64"
      ]
     },
     "execution_count": 86,
     "metadata": {},
     "output_type": "execute_result"
    }
   ],
   "source": [
    "#посмотрим топ 10 героев, которыми пользовались больше 1 раза\n",
    "top_10_heroes = df.value_counts('hero_id').head(10)\n",
    "top_10_heroes"
   ]
  },
  {
   "cell_type": "code",
   "execution_count": 250,
   "metadata": {
    "scrolled": true
   },
   "outputs": [
    {
     "data": {
      "text/html": [
       "<div>\n",
       "<style scoped>\n",
       "    .dataframe tbody tr th:only-of-type {\n",
       "        vertical-align: middle;\n",
       "    }\n",
       "\n",
       "    .dataframe tbody tr th {\n",
       "        vertical-align: top;\n",
       "    }\n",
       "\n",
       "    .dataframe thead th {\n",
       "        text-align: right;\n",
       "    }\n",
       "</style>\n",
       "<table border=\"1\" class=\"dataframe\">\n",
       "  <thead>\n",
       "    <tr style=\"text-align: right;\">\n",
       "      <th></th>\n",
       "      <th>match_id</th>\n",
       "      <th>start_time</th>\n",
       "      <th>win</th>\n",
       "      <th>hero_id</th>\n",
       "      <th>account_id</th>\n",
       "      <th>leaguename</th>\n",
       "    </tr>\n",
       "  </thead>\n",
       "  <tbody>\n",
       "    <tr>\n",
       "      <th>0</th>\n",
       "      <td>7179178843</td>\n",
       "      <td>1685505859</td>\n",
       "      <td>False</td>\n",
       "      <td>86</td>\n",
       "      <td>992327405</td>\n",
       "      <td>Destiny league</td>\n",
       "    </tr>\n",
       "    <tr>\n",
       "      <th>49</th>\n",
       "      <td>7179217564</td>\n",
       "      <td>1685509301</td>\n",
       "      <td>True</td>\n",
       "      <td>86</td>\n",
       "      <td>148526973</td>\n",
       "      <td>DPC 2023 SEA Summer Tour Division I - presente...</td>\n",
       "    </tr>\n",
       "    <tr>\n",
       "      <th>51</th>\n",
       "      <td>7179219706</td>\n",
       "      <td>1685509494</td>\n",
       "      <td>True</td>\n",
       "      <td>71</td>\n",
       "      <td>921009406</td>\n",
       "      <td>ESportsBattle | DOTA2 SC8</td>\n",
       "    </tr>\n",
       "    <tr>\n",
       "      <th>54</th>\n",
       "      <td>7179219706</td>\n",
       "      <td>1685509494</td>\n",
       "      <td>True</td>\n",
       "      <td>86</td>\n",
       "      <td>133682196</td>\n",
       "      <td>ESportsBattle | DOTA2 SC8</td>\n",
       "    </tr>\n",
       "    <tr>\n",
       "      <th>57</th>\n",
       "      <td>7179219706</td>\n",
       "      <td>1685509494</td>\n",
       "      <td>False</td>\n",
       "      <td>97</td>\n",
       "      <td>1079923091</td>\n",
       "      <td>ESportsBattle | DOTA2 SC8</td>\n",
       "    </tr>\n",
       "    <tr>\n",
       "      <th>62</th>\n",
       "      <td>7179236527</td>\n",
       "      <td>1685511036</td>\n",
       "      <td>False</td>\n",
       "      <td>86</td>\n",
       "      <td>992327405</td>\n",
       "      <td>Destiny league</td>\n",
       "    </tr>\n",
       "    <tr>\n",
       "      <th>65</th>\n",
       "      <td>7179236527</td>\n",
       "      <td>1685511036</td>\n",
       "      <td>True</td>\n",
       "      <td>71</td>\n",
       "      <td>1122407405</td>\n",
       "      <td>Destiny league</td>\n",
       "    </tr>\n",
       "    <tr>\n",
       "      <th>85</th>\n",
       "      <td>7179265634</td>\n",
       "      <td>1685513514</td>\n",
       "      <td>False</td>\n",
       "      <td>71</td>\n",
       "      <td>1079923091</td>\n",
       "      <td>ESportsBattle | DOTA2 SC8</td>\n",
       "    </tr>\n",
       "    <tr>\n",
       "      <th>105</th>\n",
       "      <td>7179267187</td>\n",
       "      <td>1685513891</td>\n",
       "      <td>True</td>\n",
       "      <td>86</td>\n",
       "      <td>156029808</td>\n",
       "      <td>DPC 2023 SEA Summer Tour Division I - presente...</td>\n",
       "    </tr>\n",
       "    <tr>\n",
       "      <th>110</th>\n",
       "      <td>7179273923</td>\n",
       "      <td>1685514262</td>\n",
       "      <td>True</td>\n",
       "      <td>97</td>\n",
       "      <td>1103355581</td>\n",
       "      <td>Destiny league</td>\n",
       "    </tr>\n",
       "    <tr>\n",
       "      <th>115</th>\n",
       "      <td>7179273923</td>\n",
       "      <td>1685514262</td>\n",
       "      <td>False</td>\n",
       "      <td>71</td>\n",
       "      <td>1252616081</td>\n",
       "      <td>Destiny league</td>\n",
       "    </tr>\n",
       "    <tr>\n",
       "      <th>125</th>\n",
       "      <td>7179299635</td>\n",
       "      <td>1685516274</td>\n",
       "      <td>True</td>\n",
       "      <td>97</td>\n",
       "      <td>1525057958</td>\n",
       "      <td>Ancients League</td>\n",
       "    </tr>\n",
       "    <tr>\n",
       "      <th>130</th>\n",
       "      <td>7179306016</td>\n",
       "      <td>1685516834</td>\n",
       "      <td>True</td>\n",
       "      <td>71</td>\n",
       "      <td>1252616081</td>\n",
       "      <td>Destiny league</td>\n",
       "    </tr>\n",
       "    <tr>\n",
       "      <th>139</th>\n",
       "      <td>7179306016</td>\n",
       "      <td>1685516834</td>\n",
       "      <td>False</td>\n",
       "      <td>97</td>\n",
       "      <td>1103355581</td>\n",
       "      <td>Destiny league</td>\n",
       "    </tr>\n",
       "    <tr>\n",
       "      <th>143</th>\n",
       "      <td>7179309709</td>\n",
       "      <td>1685517516</td>\n",
       "      <td>True</td>\n",
       "      <td>86</td>\n",
       "      <td>399862798</td>\n",
       "      <td>DPC 2023 SEA Summer Tour Division I - presente...</td>\n",
       "    </tr>\n",
       "    <tr>\n",
       "      <th>159</th>\n",
       "      <td>7179328448</td>\n",
       "      <td>1685518419</td>\n",
       "      <td>True</td>\n",
       "      <td>97</td>\n",
       "      <td>1524693205</td>\n",
       "      <td>Ancients League</td>\n",
       "    </tr>\n",
       "    <tr>\n",
       "      <th>163</th>\n",
       "      <td>7179338884</td>\n",
       "      <td>1685519307</td>\n",
       "      <td>True</td>\n",
       "      <td>86</td>\n",
       "      <td>80599925</td>\n",
       "      <td>Destiny league</td>\n",
       "    </tr>\n",
       "    <tr>\n",
       "      <th>165</th>\n",
       "      <td>7179338884</td>\n",
       "      <td>1685519307</td>\n",
       "      <td>False</td>\n",
       "      <td>71</td>\n",
       "      <td>1252616081</td>\n",
       "      <td>Destiny league</td>\n",
       "    </tr>\n",
       "    <tr>\n",
       "      <th>174</th>\n",
       "      <td>7179345657</td>\n",
       "      <td>1685520002</td>\n",
       "      <td>False</td>\n",
       "      <td>86</td>\n",
       "      <td>178633570</td>\n",
       "      <td>Pinnacle Cup: Malta Vibes #2</td>\n",
       "    </tr>\n",
       "    <tr>\n",
       "      <th>177</th>\n",
       "      <td>7179345657</td>\n",
       "      <td>1685520002</td>\n",
       "      <td>True</td>\n",
       "      <td>97</td>\n",
       "      <td>374875067</td>\n",
       "      <td>Pinnacle Cup: Malta Vibes #2</td>\n",
       "    </tr>\n",
       "    <tr>\n",
       "      <th>185</th>\n",
       "      <td>7179355594</td>\n",
       "      <td>1685520305</td>\n",
       "      <td>False</td>\n",
       "      <td>71</td>\n",
       "      <td>236214375</td>\n",
       "      <td>ESportsBattle | DOTA2 SC8</td>\n",
       "    </tr>\n",
       "    <tr>\n",
       "      <th>193</th>\n",
       "      <td>7179367595</td>\n",
       "      <td>1685521110</td>\n",
       "      <td>False</td>\n",
       "      <td>97</td>\n",
       "      <td>1525124448</td>\n",
       "      <td>Ancients League</td>\n",
       "    </tr>\n",
       "  </tbody>\n",
       "</table>\n",
       "</div>"
      ],
      "text/plain": [
       "       match_id  start_time    win  hero_id  account_id  \\\n",
       "0    7179178843  1685505859  False       86   992327405   \n",
       "49   7179217564  1685509301   True       86   148526973   \n",
       "51   7179219706  1685509494   True       71   921009406   \n",
       "54   7179219706  1685509494   True       86   133682196   \n",
       "57   7179219706  1685509494  False       97  1079923091   \n",
       "62   7179236527  1685511036  False       86   992327405   \n",
       "65   7179236527  1685511036   True       71  1122407405   \n",
       "85   7179265634  1685513514  False       71  1079923091   \n",
       "105  7179267187  1685513891   True       86   156029808   \n",
       "110  7179273923  1685514262   True       97  1103355581   \n",
       "115  7179273923  1685514262  False       71  1252616081   \n",
       "125  7179299635  1685516274   True       97  1525057958   \n",
       "130  7179306016  1685516834   True       71  1252616081   \n",
       "139  7179306016  1685516834  False       97  1103355581   \n",
       "143  7179309709  1685517516   True       86   399862798   \n",
       "159  7179328448  1685518419   True       97  1524693205   \n",
       "163  7179338884  1685519307   True       86    80599925   \n",
       "165  7179338884  1685519307  False       71  1252616081   \n",
       "174  7179345657  1685520002  False       86   178633570   \n",
       "177  7179345657  1685520002   True       97   374875067   \n",
       "185  7179355594  1685520305  False       71   236214375   \n",
       "193  7179367595  1685521110  False       97  1525124448   \n",
       "\n",
       "                                            leaguename  \n",
       "0                                       Destiny league  \n",
       "49   DPC 2023 SEA Summer Tour Division I - presente...  \n",
       "51                           ESportsBattle | DOTA2 SC8  \n",
       "54                           ESportsBattle | DOTA2 SC8  \n",
       "57                           ESportsBattle | DOTA2 SC8  \n",
       "62                                      Destiny league  \n",
       "65                                      Destiny league  \n",
       "85                           ESportsBattle | DOTA2 SC8  \n",
       "105  DPC 2023 SEA Summer Tour Division I - presente...  \n",
       "110                                     Destiny league  \n",
       "115                                     Destiny league  \n",
       "125                                    Ancients League  \n",
       "130                                     Destiny league  \n",
       "139                                     Destiny league  \n",
       "143  DPC 2023 SEA Summer Tour Division I - presente...  \n",
       "159                                    Ancients League  \n",
       "163                                     Destiny league  \n",
       "165                                     Destiny league  \n",
       "174                       Pinnacle Cup: Malta Vibes #2  \n",
       "177                       Pinnacle Cup: Malta Vibes #2  \n",
       "185                          ESportsBattle | DOTA2 SC8  \n",
       "193                                    Ancients League  "
      ]
     },
     "execution_count": 250,
     "metadata": {},
     "output_type": "execute_result"
    }
   ],
   "source": [
    "df_86 = df.query('hero_id == 86 or hero_id == 97 or hero_id == 71')\n",
    "df_86"
   ]
  },
  {
   "cell_type": "code",
   "execution_count": 251,
   "metadata": {},
   "outputs": [],
   "source": [
    "#сохраняю в домашнюю директорию C:\\Users\\lybov\n",
    "df_86.to_csv('df_86', index=False)"
   ]
  },
  {
   "cell_type": "code",
   "execution_count": 104,
   "metadata": {},
   "outputs": [],
   "source": [
    "#df_97 = df.query('hero_id == 97')\n",
    "#df_71 = df.query('hero_id == 71')\n",
    "#df_86.merge(df_97, on='hero_id')\n",
    "#df['total_df'] = df_97['hero_id'] + df_71['hero_id']\n",
    "#df.drop(columns=['total_df'], inplace=True)"
   ]
  },
  {
   "cell_type": "code",
   "execution_count": 117,
   "metadata": {},
   "outputs": [
    {
     "data": {
      "text/plain": [
       "Destiny league                                               3\n",
       "DPC 2023 SEA Summer Tour Division I - presented by Epulze    3\n",
       "ESportsBattle | DOTA2 SC8                                    1\n",
       "Pinnacle Cup: Malta Vibes #2                                 1\n",
       "Name: leaguename, dtype: int64"
      ]
     },
     "execution_count": 117,
     "metadata": {},
     "output_type": "execute_result"
    }
   ],
   "source": [
    "# в какой лиге находятся топ героев\n",
    "df_86.leaguename.value_counts()"
   ]
  },
  {
   "cell_type": "code",
   "execution_count": 136,
   "metadata": {},
   "outputs": [
    {
     "name": "stderr",
     "output_type": "stream",
     "text": [
      "C:\\Users\\lybov\\anaconda3\\lib\\site-packages\\seaborn\\distributions.py:2619: FutureWarning: `distplot` is a deprecated function and will be removed in a future version. Please adapt your code to use either `displot` (a figure-level function with similar flexibility) or `histplot` (an axes-level function for histograms).\n",
      "  warnings.warn(msg, FutureWarning)\n"
     ]
    },
    {
     "data": {
      "text/plain": [
       "<AxesSubplot:xlabel='hero_id'>"
      ]
     },
     "execution_count": 136,
     "metadata": {},
     "output_type": "execute_result"
    },
    {
     "data": {
      "image/png": "[encoded data removed]",
      "text/plain": [
       "<Figure size 432x288 with 1 Axes>"
      ]
     },
     "metadata": {
      "needs_background": "light"
     },
     "output_type": "display_data"
    }
   ],
   "source": [
    "# построим грфаик, фнкция distplot показывает распределение параметра\n",
    "sns.distplot(df.hero_id.value_counts(), kde=False)"
   ]
  },
  {
   "cell_type": "code",
   "execution_count": 138,
   "metadata": {},
   "outputs": [
    {
     "data": {
      "text/plain": [
       "0     1970-01-01 00:00:01.685505859\n",
       "1     1970-01-01 00:00:01.685505859\n",
       "2     1970-01-01 00:00:01.685505859\n",
       "3     1970-01-01 00:00:01.685505859\n",
       "4     1970-01-01 00:00:01.685505859\n",
       "                   ...             \n",
       "195   1970-01-01 00:00:01.685521110\n",
       "196   1970-01-01 00:00:01.685521110\n",
       "197   1970-01-01 00:00:01.685521110\n",
       "198   1970-01-01 00:00:01.685521110\n",
       "199   1970-01-01 00:00:01.685521110\n",
       "Name: start_time, Length: 200, dtype: datetime64[ns]"
      ]
     },
     "execution_count": 138,
     "metadata": {},
     "output_type": "execute_result"
    }
   ],
   "source": [
    "pd.to_datetime(df['start_time'], dayfirst=True)"
   ]
  },
  {
   "cell_type": "code",
   "execution_count": 124,
   "metadata": {},
   "outputs": [
    {
     "data": {
      "text/html": [
       "<div>\n",
       "<style scoped>\n",
       "    .dataframe tbody tr th:only-of-type {\n",
       "        vertical-align: middle;\n",
       "    }\n",
       "\n",
       "    .dataframe tbody tr th {\n",
       "        vertical-align: top;\n",
       "    }\n",
       "\n",
       "    .dataframe thead th {\n",
       "        text-align: right;\n",
       "    }\n",
       "</style>\n",
       "<table border=\"1\" class=\"dataframe\">\n",
       "  <thead>\n",
       "    <tr style=\"text-align: right;\">\n",
       "      <th></th>\n",
       "      <th>match_id</th>\n",
       "      <th>start_time</th>\n",
       "      <th>win</th>\n",
       "      <th>hero_id</th>\n",
       "      <th>account_id</th>\n",
       "      <th>leaguename</th>\n",
       "    </tr>\n",
       "  </thead>\n",
       "  <tbody>\n",
       "  </tbody>\n",
       "</table>\n",
       "</div>"
      ],
      "text/plain": [
       "Empty DataFrame\n",
       "Columns: [match_id, start_time, win, hero_id, account_id, leaguename]\n",
       "Index: []"
      ]
     },
     "execution_count": 124,
     "metadata": {},
     "output_type": "execute_result"
    }
   ],
   "source": [
    "df.loc[((df['hero_id'] == 86) & (df['hero_id'] == 97))]"
   ]
  },
  {
   "cell_type": "code",
   "execution_count": 125,
   "metadata": {},
   "outputs": [
    {
     "data": {
      "image/png": "[encoded data removed]",
      "text/plain": [
       "<Figure size 432x288 with 1 Axes>"
      ]
     },
     "metadata": {
      "needs_background": "light"
     },
     "output_type": "display_data"
    }
   ],
   "source": [
    "ax = sns.countplot(x=\"win\", data=df)"
   ]
  },
  {
   "cell_type": "code",
   "execution_count": 128,
   "metadata": {},
   "outputs": [
    {
     "data": {
      "image/png": "[encoded data removed]",
      "text/plain": [
       "<Figure size 864x576 with 1 Axes>"
      ]
     },
     "metadata": {
      "needs_background": "light"
     },
     "output_type": "display_data"
    }
   ],
   "source": [
    "plt.figure(figsize=(12, 8))\n",
    "ax = sns.countplot(x=\"win\", hue=\"hero_id\", data=df)"
   ]
  },
  {
   "cell_type": "code",
   "execution_count": 130,
   "metadata": {
    "scrolled": true
   },
   "outputs": [
    {
     "name": "stderr",
     "output_type": "stream",
     "text": [
      "C:\\Users\\lybov\\anaconda3\\lib\\site-packages\\seaborn\\_decorators.py:36: FutureWarning: Pass the following variable as a keyword arg: x. From version 0.12, the only valid positional argument will be `data`, and passing other arguments without an explicit keyword will result in an error or misinterpretation.\n",
      "  warnings.warn(\n"
     ]
    },
    {
     "data": {
      "text/plain": [
       "<AxesSubplot:xlabel='hero_id', ylabel='count'>"
      ]
     },
     "execution_count": 130,
     "metadata": {},
     "output_type": "execute_result"
    },
    {
     "data": {
      "image/png": "[encoded data removed]",
      "text/plain": [
       "<Figure size 864x576 with 1 Axes>"
      ]
     },
     "metadata": {
      "needs_background": "light"
     },
     "output_type": "display_data"
    }
   ],
   "source": [
    "plt.figure(figsize=(12, 8))\n",
    "sns.countplot(df.hero_id)"
   ]
  },
  {
   "cell_type": "code",
   "execution_count": 147,
   "metadata": {},
   "outputs": [],
   "source": [
    "folder_data = os.listdir('C:/Users/lybov/OneDrive/Рабочий стол')"
   ]
  },
  {
   "cell_type": "code",
   "execution_count": 148,
   "metadata": {},
   "outputs": [
    {
     "data": {
      "text/plain": [
       "['CV ПЛВ.docx',\n",
       " 'desktop.ini',\n",
       " 'Discord.lnk',\n",
       " 'Disk-O.lnk',\n",
       " 'DjVuReader.2.0.0.26.rus',\n",
       " 'FL Studio 20.lnk',\n",
       " 'Photo Pos Pro 3.lnk',\n",
       " 'Slack.lnk',\n",
       " 'Start Zoom.lnk',\n",
       " 'Telegram.lnk',\n",
       " 'Total Commander 64 bit.lnk',\n",
       " 'Visual Studio Code.lnk',\n",
       " 'Zoom.lnk',\n",
       " '~$анерка 10 янв.docx',\n",
       " '~$кумент Microsoft Word (4).docx',\n",
       " '~$кумент Microsoft Word.docx',\n",
       " '~$токопия ФОС_ПР_ОФО.docx',\n",
       " '~WRL3526.tmp',\n",
       " 'µTorrent.lnk',\n",
       " 'док',\n",
       " 'Документ Microsoft Word.docx',\n",
       " 'Документы - Ярлык.lnk',\n",
       " 'Заметки в Яндекс.Диске.lnk',\n",
       " 'йцукен.txt',\n",
       " 'Лист Microsoft Excel.xlsx',\n",
       " 'Любовь - Chrome.lnk',\n",
       " 'муз',\n",
       " 'Примечание к резюме.docx',\n",
       " 'Резюме ПЛВ 280623.docx',\n",
       " 'Резюме ПЛВ 280623.pdf',\n",
       " 'Резюме ПЛВ 290623.docx',\n",
       " 'Резюме ПЛВ 290623.pdf',\n",
       " 'Скриншоты в Яндекс.Диске.lnk',\n",
       " 'Сопровод  письмо.docx',\n",
       " 'фото',\n",
       " 'Этот компьютер - Ярлык.lnk',\n",
       " 'Яндекс.Диск.lnk',\n",
       " 'Яндекс.Телемост.lnk']"
      ]
     },
     "execution_count": 148,
     "metadata": {},
     "output_type": "execute_result"
    }
   ],
   "source": [
    "folder_data"
   ]
  },
  {
   "cell_type": "code",
   "execution_count": 152,
   "metadata": {},
   "outputs": [
    {
     "data": {
      "text/plain": [
       "['Резюме ПЛВ 280623.docx',\n",
       " 'Резюме ПЛВ 280623.pdf',\n",
       " 'Резюме ПЛВ 290623.docx',\n",
       " 'Резюме ПЛВ 290623.pdf']"
      ]
     },
     "execution_count": 152,
     "metadata": {},
     "output_type": "execute_result"
    }
   ],
   "source": [
    "[i for i in folder_data if i.startswith('Р')]\n",
    "#list comprehension\n",
    "#таким образом, сразу сохраняем в список"
   ]
  },
  {
   "cell_type": "code",
   "execution_count": 153,
   "metadata": {},
   "outputs": [],
   "source": [
    "folder_data = [i for i in os.listdir('C:/Users/lybov/OneDrive/Рабочий стол') if i.startswith('Р')]"
   ]
  },
  {
   "cell_type": "code",
   "execution_count": 154,
   "metadata": {},
   "outputs": [
    {
     "data": {
      "text/plain": [
       "['Резюме ПЛВ 280623.docx',\n",
       " 'Резюме ПЛВ 280623.pdf',\n",
       " 'Резюме ПЛВ 290623.docx',\n",
       " 'Резюме ПЛВ 290623.pdf']"
      ]
     },
     "execution_count": 154,
     "metadata": {},
     "output_type": "execute_result"
    }
   ],
   "source": [
    "folder_data"
   ]
  },
  {
   "cell_type": "code",
   "execution_count": 157,
   "metadata": {},
   "outputs": [
    {
     "data": {
      "text/plain": [
       "'C:\\\\Users\\\\lybov'"
      ]
     },
     "execution_count": 157,
     "metadata": {},
     "output_type": "execute_result"
    }
   ],
   "source": [
    "os.getcwd()"
   ]
  },
  {
   "cell_type": "markdown",
   "metadata": {},
   "source": [
    "### Урок 4. Работа с грязными данными "
   ]
  },
  {
   "cell_type": "code",
   "execution_count": 165,
   "metadata": {},
   "outputs": [
    {
     "data": {
      "text/html": [
       "<div>\n",
       "<style scoped>\n",
       "    .dataframe tbody tr th:only-of-type {\n",
       "        vertical-align: middle;\n",
       "    }\n",
       "\n",
       "    .dataframe tbody tr th {\n",
       "        vertical-align: top;\n",
       "    }\n",
       "\n",
       "    .dataframe thead th {\n",
       "        text-align: right;\n",
       "    }\n",
       "</style>\n",
       "<table border=\"1\" class=\"dataframe\">\n",
       "  <thead>\n",
       "    <tr style=\"text-align: right;\">\n",
       "      <th></th>\n",
       "      <th>match_id</th>\n",
       "      <th>start_time</th>\n",
       "      <th>win</th>\n",
       "      <th>hero_id</th>\n",
       "      <th>account_id</th>\n",
       "      <th>leaguename</th>\n",
       "    </tr>\n",
       "  </thead>\n",
       "  <tbody>\n",
       "    <tr>\n",
       "      <th>0</th>\n",
       "      <td>7179178843</td>\n",
       "      <td>1685505859</td>\n",
       "      <td>False</td>\n",
       "      <td>86</td>\n",
       "      <td>992327405</td>\n",
       "      <td>Destiny league</td>\n",
       "    </tr>\n",
       "    <tr>\n",
       "      <th>49</th>\n",
       "      <td>7179217564</td>\n",
       "      <td>1685509301</td>\n",
       "      <td>True</td>\n",
       "      <td>86</td>\n",
       "      <td>148526973</td>\n",
       "      <td>DPC 2023 SEA Summer Tour Division I - presente...</td>\n",
       "    </tr>\n",
       "    <tr>\n",
       "      <th>54</th>\n",
       "      <td>7179219706</td>\n",
       "      <td>1685509494</td>\n",
       "      <td>True</td>\n",
       "      <td>86</td>\n",
       "      <td>133682196</td>\n",
       "      <td>ESportsBattle | DOTA2 SC8</td>\n",
       "    </tr>\n",
       "    <tr>\n",
       "      <th>62</th>\n",
       "      <td>7179236527</td>\n",
       "      <td>1685511036</td>\n",
       "      <td>False</td>\n",
       "      <td>86</td>\n",
       "      <td>992327405</td>\n",
       "      <td>Destiny league</td>\n",
       "    </tr>\n",
       "    <tr>\n",
       "      <th>105</th>\n",
       "      <td>7179267187</td>\n",
       "      <td>1685513891</td>\n",
       "      <td>True</td>\n",
       "      <td>86</td>\n",
       "      <td>156029808</td>\n",
       "      <td>DPC 2023 SEA Summer Tour Division I - presente...</td>\n",
       "    </tr>\n",
       "  </tbody>\n",
       "</table>\n",
       "</div>"
      ],
      "text/plain": [
       "       match_id  start_time    win  hero_id  account_id  \\\n",
       "0    7179178843  1685505859  False       86   992327405   \n",
       "49   7179217564  1685509301   True       86   148526973   \n",
       "54   7179219706  1685509494   True       86   133682196   \n",
       "62   7179236527  1685511036  False       86   992327405   \n",
       "105  7179267187  1685513891   True       86   156029808   \n",
       "\n",
       "                                            leaguename  \n",
       "0                                       Destiny league  \n",
       "49   DPC 2023 SEA Summer Tour Division I - presente...  \n",
       "54                           ESportsBattle | DOTA2 SC8  \n",
       "62                                      Destiny league  \n",
       "105  DPC 2023 SEA Summer Tour Division I - presente...  "
      ]
     },
     "execution_count": 165,
     "metadata": {},
     "output_type": "execute_result"
    }
   ],
   "source": [
    "df_86.head()"
   ]
  },
  {
   "cell_type": "code",
   "execution_count": 161,
   "metadata": {},
   "outputs": [],
   "source": [
    "#f строка\n",
    "df_shape = f'Предложение имеет {df_86.shape[0]} строк и {df_86.shape[1]} столбцов'"
   ]
  },
  {
   "cell_type": "code",
   "execution_count": 162,
   "metadata": {},
   "outputs": [
    {
     "data": {
      "text/plain": [
       "'Предложение имеет 8 строк и 6 столбцов'"
      ]
     },
     "execution_count": 162,
     "metadata": {},
     "output_type": "execute_result"
    }
   ],
   "source": [
    "df_shape"
   ]
  },
  {
   "cell_type": "code",
   "execution_count": 196,
   "metadata": {},
   "outputs": [
    {
     "data": {
      "text/html": [
       "<div>\n",
       "<style scoped>\n",
       "    .dataframe tbody tr th:only-of-type {\n",
       "        vertical-align: middle;\n",
       "    }\n",
       "\n",
       "    .dataframe tbody tr th {\n",
       "        vertical-align: top;\n",
       "    }\n",
       "\n",
       "    .dataframe thead th {\n",
       "        text-align: right;\n",
       "    }\n",
       "</style>\n",
       "<table border=\"1\" class=\"dataframe\">\n",
       "  <thead>\n",
       "    <tr style=\"text-align: right;\">\n",
       "      <th></th>\n",
       "      <th>match_id</th>\n",
       "      <th>amount_match</th>\n",
       "      <th>heroes</th>\n",
       "      <th>Name</th>\n",
       "    </tr>\n",
       "  </thead>\n",
       "  <tbody>\n",
       "    <tr>\n",
       "      <th>0</th>\n",
       "      <td>7.179179e+09</td>\n",
       "      <td>78.0</td>\n",
       "      <td>1</td>\n",
       "      <td>RTY</td>\n",
       "    </tr>\n",
       "    <tr>\n",
       "      <th>1</th>\n",
       "      <td>NaN</td>\n",
       "      <td>90.0</td>\n",
       "      <td>3</td>\n",
       "      <td>Diablo</td>\n",
       "    </tr>\n",
       "    <tr>\n",
       "      <th>2</th>\n",
       "      <td>3.000000e+00</td>\n",
       "      <td>67.0</td>\n",
       "      <td>5</td>\n",
       "      <td>NaN</td>\n",
       "    </tr>\n",
       "    <tr>\n",
       "      <th>3</th>\n",
       "      <td>4.000000e+00</td>\n",
       "      <td>NaN</td>\n",
       "      <td>2</td>\n",
       "      <td>Lord</td>\n",
       "    </tr>\n",
       "    <tr>\n",
       "      <th>4</th>\n",
       "      <td>5.000000e+00</td>\n",
       "      <td>11.0</td>\n",
       "      <td>5</td>\n",
       "      <td>zxcvbnm</td>\n",
       "    </tr>\n",
       "  </tbody>\n",
       "</table>\n",
       "</div>"
      ],
      "text/plain": [
       "       match_id  amount_match  heroes     Name\n",
       "0  7.179179e+09          78.0       1      RTY\n",
       "1           NaN          90.0       3   Diablo\n",
       "2  3.000000e+00          67.0       5      NaN\n",
       "3  4.000000e+00           NaN       2     Lord\n",
       "4  5.000000e+00          11.0       5  zxcvbnm"
      ]
     },
     "execution_count": 196,
     "metadata": {},
     "output_type": "execute_result"
    }
   ],
   "source": [
    "df_1"
   ]
  },
  {
   "cell_type": "code",
   "execution_count": 202,
   "metadata": {},
   "outputs": [
    {
     "data": {
      "text/plain": [
       "match_id        float64\n",
       "amount_match      int64\n",
       "heroes            int64\n",
       "Name             object\n",
       "dtype: object"
      ]
     },
     "execution_count": 202,
     "metadata": {},
     "output_type": "execute_result"
    }
   ],
   "source": [
    "df_1.dtypes"
   ]
  },
  {
   "cell_type": "code",
   "execution_count": 207,
   "metadata": {},
   "outputs": [],
   "source": [
    "#конвертация типов данных\n",
    "df_1 = df_1.astype({'amount_match': int})"
   ]
  },
  {
   "cell_type": "code",
   "execution_count": 208,
   "metadata": {},
   "outputs": [],
   "source": [
    "df_1['amount_match']=df_1['amount_match'].astype('int')"
   ]
  },
  {
   "cell_type": "code",
   "execution_count": 209,
   "metadata": {},
   "outputs": [
    {
     "data": {
      "text/plain": [
       "match_id        float64\n",
       "amount_match      int32\n",
       "heroes            int64\n",
       "Name             object\n",
       "dtype: object"
      ]
     },
     "execution_count": 209,
     "metadata": {},
     "output_type": "execute_result"
    }
   ],
   "source": [
    "df_1.dtypes"
   ]
  },
  {
   "cell_type": "code",
   "execution_count": 210,
   "metadata": {},
   "outputs": [],
   "source": [
    "#Удаление колонок из ДФ"
   ]
  },
  {
   "cell_type": "code",
   "execution_count": 228,
   "metadata": {},
   "outputs": [],
   "source": [
    "#создадим ДФ\n",
    "data ={\n",
    "    'client': [1, 1, 3],\n",
    "    'sex': ['f', 'm', 'f'],\n",
    "    'age': [33, 35, 36]\n",
    "        \n",
    "}"
   ]
  },
  {
   "cell_type": "code",
   "execution_count": 229,
   "metadata": {},
   "outputs": [
    {
     "data": {
      "text/plain": [
       "{'client': [1, 1, 3], 'sex': ['f', 'm', 'f'], 'age': [33, 35, 36]}"
      ]
     },
     "execution_count": 229,
     "metadata": {},
     "output_type": "execute_result"
    }
   ],
   "source": [
    "data"
   ]
  },
  {
   "cell_type": "code",
   "execution_count": 230,
   "metadata": {},
   "outputs": [],
   "source": [
    "df_4 = pd.DataFrame(data)"
   ]
  },
  {
   "cell_type": "code",
   "execution_count": 231,
   "metadata": {},
   "outputs": [
    {
     "data": {
      "text/html": [
       "<div>\n",
       "<style scoped>\n",
       "    .dataframe tbody tr th:only-of-type {\n",
       "        vertical-align: middle;\n",
       "    }\n",
       "\n",
       "    .dataframe tbody tr th {\n",
       "        vertical-align: top;\n",
       "    }\n",
       "\n",
       "    .dataframe thead th {\n",
       "        text-align: right;\n",
       "    }\n",
       "</style>\n",
       "<table border=\"1\" class=\"dataframe\">\n",
       "  <thead>\n",
       "    <tr style=\"text-align: right;\">\n",
       "      <th></th>\n",
       "      <th>client</th>\n",
       "      <th>sex</th>\n",
       "      <th>age</th>\n",
       "    </tr>\n",
       "  </thead>\n",
       "  <tbody>\n",
       "    <tr>\n",
       "      <th>0</th>\n",
       "      <td>1</td>\n",
       "      <td>f</td>\n",
       "      <td>33</td>\n",
       "    </tr>\n",
       "    <tr>\n",
       "      <th>1</th>\n",
       "      <td>1</td>\n",
       "      <td>m</td>\n",
       "      <td>35</td>\n",
       "    </tr>\n",
       "    <tr>\n",
       "      <th>2</th>\n",
       "      <td>3</td>\n",
       "      <td>f</td>\n",
       "      <td>36</td>\n",
       "    </tr>\n",
       "  </tbody>\n",
       "</table>\n",
       "</div>"
      ],
      "text/plain": [
       "   client sex  age\n",
       "0       1   f   33\n",
       "1       1   m   35\n",
       "2       3   f   36"
      ]
     },
     "execution_count": 231,
     "metadata": {},
     "output_type": "execute_result"
    }
   ],
   "source": [
    "df_4"
   ]
  },
  {
   "cell_type": "code",
   "execution_count": 232,
   "metadata": {},
   "outputs": [],
   "source": [
    "#Удаление колонок\n",
    "df_4.drop(columns=['sex', 'age'], inplace=True)\n"
   ]
  },
  {
   "cell_type": "code",
   "execution_count": 236,
   "metadata": {},
   "outputs": [
    {
     "data": {
      "text/html": [
       "<div>\n",
       "<style scoped>\n",
       "    .dataframe tbody tr th:only-of-type {\n",
       "        vertical-align: middle;\n",
       "    }\n",
       "\n",
       "    .dataframe tbody tr th {\n",
       "        vertical-align: top;\n",
       "    }\n",
       "\n",
       "    .dataframe thead th {\n",
       "        text-align: right;\n",
       "    }\n",
       "</style>\n",
       "<table border=\"1\" class=\"dataframe\">\n",
       "  <thead>\n",
       "    <tr style=\"text-align: right;\">\n",
       "      <th></th>\n",
       "      <th>client</th>\n",
       "    </tr>\n",
       "  </thead>\n",
       "  <tbody>\n",
       "    <tr>\n",
       "      <th>0</th>\n",
       "      <td>1</td>\n",
       "    </tr>\n",
       "    <tr>\n",
       "      <th>1</th>\n",
       "      <td>1</td>\n",
       "    </tr>\n",
       "    <tr>\n",
       "      <th>2</th>\n",
       "      <td>3</td>\n",
       "    </tr>\n",
       "  </tbody>\n",
       "</table>\n",
       "</div>"
      ],
      "text/plain": [
       "   client\n",
       "0       1\n",
       "1       1\n",
       "2       3"
      ]
     },
     "execution_count": 236,
     "metadata": {},
     "output_type": "execute_result"
    }
   ],
   "source": [
    "df_4"
   ]
  },
  {
   "cell_type": "code",
   "execution_count": 237,
   "metadata": {},
   "outputs": [
    {
     "data": {
      "text/html": [
       "<div>\n",
       "<style scoped>\n",
       "    .dataframe tbody tr th:only-of-type {\n",
       "        vertical-align: middle;\n",
       "    }\n",
       "\n",
       "    .dataframe tbody tr th {\n",
       "        vertical-align: top;\n",
       "    }\n",
       "\n",
       "    .dataframe thead th {\n",
       "        text-align: right;\n",
       "    }\n",
       "</style>\n",
       "<table border=\"1\" class=\"dataframe\">\n",
       "  <thead>\n",
       "    <tr style=\"text-align: right;\">\n",
       "      <th></th>\n",
       "      <th>client</th>\n",
       "    </tr>\n",
       "  </thead>\n",
       "  <tbody>\n",
       "    <tr>\n",
       "      <th>0</th>\n",
       "      <td>1</td>\n",
       "    </tr>\n",
       "    <tr>\n",
       "      <th>2</th>\n",
       "      <td>3</td>\n",
       "    </tr>\n",
       "  </tbody>\n",
       "</table>\n",
       "</div>"
      ],
      "text/plain": [
       "   client\n",
       "0       1\n",
       "2       3"
      ]
     },
     "execution_count": 237,
     "metadata": {},
     "output_type": "execute_result"
    }
   ],
   "source": [
    "#удаление дупликатов\n",
    "#df_4.drop_duplicates()\n",
    "\n",
    "df_4.drop_duplicates(subset=['client'])\n"
   ]
  },
  {
   "cell_type": "code",
   "execution_count": 240,
   "metadata": {},
   "outputs": [
    {
     "name": "stdout",
     "output_type": "stream",
     "text": [
      "end\n"
     ]
    }
   ],
   "source": [
    "# Управление циклом\n",
    "numbers = [1, -2, 3, 0, -3, 2]\n",
    "positive_numbers=[]\n",
    "\n",
    "for number in numbers:\n",
    "    if number > 0:\n",
    "        positive_numbers.append(number)\n",
    "    elif number == 0:\n",
    "        break\n",
    "        \n",
    "print('end')\n",
    "    "
   ]
  },
  {
   "cell_type": "code",
   "execution_count": 241,
   "metadata": {},
   "outputs": [
    {
     "data": {
      "text/plain": [
       "[1, 3]"
      ]
     },
     "execution_count": 241,
     "metadata": {},
     "output_type": "execute_result"
    }
   ],
   "source": [
    "positive_numbers"
   ]
  },
  {
   "cell_type": "code",
   "execution_count": 242,
   "metadata": {},
   "outputs": [],
   "source": [
    "# конвертация во время"
   ]
  },
  {
   "cell_type": "code",
   "execution_count": 245,
   "metadata": {},
   "outputs": [],
   "source": [
    "df000=pd.read_csv('C:/Users/lybov/Downloads/lesson_2_data.csv', encoding='Windows-1251', sep=';')"
   ]
  },
  {
   "cell_type": "code",
   "execution_count": 300,
   "metadata": {},
   "outputs": [
    {
     "data": {
      "text/html": [
       "<div>\n",
       "<style scoped>\n",
       "    .dataframe tbody tr th:only-of-type {\n",
       "        vertical-align: middle;\n",
       "    }\n",
       "\n",
       "    .dataframe tbody tr th {\n",
       "        vertical-align: top;\n",
       "    }\n",
       "\n",
       "    .dataframe thead th {\n",
       "        text-align: right;\n",
       "    }\n",
       "</style>\n",
       "<table border=\"1\" class=\"dataframe\">\n",
       "  <thead>\n",
       "    <tr style=\"text-align: right;\">\n",
       "      <th></th>\n",
       "      <th>match_id</th>\n",
       "      <th>start_time</th>\n",
       "      <th>win</th>\n",
       "      <th>hero_id</th>\n",
       "      <th>account_id</th>\n",
       "      <th>leaguename</th>\n",
       "      <th>time</th>\n",
       "    </tr>\n",
       "  </thead>\n",
       "  <tbody>\n",
       "    <tr>\n",
       "      <th>0</th>\n",
       "      <td>7179178843</td>\n",
       "      <td>1685505859</td>\n",
       "      <td>False</td>\n",
       "      <td>86</td>\n",
       "      <td>992327405</td>\n",
       "      <td>Destiny league</td>\n",
       "      <td>2023-05-31 04:04:19</td>\n",
       "    </tr>\n",
       "    <tr>\n",
       "      <th>1</th>\n",
       "      <td>7179178843</td>\n",
       "      <td>1685505859</td>\n",
       "      <td>False</td>\n",
       "      <td>128</td>\n",
       "      <td>162724090</td>\n",
       "      <td>Destiny league</td>\n",
       "      <td>2023-05-31 04:04:19</td>\n",
       "    </tr>\n",
       "    <tr>\n",
       "      <th>2</th>\n",
       "      <td>7179178843</td>\n",
       "      <td>1685505859</td>\n",
       "      <td>False</td>\n",
       "      <td>17</td>\n",
       "      <td>1232094007</td>\n",
       "      <td>Destiny league</td>\n",
       "      <td>2023-05-31 04:04:19</td>\n",
       "    </tr>\n",
       "    <tr>\n",
       "      <th>3</th>\n",
       "      <td>7179178843</td>\n",
       "      <td>1685505859</td>\n",
       "      <td>False</td>\n",
       "      <td>41</td>\n",
       "      <td>1170923497</td>\n",
       "      <td>Destiny league</td>\n",
       "      <td>2023-05-31 04:04:19</td>\n",
       "    </tr>\n",
       "    <tr>\n",
       "      <th>4</th>\n",
       "      <td>7179178843</td>\n",
       "      <td>1685505859</td>\n",
       "      <td>False</td>\n",
       "      <td>38</td>\n",
       "      <td>202984325</td>\n",
       "      <td>Destiny league</td>\n",
       "      <td>2023-05-31 04:04:19</td>\n",
       "    </tr>\n",
       "    <tr>\n",
       "      <th>...</th>\n",
       "      <td>...</td>\n",
       "      <td>...</td>\n",
       "      <td>...</td>\n",
       "      <td>...</td>\n",
       "      <td>...</td>\n",
       "      <td>...</td>\n",
       "      <td>...</td>\n",
       "    </tr>\n",
       "    <tr>\n",
       "      <th>195</th>\n",
       "      <td>7179367595</td>\n",
       "      <td>1685521110</td>\n",
       "      <td>True</td>\n",
       "      <td>72</td>\n",
       "      <td>1427100407</td>\n",
       "      <td>Ancients League</td>\n",
       "      <td>2023-05-31 08:18:30</td>\n",
       "    </tr>\n",
       "    <tr>\n",
       "      <th>196</th>\n",
       "      <td>7179367595</td>\n",
       "      <td>1685521110</td>\n",
       "      <td>True</td>\n",
       "      <td>88</td>\n",
       "      <td>1529282248</td>\n",
       "      <td>Ancients League</td>\n",
       "      <td>2023-05-31 08:18:30</td>\n",
       "    </tr>\n",
       "    <tr>\n",
       "      <th>197</th>\n",
       "      <td>7179367595</td>\n",
       "      <td>1685521110</td>\n",
       "      <td>True</td>\n",
       "      <td>40</td>\n",
       "      <td>1526386891</td>\n",
       "      <td>Ancients League</td>\n",
       "      <td>2023-05-31 08:18:30</td>\n",
       "    </tr>\n",
       "    <tr>\n",
       "      <th>198</th>\n",
       "      <td>7179367595</td>\n",
       "      <td>1685521110</td>\n",
       "      <td>True</td>\n",
       "      <td>87</td>\n",
       "      <td>1513040880</td>\n",
       "      <td>Ancients League</td>\n",
       "      <td>2023-05-31 08:18:30</td>\n",
       "    </tr>\n",
       "    <tr>\n",
       "      <th>199</th>\n",
       "      <td>7179367595</td>\n",
       "      <td>1685521110</td>\n",
       "      <td>True</td>\n",
       "      <td>126</td>\n",
       "      <td>1517400698</td>\n",
       "      <td>Ancients League</td>\n",
       "      <td>2023-05-31 08:18:30</td>\n",
       "    </tr>\n",
       "  </tbody>\n",
       "</table>\n",
       "<p>200 rows × 7 columns</p>\n",
       "</div>"
      ],
      "text/plain": [
       "       match_id  start_time    win  hero_id  account_id       leaguename  \\\n",
       "0    7179178843  1685505859  False       86   992327405   Destiny league   \n",
       "1    7179178843  1685505859  False      128   162724090   Destiny league   \n",
       "2    7179178843  1685505859  False       17  1232094007   Destiny league   \n",
       "3    7179178843  1685505859  False       41  1170923497   Destiny league   \n",
       "4    7179178843  1685505859  False       38   202984325   Destiny league   \n",
       "..          ...         ...    ...      ...         ...              ...   \n",
       "195  7179367595  1685521110   True       72  1427100407  Ancients League   \n",
       "196  7179367595  1685521110   True       88  1529282248  Ancients League   \n",
       "197  7179367595  1685521110   True       40  1526386891  Ancients League   \n",
       "198  7179367595  1685521110   True       87  1513040880  Ancients League   \n",
       "199  7179367595  1685521110   True      126  1517400698  Ancients League   \n",
       "\n",
       "                   time  \n",
       "0   2023-05-31 04:04:19  \n",
       "1   2023-05-31 04:04:19  \n",
       "2   2023-05-31 04:04:19  \n",
       "3   2023-05-31 04:04:19  \n",
       "4   2023-05-31 04:04:19  \n",
       "..                  ...  \n",
       "195 2023-05-31 08:18:30  \n",
       "196 2023-05-31 08:18:30  \n",
       "197 2023-05-31 08:18:30  \n",
       "198 2023-05-31 08:18:30  \n",
       "199 2023-05-31 08:18:30  \n",
       "\n",
       "[200 rows x 7 columns]"
      ]
     },
     "execution_count": 300,
     "metadata": {},
     "output_type": "execute_result"
    }
   ],
   "source": [
    "df"
   ]
  },
  {
   "cell_type": "code",
   "execution_count": 270,
   "metadata": {},
   "outputs": [],
   "source": [
    "# время переводим в таймстэ\n",
    "df['time'] = pd.to_datetime(df.start_time, unit='s')"
   ]
  },
  {
   "cell_type": "code",
   "execution_count": 271,
   "metadata": {},
   "outputs": [
    {
     "data": {
      "text/html": [
       "<div>\n",
       "<style scoped>\n",
       "    .dataframe tbody tr th:only-of-type {\n",
       "        vertical-align: middle;\n",
       "    }\n",
       "\n",
       "    .dataframe tbody tr th {\n",
       "        vertical-align: top;\n",
       "    }\n",
       "\n",
       "    .dataframe thead th {\n",
       "        text-align: right;\n",
       "    }\n",
       "</style>\n",
       "<table border=\"1\" class=\"dataframe\">\n",
       "  <thead>\n",
       "    <tr style=\"text-align: right;\">\n",
       "      <th></th>\n",
       "      <th>match_id</th>\n",
       "      <th>start_time</th>\n",
       "      <th>win</th>\n",
       "      <th>hero_id</th>\n",
       "      <th>account_id</th>\n",
       "      <th>leaguename</th>\n",
       "      <th>time</th>\n",
       "    </tr>\n",
       "  </thead>\n",
       "  <tbody>\n",
       "    <tr>\n",
       "      <th>0</th>\n",
       "      <td>7179178843</td>\n",
       "      <td>1685505859</td>\n",
       "      <td>False</td>\n",
       "      <td>86</td>\n",
       "      <td>992327405</td>\n",
       "      <td>Destiny league</td>\n",
       "      <td>2023-05-31 04:04:19</td>\n",
       "    </tr>\n",
       "    <tr>\n",
       "      <th>1</th>\n",
       "      <td>7179178843</td>\n",
       "      <td>1685505859</td>\n",
       "      <td>False</td>\n",
       "      <td>128</td>\n",
       "      <td>162724090</td>\n",
       "      <td>Destiny league</td>\n",
       "      <td>2023-05-31 04:04:19</td>\n",
       "    </tr>\n",
       "    <tr>\n",
       "      <th>2</th>\n",
       "      <td>7179178843</td>\n",
       "      <td>1685505859</td>\n",
       "      <td>False</td>\n",
       "      <td>17</td>\n",
       "      <td>1232094007</td>\n",
       "      <td>Destiny league</td>\n",
       "      <td>2023-05-31 04:04:19</td>\n",
       "    </tr>\n",
       "    <tr>\n",
       "      <th>3</th>\n",
       "      <td>7179178843</td>\n",
       "      <td>1685505859</td>\n",
       "      <td>False</td>\n",
       "      <td>41</td>\n",
       "      <td>1170923497</td>\n",
       "      <td>Destiny league</td>\n",
       "      <td>2023-05-31 04:04:19</td>\n",
       "    </tr>\n",
       "    <tr>\n",
       "      <th>4</th>\n",
       "      <td>7179178843</td>\n",
       "      <td>1685505859</td>\n",
       "      <td>False</td>\n",
       "      <td>38</td>\n",
       "      <td>202984325</td>\n",
       "      <td>Destiny league</td>\n",
       "      <td>2023-05-31 04:04:19</td>\n",
       "    </tr>\n",
       "  </tbody>\n",
       "</table>\n",
       "</div>"
      ],
      "text/plain": [
       "     match_id  start_time    win  hero_id  account_id      leaguename  \\\n",
       "0  7179178843  1685505859  False       86   992327405  Destiny league   \n",
       "1  7179178843  1685505859  False      128   162724090  Destiny league   \n",
       "2  7179178843  1685505859  False       17  1232094007  Destiny league   \n",
       "3  7179178843  1685505859  False       41  1170923497  Destiny league   \n",
       "4  7179178843  1685505859  False       38   202984325  Destiny league   \n",
       "\n",
       "                 time  \n",
       "0 2023-05-31 04:04:19  \n",
       "1 2023-05-31 04:04:19  \n",
       "2 2023-05-31 04:04:19  \n",
       "3 2023-05-31 04:04:19  \n",
       "4 2023-05-31 04:04:19  "
      ]
     },
     "execution_count": 271,
     "metadata": {},
     "output_type": "execute_result"
    }
   ],
   "source": [
    "df.head()"
   ]
  },
  {
   "cell_type": "code",
   "execution_count": 260,
   "metadata": {},
   "outputs": [
    {
     "data": {
      "text/plain": [
       "match_id               int64\n",
       "start_time             int64\n",
       "win                     bool\n",
       "hero_id                int64\n",
       "account_id             int64\n",
       "leaguename            object\n",
       "time          datetime64[ns]\n",
       "dtype: object"
      ]
     },
     "execution_count": 260,
     "metadata": {},
     "output_type": "execute_result"
    }
   ],
   "source": [
    "df.dtypes"
   ]
  },
  {
   "cell_type": "code",
   "execution_count": 267,
   "metadata": {},
   "outputs": [
    {
     "data": {
      "text/plain": [
       "0      5\n",
       "1      5\n",
       "2      5\n",
       "3      5\n",
       "4      5\n",
       "      ..\n",
       "195    5\n",
       "196    5\n",
       "197    5\n",
       "198    5\n",
       "199    5\n",
       "Name: time, Length: 200, dtype: int64"
      ]
     },
     "execution_count": 267,
     "metadata": {},
     "output_type": "execute_result"
    }
   ],
   "source": [
    "df.time.dt.date\n",
    "#df.time.dt.month"
   ]
  },
  {
   "cell_type": "code",
   "execution_count": 289,
   "metadata": {
    "scrolled": true
   },
   "outputs": [
    {
     "data": {
      "text/html": [
       "<div>\n",
       "<style scoped>\n",
       "    .dataframe tbody tr th:only-of-type {\n",
       "        vertical-align: middle;\n",
       "    }\n",
       "\n",
       "    .dataframe tbody tr th {\n",
       "        vertical-align: top;\n",
       "    }\n",
       "\n",
       "    .dataframe thead th {\n",
       "        text-align: right;\n",
       "    }\n",
       "</style>\n",
       "<table border=\"1\" class=\"dataframe\">\n",
       "  <thead>\n",
       "    <tr style=\"text-align: right;\">\n",
       "      <th>leaguename</th>\n",
       "      <th>time</th>\n",
       "      <th>Ancients League</th>\n",
       "      <th>DPC 2023 SEA Summer Tour Division I - presented by Epulze</th>\n",
       "      <th>Destiny league</th>\n",
       "      <th>ESportsBattle | DOTA2 SC8</th>\n",
       "      <th>Pinnacle Cup: Malta Vibes #2</th>\n",
       "    </tr>\n",
       "  </thead>\n",
       "  <tbody>\n",
       "    <tr>\n",
       "      <th>0</th>\n",
       "      <td>2023-05-31 04:04:19</td>\n",
       "      <td>NaN</td>\n",
       "      <td>NaN</td>\n",
       "      <td>5.0</td>\n",
       "      <td>NaN</td>\n",
       "      <td>NaN</td>\n",
       "    </tr>\n",
       "    <tr>\n",
       "      <th>1</th>\n",
       "      <td>2023-05-31 04:13:05</td>\n",
       "      <td>5.0</td>\n",
       "      <td>NaN</td>\n",
       "      <td>NaN</td>\n",
       "      <td>NaN</td>\n",
       "      <td>NaN</td>\n",
       "    </tr>\n",
       "    <tr>\n",
       "      <th>2</th>\n",
       "      <td>2023-05-31 04:45:04</td>\n",
       "      <td>NaN</td>\n",
       "      <td>NaN</td>\n",
       "      <td>5.0</td>\n",
       "      <td>NaN</td>\n",
       "      <td>NaN</td>\n",
       "    </tr>\n",
       "    <tr>\n",
       "      <th>3</th>\n",
       "      <td>2023-05-31 04:50:22</td>\n",
       "      <td>5.0</td>\n",
       "      <td>NaN</td>\n",
       "      <td>NaN</td>\n",
       "      <td>NaN</td>\n",
       "      <td>NaN</td>\n",
       "    </tr>\n",
       "    <tr>\n",
       "      <th>4</th>\n",
       "      <td>2023-05-31 05:01:41</td>\n",
       "      <td>NaN</td>\n",
       "      <td>5.0</td>\n",
       "      <td>NaN</td>\n",
       "      <td>NaN</td>\n",
       "      <td>NaN</td>\n",
       "    </tr>\n",
       "    <tr>\n",
       "      <th>5</th>\n",
       "      <td>2023-05-31 05:04:54</td>\n",
       "      <td>NaN</td>\n",
       "      <td>NaN</td>\n",
       "      <td>NaN</td>\n",
       "      <td>5.0</td>\n",
       "      <td>NaN</td>\n",
       "    </tr>\n",
       "    <tr>\n",
       "      <th>6</th>\n",
       "      <td>2023-05-31 05:30:36</td>\n",
       "      <td>NaN</td>\n",
       "      <td>NaN</td>\n",
       "      <td>5.0</td>\n",
       "      <td>NaN</td>\n",
       "      <td>NaN</td>\n",
       "    </tr>\n",
       "    <tr>\n",
       "      <th>7</th>\n",
       "      <td>2023-05-31 05:36:12</td>\n",
       "      <td>5.0</td>\n",
       "      <td>NaN</td>\n",
       "      <td>NaN</td>\n",
       "      <td>NaN</td>\n",
       "      <td>NaN</td>\n",
       "    </tr>\n",
       "    <tr>\n",
       "      <th>8</th>\n",
       "      <td>2023-05-31 06:11:54</td>\n",
       "      <td>NaN</td>\n",
       "      <td>NaN</td>\n",
       "      <td>NaN</td>\n",
       "      <td>5.0</td>\n",
       "      <td>NaN</td>\n",
       "    </tr>\n",
       "    <tr>\n",
       "      <th>9</th>\n",
       "      <td>2023-05-31 06:12:17</td>\n",
       "      <td>5.0</td>\n",
       "      <td>NaN</td>\n",
       "      <td>NaN</td>\n",
       "      <td>NaN</td>\n",
       "      <td>NaN</td>\n",
       "    </tr>\n",
       "    <tr>\n",
       "      <th>10</th>\n",
       "      <td>2023-05-31 06:18:11</td>\n",
       "      <td>NaN</td>\n",
       "      <td>5.0</td>\n",
       "      <td>NaN</td>\n",
       "      <td>NaN</td>\n",
       "      <td>NaN</td>\n",
       "    </tr>\n",
       "    <tr>\n",
       "      <th>11</th>\n",
       "      <td>2023-05-31 06:24:22</td>\n",
       "      <td>NaN</td>\n",
       "      <td>NaN</td>\n",
       "      <td>5.0</td>\n",
       "      <td>NaN</td>\n",
       "      <td>NaN</td>\n",
       "    </tr>\n",
       "    <tr>\n",
       "      <th>12</th>\n",
       "      <td>2023-05-31 06:57:54</td>\n",
       "      <td>5.0</td>\n",
       "      <td>NaN</td>\n",
       "      <td>NaN</td>\n",
       "      <td>NaN</td>\n",
       "      <td>NaN</td>\n",
       "    </tr>\n",
       "    <tr>\n",
       "      <th>13</th>\n",
       "      <td>2023-05-31 07:07:14</td>\n",
       "      <td>NaN</td>\n",
       "      <td>NaN</td>\n",
       "      <td>5.0</td>\n",
       "      <td>NaN</td>\n",
       "      <td>NaN</td>\n",
       "    </tr>\n",
       "    <tr>\n",
       "      <th>14</th>\n",
       "      <td>2023-05-31 07:18:36</td>\n",
       "      <td>NaN</td>\n",
       "      <td>5.0</td>\n",
       "      <td>NaN</td>\n",
       "      <td>NaN</td>\n",
       "      <td>NaN</td>\n",
       "    </tr>\n",
       "    <tr>\n",
       "      <th>15</th>\n",
       "      <td>2023-05-31 07:33:39</td>\n",
       "      <td>5.0</td>\n",
       "      <td>NaN</td>\n",
       "      <td>NaN</td>\n",
       "      <td>NaN</td>\n",
       "      <td>NaN</td>\n",
       "    </tr>\n",
       "    <tr>\n",
       "      <th>16</th>\n",
       "      <td>2023-05-31 07:48:27</td>\n",
       "      <td>NaN</td>\n",
       "      <td>NaN</td>\n",
       "      <td>5.0</td>\n",
       "      <td>NaN</td>\n",
       "      <td>NaN</td>\n",
       "    </tr>\n",
       "    <tr>\n",
       "      <th>17</th>\n",
       "      <td>2023-05-31 08:00:02</td>\n",
       "      <td>NaN</td>\n",
       "      <td>NaN</td>\n",
       "      <td>NaN</td>\n",
       "      <td>NaN</td>\n",
       "      <td>5.0</td>\n",
       "    </tr>\n",
       "    <tr>\n",
       "      <th>18</th>\n",
       "      <td>2023-05-31 08:05:05</td>\n",
       "      <td>NaN</td>\n",
       "      <td>NaN</td>\n",
       "      <td>NaN</td>\n",
       "      <td>5.0</td>\n",
       "      <td>NaN</td>\n",
       "    </tr>\n",
       "    <tr>\n",
       "      <th>19</th>\n",
       "      <td>2023-05-31 08:18:30</td>\n",
       "      <td>5.0</td>\n",
       "      <td>NaN</td>\n",
       "      <td>NaN</td>\n",
       "      <td>NaN</td>\n",
       "      <td>NaN</td>\n",
       "    </tr>\n",
       "  </tbody>\n",
       "</table>\n",
       "</div>"
      ],
      "text/plain": [
       "leaguename                time  Ancients League  \\\n",
       "0          2023-05-31 04:04:19              NaN   \n",
       "1          2023-05-31 04:13:05              5.0   \n",
       "2          2023-05-31 04:45:04              NaN   \n",
       "3          2023-05-31 04:50:22              5.0   \n",
       "4          2023-05-31 05:01:41              NaN   \n",
       "5          2023-05-31 05:04:54              NaN   \n",
       "6          2023-05-31 05:30:36              NaN   \n",
       "7          2023-05-31 05:36:12              5.0   \n",
       "8          2023-05-31 06:11:54              NaN   \n",
       "9          2023-05-31 06:12:17              5.0   \n",
       "10         2023-05-31 06:18:11              NaN   \n",
       "11         2023-05-31 06:24:22              NaN   \n",
       "12         2023-05-31 06:57:54              5.0   \n",
       "13         2023-05-31 07:07:14              NaN   \n",
       "14         2023-05-31 07:18:36              NaN   \n",
       "15         2023-05-31 07:33:39              5.0   \n",
       "16         2023-05-31 07:48:27              NaN   \n",
       "17         2023-05-31 08:00:02              NaN   \n",
       "18         2023-05-31 08:05:05              NaN   \n",
       "19         2023-05-31 08:18:30              5.0   \n",
       "\n",
       "leaguename  DPC 2023 SEA Summer Tour Division I - presented by Epulze  \\\n",
       "0                                                         NaN           \n",
       "1                                                         NaN           \n",
       "2                                                         NaN           \n",
       "3                                                         NaN           \n",
       "4                                                         5.0           \n",
       "5                                                         NaN           \n",
       "6                                                         NaN           \n",
       "7                                                         NaN           \n",
       "8                                                         NaN           \n",
       "9                                                         NaN           \n",
       "10                                                        5.0           \n",
       "11                                                        NaN           \n",
       "12                                                        NaN           \n",
       "13                                                        NaN           \n",
       "14                                                        5.0           \n",
       "15                                                        NaN           \n",
       "16                                                        NaN           \n",
       "17                                                        NaN           \n",
       "18                                                        NaN           \n",
       "19                                                        NaN           \n",
       "\n",
       "leaguename  Destiny league  ESportsBattle | DOTA2 SC8  \\\n",
       "0                      5.0                        NaN   \n",
       "1                      NaN                        NaN   \n",
       "2                      5.0                        NaN   \n",
       "3                      NaN                        NaN   \n",
       "4                      NaN                        NaN   \n",
       "5                      NaN                        5.0   \n",
       "6                      5.0                        NaN   \n",
       "7                      NaN                        NaN   \n",
       "8                      NaN                        5.0   \n",
       "9                      NaN                        NaN   \n",
       "10                     NaN                        NaN   \n",
       "11                     5.0                        NaN   \n",
       "12                     NaN                        NaN   \n",
       "13                     5.0                        NaN   \n",
       "14                     NaN                        NaN   \n",
       "15                     NaN                        NaN   \n",
       "16                     5.0                        NaN   \n",
       "17                     NaN                        NaN   \n",
       "18                     NaN                        5.0   \n",
       "19                     NaN                        NaN   \n",
       "\n",
       "leaguename  Pinnacle Cup: Malta Vibes #2  \n",
       "0                                    NaN  \n",
       "1                                    NaN  \n",
       "2                                    NaN  \n",
       "3                                    NaN  \n",
       "4                                    NaN  \n",
       "5                                    NaN  \n",
       "6                                    NaN  \n",
       "7                                    NaN  \n",
       "8                                    NaN  \n",
       "9                                    NaN  \n",
       "10                                   NaN  \n",
       "11                                   NaN  \n",
       "12                                   NaN  \n",
       "13                                   NaN  \n",
       "14                                   NaN  \n",
       "15                                   NaN  \n",
       "16                                   NaN  \n",
       "17                                   5.0  \n",
       "18                                   NaN  \n",
       "19                                   NaN  "
      ]
     },
     "execution_count": 289,
     "metadata": {},
     "output_type": "execute_result"
    }
   ],
   "source": [
    "# применение pivot\n",
    "df_pivot = df.query(\"win == True\") \\\n",
    "    .groupby(['time', 'leaguename'], as_index=False) \\\n",
    "    .agg({'win': 'sum'}) \\\n",
    "    .pivot(index='time', columns= 'leaguename', values= 'win').reset_index()\n",
    "df_pivot"
   ]
  },
  {
   "cell_type": "code",
   "execution_count": 291,
   "metadata": {},
   "outputs": [
    {
     "data": {
      "text/html": [
       "<div>\n",
       "<style scoped>\n",
       "    .dataframe tbody tr th:only-of-type {\n",
       "        vertical-align: middle;\n",
       "    }\n",
       "\n",
       "    .dataframe tbody tr th {\n",
       "        vertical-align: top;\n",
       "    }\n",
       "\n",
       "    .dataframe thead th {\n",
       "        text-align: right;\n",
       "    }\n",
       "</style>\n",
       "<table border=\"1\" class=\"dataframe\">\n",
       "  <thead>\n",
       "    <tr style=\"text-align: right;\">\n",
       "      <th>leaguename</th>\n",
       "      <th>time</th>\n",
       "      <th>Ancients League</th>\n",
       "      <th>DPC 2023 SEA Summer Tour Division I - presented by Epulze</th>\n",
       "      <th>Destiny league</th>\n",
       "      <th>ESportsBattle | DOTA2 SC8</th>\n",
       "      <th>Pinnacle Cup: Malta Vibes #2</th>\n",
       "    </tr>\n",
       "  </thead>\n",
       "  <tbody>\n",
       "    <tr>\n",
       "      <th>0</th>\n",
       "      <td>2023-05-31 04:04:19</td>\n",
       "      <td>0.0</td>\n",
       "      <td>0.0</td>\n",
       "      <td>5.0</td>\n",
       "      <td>0.0</td>\n",
       "      <td>0.0</td>\n",
       "    </tr>\n",
       "    <tr>\n",
       "      <th>1</th>\n",
       "      <td>2023-05-31 04:13:05</td>\n",
       "      <td>5.0</td>\n",
       "      <td>0.0</td>\n",
       "      <td>0.0</td>\n",
       "      <td>0.0</td>\n",
       "      <td>0.0</td>\n",
       "    </tr>\n",
       "    <tr>\n",
       "      <th>2</th>\n",
       "      <td>2023-05-31 04:45:04</td>\n",
       "      <td>0.0</td>\n",
       "      <td>0.0</td>\n",
       "      <td>5.0</td>\n",
       "      <td>0.0</td>\n",
       "      <td>0.0</td>\n",
       "    </tr>\n",
       "    <tr>\n",
       "      <th>3</th>\n",
       "      <td>2023-05-31 04:50:22</td>\n",
       "      <td>5.0</td>\n",
       "      <td>0.0</td>\n",
       "      <td>0.0</td>\n",
       "      <td>0.0</td>\n",
       "      <td>0.0</td>\n",
       "    </tr>\n",
       "    <tr>\n",
       "      <th>4</th>\n",
       "      <td>2023-05-31 05:01:41</td>\n",
       "      <td>0.0</td>\n",
       "      <td>5.0</td>\n",
       "      <td>0.0</td>\n",
       "      <td>0.0</td>\n",
       "      <td>0.0</td>\n",
       "    </tr>\n",
       "    <tr>\n",
       "      <th>5</th>\n",
       "      <td>2023-05-31 05:04:54</td>\n",
       "      <td>0.0</td>\n",
       "      <td>0.0</td>\n",
       "      <td>0.0</td>\n",
       "      <td>5.0</td>\n",
       "      <td>0.0</td>\n",
       "    </tr>\n",
       "    <tr>\n",
       "      <th>6</th>\n",
       "      <td>2023-05-31 05:30:36</td>\n",
       "      <td>0.0</td>\n",
       "      <td>0.0</td>\n",
       "      <td>5.0</td>\n",
       "      <td>0.0</td>\n",
       "      <td>0.0</td>\n",
       "    </tr>\n",
       "    <tr>\n",
       "      <th>7</th>\n",
       "      <td>2023-05-31 05:36:12</td>\n",
       "      <td>5.0</td>\n",
       "      <td>0.0</td>\n",
       "      <td>0.0</td>\n",
       "      <td>0.0</td>\n",
       "      <td>0.0</td>\n",
       "    </tr>\n",
       "    <tr>\n",
       "      <th>8</th>\n",
       "      <td>2023-05-31 06:11:54</td>\n",
       "      <td>0.0</td>\n",
       "      <td>0.0</td>\n",
       "      <td>0.0</td>\n",
       "      <td>5.0</td>\n",
       "      <td>0.0</td>\n",
       "    </tr>\n",
       "    <tr>\n",
       "      <th>9</th>\n",
       "      <td>2023-05-31 06:12:17</td>\n",
       "      <td>5.0</td>\n",
       "      <td>0.0</td>\n",
       "      <td>0.0</td>\n",
       "      <td>0.0</td>\n",
       "      <td>0.0</td>\n",
       "    </tr>\n",
       "    <tr>\n",
       "      <th>10</th>\n",
       "      <td>2023-05-31 06:18:11</td>\n",
       "      <td>0.0</td>\n",
       "      <td>5.0</td>\n",
       "      <td>0.0</td>\n",
       "      <td>0.0</td>\n",
       "      <td>0.0</td>\n",
       "    </tr>\n",
       "    <tr>\n",
       "      <th>11</th>\n",
       "      <td>2023-05-31 06:24:22</td>\n",
       "      <td>0.0</td>\n",
       "      <td>0.0</td>\n",
       "      <td>5.0</td>\n",
       "      <td>0.0</td>\n",
       "      <td>0.0</td>\n",
       "    </tr>\n",
       "    <tr>\n",
       "      <th>12</th>\n",
       "      <td>2023-05-31 06:57:54</td>\n",
       "      <td>5.0</td>\n",
       "      <td>0.0</td>\n",
       "      <td>0.0</td>\n",
       "      <td>0.0</td>\n",
       "      <td>0.0</td>\n",
       "    </tr>\n",
       "    <tr>\n",
       "      <th>13</th>\n",
       "      <td>2023-05-31 07:07:14</td>\n",
       "      <td>0.0</td>\n",
       "      <td>0.0</td>\n",
       "      <td>5.0</td>\n",
       "      <td>0.0</td>\n",
       "      <td>0.0</td>\n",
       "    </tr>\n",
       "    <tr>\n",
       "      <th>14</th>\n",
       "      <td>2023-05-31 07:18:36</td>\n",
       "      <td>0.0</td>\n",
       "      <td>5.0</td>\n",
       "      <td>0.0</td>\n",
       "      <td>0.0</td>\n",
       "      <td>0.0</td>\n",
       "    </tr>\n",
       "    <tr>\n",
       "      <th>15</th>\n",
       "      <td>2023-05-31 07:33:39</td>\n",
       "      <td>5.0</td>\n",
       "      <td>0.0</td>\n",
       "      <td>0.0</td>\n",
       "      <td>0.0</td>\n",
       "      <td>0.0</td>\n",
       "    </tr>\n",
       "    <tr>\n",
       "      <th>16</th>\n",
       "      <td>2023-05-31 07:48:27</td>\n",
       "      <td>0.0</td>\n",
       "      <td>0.0</td>\n",
       "      <td>5.0</td>\n",
       "      <td>0.0</td>\n",
       "      <td>0.0</td>\n",
       "    </tr>\n",
       "    <tr>\n",
       "      <th>17</th>\n",
       "      <td>2023-05-31 08:00:02</td>\n",
       "      <td>0.0</td>\n",
       "      <td>0.0</td>\n",
       "      <td>0.0</td>\n",
       "      <td>0.0</td>\n",
       "      <td>5.0</td>\n",
       "    </tr>\n",
       "    <tr>\n",
       "      <th>18</th>\n",
       "      <td>2023-05-31 08:05:05</td>\n",
       "      <td>0.0</td>\n",
       "      <td>0.0</td>\n",
       "      <td>0.0</td>\n",
       "      <td>5.0</td>\n",
       "      <td>0.0</td>\n",
       "    </tr>\n",
       "    <tr>\n",
       "      <th>19</th>\n",
       "      <td>2023-05-31 08:18:30</td>\n",
       "      <td>5.0</td>\n",
       "      <td>0.0</td>\n",
       "      <td>0.0</td>\n",
       "      <td>0.0</td>\n",
       "      <td>0.0</td>\n",
       "    </tr>\n",
       "  </tbody>\n",
       "</table>\n",
       "</div>"
      ],
      "text/plain": [
       "leaguename                time  Ancients League  \\\n",
       "0          2023-05-31 04:04:19              0.0   \n",
       "1          2023-05-31 04:13:05              5.0   \n",
       "2          2023-05-31 04:45:04              0.0   \n",
       "3          2023-05-31 04:50:22              5.0   \n",
       "4          2023-05-31 05:01:41              0.0   \n",
       "5          2023-05-31 05:04:54              0.0   \n",
       "6          2023-05-31 05:30:36              0.0   \n",
       "7          2023-05-31 05:36:12              5.0   \n",
       "8          2023-05-31 06:11:54              0.0   \n",
       "9          2023-05-31 06:12:17              5.0   \n",
       "10         2023-05-31 06:18:11              0.0   \n",
       "11         2023-05-31 06:24:22              0.0   \n",
       "12         2023-05-31 06:57:54              5.0   \n",
       "13         2023-05-31 07:07:14              0.0   \n",
       "14         2023-05-31 07:18:36              0.0   \n",
       "15         2023-05-31 07:33:39              5.0   \n",
       "16         2023-05-31 07:48:27              0.0   \n",
       "17         2023-05-31 08:00:02              0.0   \n",
       "18         2023-05-31 08:05:05              0.0   \n",
       "19         2023-05-31 08:18:30              5.0   \n",
       "\n",
       "leaguename  DPC 2023 SEA Summer Tour Division I - presented by Epulze  \\\n",
       "0                                                         0.0           \n",
       "1                                                         0.0           \n",
       "2                                                         0.0           \n",
       "3                                                         0.0           \n",
       "4                                                         5.0           \n",
       "5                                                         0.0           \n",
       "6                                                         0.0           \n",
       "7                                                         0.0           \n",
       "8                                                         0.0           \n",
       "9                                                         0.0           \n",
       "10                                                        5.0           \n",
       "11                                                        0.0           \n",
       "12                                                        0.0           \n",
       "13                                                        0.0           \n",
       "14                                                        5.0           \n",
       "15                                                        0.0           \n",
       "16                                                        0.0           \n",
       "17                                                        0.0           \n",
       "18                                                        0.0           \n",
       "19                                                        0.0           \n",
       "\n",
       "leaguename  Destiny league  ESportsBattle | DOTA2 SC8  \\\n",
       "0                      5.0                        0.0   \n",
       "1                      0.0                        0.0   \n",
       "2                      5.0                        0.0   \n",
       "3                      0.0                        0.0   \n",
       "4                      0.0                        0.0   \n",
       "5                      0.0                        5.0   \n",
       "6                      5.0                        0.0   \n",
       "7                      0.0                        0.0   \n",
       "8                      0.0                        5.0   \n",
       "9                      0.0                        0.0   \n",
       "10                     0.0                        0.0   \n",
       "11                     5.0                        0.0   \n",
       "12                     0.0                        0.0   \n",
       "13                     5.0                        0.0   \n",
       "14                     0.0                        0.0   \n",
       "15                     0.0                        0.0   \n",
       "16                     5.0                        0.0   \n",
       "17                     0.0                        0.0   \n",
       "18                     0.0                        5.0   \n",
       "19                     0.0                        0.0   \n",
       "\n",
       "leaguename  Pinnacle Cup: Malta Vibes #2  \n",
       "0                                    0.0  \n",
       "1                                    0.0  \n",
       "2                                    0.0  \n",
       "3                                    0.0  \n",
       "4                                    0.0  \n",
       "5                                    0.0  \n",
       "6                                    0.0  \n",
       "7                                    0.0  \n",
       "8                                    0.0  \n",
       "9                                    0.0  \n",
       "10                                   0.0  \n",
       "11                                   0.0  \n",
       "12                                   0.0  \n",
       "13                                   0.0  \n",
       "14                                   0.0  \n",
       "15                                   0.0  \n",
       "16                                   0.0  \n",
       "17                                   5.0  \n",
       "18                                   0.0  \n",
       "19                                   0.0  "
      ]
     },
     "execution_count": 291,
     "metadata": {},
     "output_type": "execute_result"
    }
   ],
   "source": [
    "#далее заполним ячейки без значений нолями\n",
    "df_pivot = df_pivot.fillna(0)\n",
    "df_pivot"
   ]
  },
  {
   "cell_type": "code",
   "execution_count": 283,
   "metadata": {},
   "outputs": [],
   "source": [
    "??pd.pivot\n",
    "#вызов справки"
   ]
  },
  {
   "cell_type": "code",
   "execution_count": 287,
   "metadata": {},
   "outputs": [],
   "source": [
    "#через @ можно обращаться к переменным \n",
    "#через метод assign можно создать несколько колонок в ДФ "
   ]
  },
  {
   "cell_type": "code",
   "execution_count": 293,
   "metadata": {},
   "outputs": [],
   "source": [
    "#регулярные выражения\n",
    "import re"
   ]
  },
  {
   "cell_type": "code",
   "execution_count": 295,
   "metadata": {},
   "outputs": [
    {
     "data": {
      "text/plain": [
       "['yandex.ru']"
      ]
     },
     "execution_count": 295,
     "metadata": {},
     "output_type": "execute_result"
    }
   ],
   "source": [
    "mail = 'vasya@yandex.ru'\n",
    "\n",
    "pattern = re.compile('@([\\w.]+)')\n",
    "\n",
    "pattern.findall(mail)"
   ]
  },
  {
   "cell_type": "code",
   "execution_count": 297,
   "metadata": {},
   "outputs": [
    {
     "data": {
      "text/plain": [
       "['yandex.ru', 'gmail.com', 'karpov.courses.com', 'gmail.com']"
      ]
     },
     "execution_count": 297,
     "metadata": {},
     "output_type": "execute_result"
    }
   ],
   "source": [
    "text = '''We have several emails - vasya@yandex.ru, katya_ivanova@gmail.com,\n",
    "sasha@karpov.courses.com and also masha@gmail.com'''\n",
    "\n",
    "pattern.findall(text)\n"
   ]
  },
  {
   "cell_type": "code",
   "execution_count": 298,
   "metadata": {},
   "outputs": [
    {
     "data": {
      "text/plain": [
       "['ox', 'ox', 'ox']"
      ]
     },
     "execution_count": 298,
     "metadata": {},
     "output_type": "execute_result"
    }
   ],
   "source": [
    "text = 'the gray fox jumps oxver the lazoxy dog'\n",
    "\n",
    "pattern = re.compile('ox')\n",
    "pattern.findall(text)\n",
    "# from the fox\n",
    "\n"
   ]
  },
  {
   "cell_type": "code",
   "execution_count": 299,
   "metadata": {},
   "outputs": [
    {
     "data": {
      "text/plain": [
       "['вред',\n",
       " 'веку',\n",
       " 'воим',\n",
       " 'вием',\n",
       " 'веку',\n",
       " 'вред',\n",
       " 'вино',\n",
       " 'вать',\n",
       " 'всем',\n",
       " 'век,',\n",
       " 'в, к',\n",
       " 'воре',\n",
       " 'вому',\n",
       " 'воей',\n",
       " 'в то',\n",
       " 'в ко',\n",
       " 'воре',\n",
       " 'вому']"
      ]
     },
     "execution_count": 299,
     "metadata": {},
     "output_type": "execute_result"
    }
   ],
   "source": [
    "text2 = '''Робот не может причинить вред человеку или своим бездействием допустить, чтобы человеку был причинён вред.\n",
    "Робот должен повиноваться всем приказам, которые даёт человек, кроме тех случаев, когда эти приказы противоречат Первому Закону.\n",
    "Робот должен заботиться о своей безопасности в той мере, в которой это не противоречит Первому или Второму Законам.'''\n",
    "\n",
    "\n",
    "pattern = re.compile('в...')\n",
    "pattern.findall(text2)"
   ]
  },
  {
   "cell_type": "code",
   "execution_count": 301,
   "metadata": {},
   "outputs": [
    {
     "data": {
      "text/plain": [
       "0      Desti\n",
       "1      Desti\n",
       "2      Desti\n",
       "3      Desti\n",
       "4      Desti\n",
       "       ...  \n",
       "195    Ancie\n",
       "196    Ancie\n",
       "197    Ancie\n",
       "198    Ancie\n",
       "199    Ancie\n",
       "Name: leaguename, Length: 200, dtype: object"
      ]
     },
     "execution_count": 301,
     "metadata": {},
     "output_type": "execute_result"
    }
   ],
   "source": [
    "#строковые методы пандаса\n",
    "df.leaguename.str[:5]"
   ]
  },
  {
   "cell_type": "code",
   "execution_count": 314,
   "metadata": {},
   "outputs": [
    {
     "data": {
      "text/plain": [
       "0       [Destiny league]\n",
       "1       [Destiny league]\n",
       "2       [Destiny league]\n",
       "3       [Destiny league]\n",
       "4       [Destiny league]\n",
       "             ...        \n",
       "195    [Ancients League]\n",
       "196    [Ancients League]\n",
       "197    [Ancients League]\n",
       "198    [Ancients League]\n",
       "199    [Ancients League]\n",
       "Name: leaguename, Length: 200, dtype: object"
      ]
     },
     "execution_count": 314,
     "metadata": {},
     "output_type": "execute_result"
    }
   ],
   "source": [
    "df['leaguename'].str.split(',')"
   ]
  },
  {
   "cell_type": "code",
   "execution_count": 317,
   "metadata": {
    "scrolled": true
   },
   "outputs": [
    {
     "data": {
      "text/plain": [
       "0      D\n",
       "1      D\n",
       "2      D\n",
       "3      D\n",
       "4      D\n",
       "      ..\n",
       "195    A\n",
       "196    A\n",
       "197    A\n",
       "198    A\n",
       "199    A\n",
       "Name: leaguename, Length: 200, dtype: object"
      ]
     },
     "execution_count": 317,
     "metadata": {},
     "output_type": "execute_result"
    }
   ],
   "source": [
    "df['leaguename'].str[0]"
   ]
  },
  {
   "cell_type": "code",
   "execution_count": 345,
   "metadata": {},
   "outputs": [
    {
     "data": {
      "text/html": [
       "<div>\n",
       "<style scoped>\n",
       "    .dataframe tbody tr th:only-of-type {\n",
       "        vertical-align: middle;\n",
       "    }\n",
       "\n",
       "    .dataframe tbody tr th {\n",
       "        vertical-align: top;\n",
       "    }\n",
       "\n",
       "    .dataframe thead th {\n",
       "        text-align: right;\n",
       "    }\n",
       "</style>\n",
       "<table border=\"1\" class=\"dataframe\">\n",
       "  <thead>\n",
       "    <tr style=\"text-align: right;\">\n",
       "      <th></th>\n",
       "      <th>match_id</th>\n",
       "      <th>start_time</th>\n",
       "      <th>win</th>\n",
       "      <th>hero_id</th>\n",
       "      <th>account_id</th>\n",
       "      <th>leaguename</th>\n",
       "    </tr>\n",
       "  </thead>\n",
       "  <tbody>\n",
       "    <tr>\n",
       "      <th>0</th>\n",
       "      <td>7179178843</td>\n",
       "      <td>1685505859</td>\n",
       "      <td>False</td>\n",
       "      <td>86</td>\n",
       "      <td>992327405</td>\n",
       "      <td>[Destiny, league]</td>\n",
       "    </tr>\n",
       "    <tr>\n",
       "      <th>1</th>\n",
       "      <td>7179178843</td>\n",
       "      <td>1685505859</td>\n",
       "      <td>False</td>\n",
       "      <td>128</td>\n",
       "      <td>162724090</td>\n",
       "      <td>[Destiny, league]</td>\n",
       "    </tr>\n",
       "    <tr>\n",
       "      <th>2</th>\n",
       "      <td>7179178843</td>\n",
       "      <td>1685505859</td>\n",
       "      <td>False</td>\n",
       "      <td>17</td>\n",
       "      <td>1232094007</td>\n",
       "      <td>[Destiny, league]</td>\n",
       "    </tr>\n",
       "    <tr>\n",
       "      <th>3</th>\n",
       "      <td>7179178843</td>\n",
       "      <td>1685505859</td>\n",
       "      <td>False</td>\n",
       "      <td>41</td>\n",
       "      <td>1170923497</td>\n",
       "      <td>[Destiny, league]</td>\n",
       "    </tr>\n",
       "    <tr>\n",
       "      <th>4</th>\n",
       "      <td>7179178843</td>\n",
       "      <td>1685505859</td>\n",
       "      <td>False</td>\n",
       "      <td>38</td>\n",
       "      <td>202984325</td>\n",
       "      <td>[Destiny, league]</td>\n",
       "    </tr>\n",
       "  </tbody>\n",
       "</table>\n",
       "</div>"
      ],
      "text/plain": [
       "     match_id  start_time    win  hero_id  account_id         leaguename\n",
       "0  7179178843  1685505859  False       86   992327405  [Destiny, league]\n",
       "1  7179178843  1685505859  False      128   162724090  [Destiny, league]\n",
       "2  7179178843  1685505859  False       17  1232094007  [Destiny, league]\n",
       "3  7179178843  1685505859  False       41  1170923497  [Destiny, league]\n",
       "4  7179178843  1685505859  False       38   202984325  [Destiny, league]"
      ]
     },
     "execution_count": 345,
     "metadata": {},
     "output_type": "execute_result"
    }
   ],
   "source": [
    "df.head()"
   ]
  },
  {
   "cell_type": "code",
   "execution_count": 352,
   "metadata": {
    "scrolled": true
   },
   "outputs": [],
   "source": [
    "df['leaguename'] = df.leaguename.apply(lambda x: x.split(' '))\n"
   ]
  },
  {
   "cell_type": "code",
   "execution_count": 348,
   "metadata": {},
   "outputs": [
    {
     "data": {
      "text/html": [
       "<div>\n",
       "<style scoped>\n",
       "    .dataframe tbody tr th:only-of-type {\n",
       "        vertical-align: middle;\n",
       "    }\n",
       "\n",
       "    .dataframe tbody tr th {\n",
       "        vertical-align: top;\n",
       "    }\n",
       "\n",
       "    .dataframe thead th {\n",
       "        text-align: right;\n",
       "    }\n",
       "</style>\n",
       "<table border=\"1\" class=\"dataframe\">\n",
       "  <thead>\n",
       "    <tr style=\"text-align: right;\">\n",
       "      <th></th>\n",
       "      <th>match_id</th>\n",
       "      <th>start_time</th>\n",
       "      <th>win</th>\n",
       "      <th>hero_id</th>\n",
       "      <th>account_id</th>\n",
       "      <th>leaguename</th>\n",
       "    </tr>\n",
       "  </thead>\n",
       "  <tbody>\n",
       "    <tr>\n",
       "      <th>0</th>\n",
       "      <td>7179178843</td>\n",
       "      <td>1685505859</td>\n",
       "      <td>False</td>\n",
       "      <td>86</td>\n",
       "      <td>992327405</td>\n",
       "      <td>[Destiny league]</td>\n",
       "    </tr>\n",
       "    <tr>\n",
       "      <th>1</th>\n",
       "      <td>7179178843</td>\n",
       "      <td>1685505859</td>\n",
       "      <td>False</td>\n",
       "      <td>128</td>\n",
       "      <td>162724090</td>\n",
       "      <td>[Destiny league]</td>\n",
       "    </tr>\n",
       "    <tr>\n",
       "      <th>2</th>\n",
       "      <td>7179178843</td>\n",
       "      <td>1685505859</td>\n",
       "      <td>False</td>\n",
       "      <td>17</td>\n",
       "      <td>1232094007</td>\n",
       "      <td>[Destiny league]</td>\n",
       "    </tr>\n",
       "    <tr>\n",
       "      <th>3</th>\n",
       "      <td>7179178843</td>\n",
       "      <td>1685505859</td>\n",
       "      <td>False</td>\n",
       "      <td>41</td>\n",
       "      <td>1170923497</td>\n",
       "      <td>[Destiny league]</td>\n",
       "    </tr>\n",
       "    <tr>\n",
       "      <th>4</th>\n",
       "      <td>7179178843</td>\n",
       "      <td>1685505859</td>\n",
       "      <td>False</td>\n",
       "      <td>38</td>\n",
       "      <td>202984325</td>\n",
       "      <td>[Destiny league]</td>\n",
       "    </tr>\n",
       "  </tbody>\n",
       "</table>\n",
       "</div>"
      ],
      "text/plain": [
       "     match_id  start_time    win  hero_id  account_id        leaguename\n",
       "0  7179178843  1685505859  False       86   992327405  [Destiny league]\n",
       "1  7179178843  1685505859  False      128   162724090  [Destiny league]\n",
       "2  7179178843  1685505859  False       17  1232094007  [Destiny league]\n",
       "3  7179178843  1685505859  False       41  1170923497  [Destiny league]\n",
       "4  7179178843  1685505859  False       38   202984325  [Destiny league]"
      ]
     },
     "execution_count": 348,
     "metadata": {},
     "output_type": "execute_result"
    }
   ],
   "source": [
    "df.head()"
   ]
  },
  {
   "cell_type": "code",
   "execution_count": 353,
   "metadata": {},
   "outputs": [
    {
     "data": {
      "text/html": [
       "<div>\n",
       "<style scoped>\n",
       "    .dataframe tbody tr th:only-of-type {\n",
       "        vertical-align: middle;\n",
       "    }\n",
       "\n",
       "    .dataframe tbody tr th {\n",
       "        vertical-align: top;\n",
       "    }\n",
       "\n",
       "    .dataframe thead th {\n",
       "        text-align: right;\n",
       "    }\n",
       "</style>\n",
       "<table border=\"1\" class=\"dataframe\">\n",
       "  <thead>\n",
       "    <tr style=\"text-align: right;\">\n",
       "      <th></th>\n",
       "      <th>data</th>\n",
       "      <th>time1</th>\n",
       "    </tr>\n",
       "  </thead>\n",
       "  <tbody>\n",
       "    <tr>\n",
       "      <th>0</th>\n",
       "      <td>NaN</td>\n",
       "      <td>NaN</td>\n",
       "    </tr>\n",
       "    <tr>\n",
       "      <th>1</th>\n",
       "      <td>NaN</td>\n",
       "      <td>NaN</td>\n",
       "    </tr>\n",
       "    <tr>\n",
       "      <th>2</th>\n",
       "      <td>NaN</td>\n",
       "      <td>NaN</td>\n",
       "    </tr>\n",
       "    <tr>\n",
       "      <th>3</th>\n",
       "      <td>NaN</td>\n",
       "      <td>NaN</td>\n",
       "    </tr>\n",
       "    <tr>\n",
       "      <th>4</th>\n",
       "      <td>NaN</td>\n",
       "      <td>NaN</td>\n",
       "    </tr>\n",
       "    <tr>\n",
       "      <th>...</th>\n",
       "      <td>...</td>\n",
       "      <td>...</td>\n",
       "    </tr>\n",
       "    <tr>\n",
       "      <th>195</th>\n",
       "      <td>NaN</td>\n",
       "      <td>NaN</td>\n",
       "    </tr>\n",
       "    <tr>\n",
       "      <th>196</th>\n",
       "      <td>NaN</td>\n",
       "      <td>NaN</td>\n",
       "    </tr>\n",
       "    <tr>\n",
       "      <th>197</th>\n",
       "      <td>NaN</td>\n",
       "      <td>NaN</td>\n",
       "    </tr>\n",
       "    <tr>\n",
       "      <th>198</th>\n",
       "      <td>NaN</td>\n",
       "      <td>NaN</td>\n",
       "    </tr>\n",
       "    <tr>\n",
       "      <th>199</th>\n",
       "      <td>NaN</td>\n",
       "      <td>NaN</td>\n",
       "    </tr>\n",
       "  </tbody>\n",
       "</table>\n",
       "<p>200 rows × 2 columns</p>\n",
       "</div>"
      ],
      "text/plain": [
       "    data time1\n",
       "0    NaN   NaN\n",
       "1    NaN   NaN\n",
       "2    NaN   NaN\n",
       "3    NaN   NaN\n",
       "4    NaN   NaN\n",
       "..   ...   ...\n",
       "195  NaN   NaN\n",
       "196  NaN   NaN\n",
       "197  NaN   NaN\n",
       "198  NaN   NaN\n",
       "199  NaN   NaN\n",
       "\n",
       "[200 rows x 2 columns]"
      ]
     },
     "execution_count": 353,
     "metadata": {},
     "output_type": "execute_result"
    }
   ],
   "source": [
    "#Парсинг строковых колонок в пандас\n",
    "df['leaguename'].str.extract('(?P<data>\\w+), \\((?P<time1>.+)\\)')"
   ]
  },
  {
   "cell_type": "code",
   "execution_count": 354,
   "metadata": {},
   "outputs": [
    {
     "data": {
      "text/plain": [
       "0      7179178843\n",
       "1      7179178843\n",
       "2      7179178843\n",
       "3      7179178843\n",
       "4      7179178843\n",
       "          ...    \n",
       "195    7179367595\n",
       "196    7179367595\n",
       "197    7179367595\n",
       "198    7179367595\n",
       "199    7179367595\n",
       "Name: match_id, Length: 200, dtype: int64"
      ]
     },
     "execution_count": 354,
     "metadata": {},
     "output_type": "execute_result"
    }
   ],
   "source": [
    "df['match_id']\n",
    "#серия пандас"
   ]
  },
  {
   "cell_type": "code",
   "execution_count": 355,
   "metadata": {},
   "outputs": [
    {
     "data": {
      "text/html": [
       "<div>\n",
       "<style scoped>\n",
       "    .dataframe tbody tr th:only-of-type {\n",
       "        vertical-align: middle;\n",
       "    }\n",
       "\n",
       "    .dataframe tbody tr th {\n",
       "        vertical-align: top;\n",
       "    }\n",
       "\n",
       "    .dataframe thead th {\n",
       "        text-align: right;\n",
       "    }\n",
       "</style>\n",
       "<table border=\"1\" class=\"dataframe\">\n",
       "  <thead>\n",
       "    <tr style=\"text-align: right;\">\n",
       "      <th></th>\n",
       "      <th>match_id</th>\n",
       "    </tr>\n",
       "  </thead>\n",
       "  <tbody>\n",
       "    <tr>\n",
       "      <th>0</th>\n",
       "      <td>7179178843</td>\n",
       "    </tr>\n",
       "    <tr>\n",
       "      <th>1</th>\n",
       "      <td>7179178843</td>\n",
       "    </tr>\n",
       "    <tr>\n",
       "      <th>2</th>\n",
       "      <td>7179178843</td>\n",
       "    </tr>\n",
       "    <tr>\n",
       "      <th>3</th>\n",
       "      <td>7179178843</td>\n",
       "    </tr>\n",
       "    <tr>\n",
       "      <th>4</th>\n",
       "      <td>7179178843</td>\n",
       "    </tr>\n",
       "    <tr>\n",
       "      <th>...</th>\n",
       "      <td>...</td>\n",
       "    </tr>\n",
       "    <tr>\n",
       "      <th>195</th>\n",
       "      <td>7179367595</td>\n",
       "    </tr>\n",
       "    <tr>\n",
       "      <th>196</th>\n",
       "      <td>7179367595</td>\n",
       "    </tr>\n",
       "    <tr>\n",
       "      <th>197</th>\n",
       "      <td>7179367595</td>\n",
       "    </tr>\n",
       "    <tr>\n",
       "      <th>198</th>\n",
       "      <td>7179367595</td>\n",
       "    </tr>\n",
       "    <tr>\n",
       "      <th>199</th>\n",
       "      <td>7179367595</td>\n",
       "    </tr>\n",
       "  </tbody>\n",
       "</table>\n",
       "<p>200 rows × 1 columns</p>\n",
       "</div>"
      ],
      "text/plain": [
       "       match_id\n",
       "0    7179178843\n",
       "1    7179178843\n",
       "2    7179178843\n",
       "3    7179178843\n",
       "4    7179178843\n",
       "..          ...\n",
       "195  7179367595\n",
       "196  7179367595\n",
       "197  7179367595\n",
       "198  7179367595\n",
       "199  7179367595\n",
       "\n",
       "[200 rows x 1 columns]"
      ]
     },
     "execution_count": 355,
     "metadata": {},
     "output_type": "execute_result"
    }
   ],
   "source": [
    "df[['match_id']]\n",
    "#ДФ"
   ]
  },
  {
   "cell_type": "markdown",
   "metadata": {},
   "source": [
    "## 6 урок. Оконные функции и интерактивные графики"
   ]
  },
  {
   "cell_type": "markdown",
   "metadata": {},
   "source": [
    "визуализация через plot()\n",
    "метод средней скользящей rolling(30).mean() показывает динамику по дням. 30 - означает окно.\n",
    "для того чтобы график был менее скачущим, происходит сглаживание графика.\n",
    "что означает ролллингмин - по последовательности берем числа, сколько указано в скобках, и считаем от них среднее. тем самым уменьшается разброс данных\n",
    "np.mean([12, 67, 89, 200])\n",
    "np.mean([67, 89, 200, 5, 56]) и тд."
   ]
  },
  {
   "cell_type": "code",
   "execution_count": 359,
   "metadata": {},
   "outputs": [],
   "source": [
    "df_12 = pd.Series([12, 67, 89, 200, 5, 56, 12, 89, 500, 40, 82, 10, 65, 200, 350, 50])"
   ]
  },
  {
   "cell_type": "code",
   "execution_count": 360,
   "metadata": {},
   "outputs": [
    {
     "data": {
      "text/plain": [
       "<AxesSubplot:>"
      ]
     },
     "execution_count": 360,
     "metadata": {},
     "output_type": "execute_result"
    },
    {
     "data": {
      "image/png": "[encoded data removed]",
      "text/plain": [
       "<Figure size 432x288 with 1 Axes>"
      ]
     },
     "metadata": {
      "needs_background": "light"
     },
     "output_type": "display_data"
    }
   ],
   "source": [
    "df_12.plot()"
   ]
  },
  {
   "cell_type": "code",
   "execution_count": 361,
   "metadata": {},
   "outputs": [
    {
     "data": {
      "text/plain": [
       "<AxesSubplot:>"
      ]
     },
     "execution_count": 361,
     "metadata": {},
     "output_type": "execute_result"
    },
    {
     "data": {
      "image/png": "[encoded data removed]",
      "text/plain": [
       "<Figure size 432x288 with 1 Axes>"
      ]
     },
     "metadata": {
      "needs_background": "light"
     },
     "output_type": "display_data"
    }
   ],
   "source": [
    "df_12.rolling(4).mean().plot()"
   ]
  },
  {
   "cell_type": "code",
   "execution_count": 362,
   "metadata": {},
   "outputs": [
    {
     "data": {
      "text/plain": [
       "92.0"
      ]
     },
     "execution_count": 362,
     "metadata": {},
     "output_type": "execute_result"
    }
   ],
   "source": [
    "np.mean([12, 67, 89, 200])"
   ]
  },
  {
   "cell_type": "markdown",
   "metadata": {},
   "source": [
    "## Кастомизация графиков"
   ]
  },
  {
   "cell_type": "markdown",
   "metadata": {},
   "source": [
    "set() для удобства визуализации\n",
    "\n",
    "sns.set(\n",
    "    font_scale=2,\n",
    "    style=\"whitegrid\",\n",
    "    rc={'figure.figsize':(20,7)}\n",
    "        )"
   ]
  },
  {
   "cell_type": "code",
   "execution_count": 454,
   "metadata": {},
   "outputs": [
    {
     "data": {
      "text/plain": [
       "41"
      ]
     },
     "execution_count": 454,
     "metadata": {},
     "output_type": "execute_result"
    }
   ],
   "source": [
    "# returns number from [a, b]\n",
    "np.random.randint(1, 101)"
   ]
  },
  {
   "cell_type": "code",
   "execution_count": 386,
   "metadata": {},
   "outputs": [],
   "source": [
    "list = []\n",
    "n = 1\n",
    "N = 100\n",
    "dn = 1\n",
    "while n<=N:\n",
    "    list.append(n)\n",
    "    n +=dn"
   ]
  },
  {
   "cell_type": "markdown",
   "metadata": {},
   "source": [
    "## 7 урок. API (Application Programming Interface)"
   ]
  },
  {
   "cell_type": "markdown",
   "metadata": {},
   "source": [
    "Вещь, которая значительно облегчает выполнение задач. По сути, это библиотека от создателей веб-сервиса (сайта, где можно что-то сделать), позволяющая быстро выполнить действия с этим сервисом. Как правило для работы с API необходимо получить токен."
   ]
  },
  {
   "cell_type": "markdown",
   "metadata": {},
   "source": [
    "API для ВКонтакте, позволяет программно выполнять действия, например, писать сообщения, выбирать друзей и так далее."
   ]
  },
  {
   "cell_type": "code",
   "execution_count": 460,
   "metadata": {},
   "outputs": [],
   "source": [
    "import requests"
   ]
  },
  {
   "cell_type": "code",
   "execution_count": 462,
   "metadata": {},
   "outputs": [],
   "source": [
    "query = requests.get('https://www.excelguide.ru/2021/09/pandas-drop-column.html')"
   ]
  },
  {
   "cell_type": "code",
   "execution_count": 463,
   "metadata": {},
   "outputs": [
    {
     "data": {
      "text/plain": [
       "<Response [200]>"
      ]
     },
     "execution_count": 463,
     "metadata": {},
     "output_type": "execute_result"
    }
   ],
   "source": [
    "query"
   ]
  },
  {
   "cell_type": "code",
   "execution_count": 464,
   "metadata": {},
   "outputs": [],
   "source": [
    "import requests\n",
    "import json\n",
    "from urllib.parse import urlencode"
   ]
  },
  {
   "cell_type": "code",
   "execution_count": null,
   "metadata": {},
   "outputs": [],
   "source": [
    "token = '6319263618:AAGx4dOYAKzx657yK44h_uuFYt5kKlykfqA'\n",
    "chat_id = 123  # your chat id\n",
    "\n",
    "message = 'test'  # text which you want to send\n",
    "\n",
    "params = {'chat_id': chat_id, 'text': message}\n",
    "\n",
    "base_url = f'https://api.telegram.org/bot{token}/'\n",
    "url = base_url + 'sendMessage?' + urlencode(params)\n",
    "# Only if you need it\n",
    "# proxy = {'https': 'https://77.48.23.199:57842'}\n",
    "\n",
    "# To send request via proxy\n",
    "# resp = requests.get(url, proxies=proxy)\n",
    "resp = requests.get(url)"
   ]
  },
  {
   "cell_type": "code",
   "execution_count": 468,
   "metadata": {},
   "outputs": [],
   "source": [
    "df_23 = pd.read_csv('https://stepik.org/media/attachments/lesson/363873/nyc.csv.zip', compression='zip')"
   ]
  },
  {
   "cell_type": "code",
   "execution_count": 469,
   "metadata": {},
   "outputs": [
    {
     "data": {
      "text/html": [
       "<div>\n",
       "<style scoped>\n",
       "    .dataframe tbody tr th:only-of-type {\n",
       "        vertical-align: middle;\n",
       "    }\n",
       "\n",
       "    .dataframe tbody tr th {\n",
       "        vertical-align: top;\n",
       "    }\n",
       "\n",
       "    .dataframe thead th {\n",
       "        text-align: right;\n",
       "    }\n",
       "</style>\n",
       "<table border=\"1\" class=\"dataframe\">\n",
       "  <thead>\n",
       "    <tr style=\"text-align: right;\">\n",
       "      <th></th>\n",
       "      <th>key</th>\n",
       "      <th>fare_amount</th>\n",
       "      <th>pickup_datetime</th>\n",
       "      <th>pickup_longitude</th>\n",
       "      <th>pickup_latitude</th>\n",
       "      <th>dropoff_longitude</th>\n",
       "      <th>dropoff_latitude</th>\n",
       "      <th>passenger_count</th>\n",
       "    </tr>\n",
       "  </thead>\n",
       "  <tbody>\n",
       "    <tr>\n",
       "      <th>0</th>\n",
       "      <td>2009-06-15 17:26:21.0000001</td>\n",
       "      <td>4.5</td>\n",
       "      <td>2009-06-15 17:26:21 UTC</td>\n",
       "      <td>-73.844311</td>\n",
       "      <td>40.721319</td>\n",
       "      <td>-73.841610</td>\n",
       "      <td>40.712278</td>\n",
       "      <td>1</td>\n",
       "    </tr>\n",
       "    <tr>\n",
       "      <th>1</th>\n",
       "      <td>2010-01-05 16:52:16.0000002</td>\n",
       "      <td>16.9</td>\n",
       "      <td>2010-01-05 16:52:16 UTC</td>\n",
       "      <td>-74.016048</td>\n",
       "      <td>40.711303</td>\n",
       "      <td>-73.979268</td>\n",
       "      <td>40.782004</td>\n",
       "      <td>1</td>\n",
       "    </tr>\n",
       "    <tr>\n",
       "      <th>2</th>\n",
       "      <td>2011-08-18 00:35:00.00000049</td>\n",
       "      <td>5.7</td>\n",
       "      <td>2011-08-18 00:35:00 UTC</td>\n",
       "      <td>-73.982738</td>\n",
       "      <td>40.761270</td>\n",
       "      <td>-73.991242</td>\n",
       "      <td>40.750562</td>\n",
       "      <td>2</td>\n",
       "    </tr>\n",
       "    <tr>\n",
       "      <th>3</th>\n",
       "      <td>2012-04-21 04:30:42.0000001</td>\n",
       "      <td>7.7</td>\n",
       "      <td>2012-04-21 04:30:42 UTC</td>\n",
       "      <td>-73.987130</td>\n",
       "      <td>40.733143</td>\n",
       "      <td>-73.991567</td>\n",
       "      <td>40.758092</td>\n",
       "      <td>1</td>\n",
       "    </tr>\n",
       "    <tr>\n",
       "      <th>4</th>\n",
       "      <td>2010-03-09 07:51:00.000000135</td>\n",
       "      <td>5.3</td>\n",
       "      <td>2010-03-09 07:51:00 UTC</td>\n",
       "      <td>-73.968095</td>\n",
       "      <td>40.768008</td>\n",
       "      <td>-73.956655</td>\n",
       "      <td>40.783762</td>\n",
       "      <td>1</td>\n",
       "    </tr>\n",
       "  </tbody>\n",
       "</table>\n",
       "</div>"
      ],
      "text/plain": [
       "                             key  fare_amount          pickup_datetime  \\\n",
       "0    2009-06-15 17:26:21.0000001          4.5  2009-06-15 17:26:21 UTC   \n",
       "1    2010-01-05 16:52:16.0000002         16.9  2010-01-05 16:52:16 UTC   \n",
       "2   2011-08-18 00:35:00.00000049          5.7  2011-08-18 00:35:00 UTC   \n",
       "3    2012-04-21 04:30:42.0000001          7.7  2012-04-21 04:30:42 UTC   \n",
       "4  2010-03-09 07:51:00.000000135          5.3  2010-03-09 07:51:00 UTC   \n",
       "\n",
       "   pickup_longitude  pickup_latitude  dropoff_longitude  dropoff_latitude  \\\n",
       "0        -73.844311        40.721319         -73.841610         40.712278   \n",
       "1        -74.016048        40.711303         -73.979268         40.782004   \n",
       "2        -73.982738        40.761270         -73.991242         40.750562   \n",
       "3        -73.987130        40.733143         -73.991567         40.758092   \n",
       "4        -73.968095        40.768008         -73.956655         40.783762   \n",
       "\n",
       "   passenger_count  \n",
       "0                1  \n",
       "1                1  \n",
       "2                2  \n",
       "3                1  \n",
       "4                1  "
      ]
     },
     "execution_count": 469,
     "metadata": {},
     "output_type": "execute_result"
    }
   ],
   "source": [
    "df_23.head()"
   ]
  },
  {
   "cell_type": "markdown",
   "metadata": {},
   "source": [
    "## 3 модуль. GIT"
   ]
  },
  {
   "cell_type": "code",
   "execution_count": null,
   "metadata": {},
   "outputs": [],
   "source": []
  }
 ],
 "metadata": {
  "kernelspec": {
   "display_name": "Python 3 (ipykernel)",
   "language": "python",
   "name": "python3"
  },
  "language_info": {
   "codemirror_mode": {
    "name": "ipython",
    "version": 3
   },
   "file_extension": ".py",
   "mimetype": "text/x-python",
   "name": "python",
   "nbconvert_exporter": "python",
   "pygments_lexer": "ipython3",
   "version": "3.9.7"
  }
 },
 "nbformat": 4,
 "nbformat_minor": 4
}

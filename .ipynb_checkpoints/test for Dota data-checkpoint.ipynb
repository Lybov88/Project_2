{
 "cells": [
  {
   "cell_type": "code",
   "execution_count": 6,
   "metadata": {},
   "outputs": [],
   "source": [
    "worker = ['Olya', 'Silyutina', 350000, 3]\n",
    "status = '{} {} is {}'\n",
    "for i in worker:\n",
    "    user_name = worker[0]\n",
    "    user_family = worker[1]\n",
    "    stazh = worker[-1]\n",
    "    if worker[-1] < 2:\n",
    "        position ='junior';\n",
    "    elif 2 <= worker[-1] < 5:\n",
    "        position ='middle';\n",
    "    else:\n",
    "        position='senior';\n",
    "status = status.format(worker[0], worker[1], position)"
   ]
  },
  {
   "cell_type": "code",
   "execution_count": 5,
   "metadata": {},
   "outputs": [],
   "source": [
    "for i in worker:\n",
    "    user_name = worker[0]\n",
    "    user_family = worker[1]\n",
    "    stazh = worker[-1]\n",
    "    if worker[-1] < 2:\n",
    "        position ='junior';\n",
    "    elif 2 <= worker[-1] < 5:\n",
    "        position ='middle';\n",
    "    else:\n",
    "        position='senior';\n",
    "status = user_name + ' ' + user_family + ' ' + 'is'+' ' + position"
   ]
  },
  {
   "cell_type": "code",
   "execution_count": 2,
   "metadata": {},
   "outputs": [
    {
     "name": "stdout",
     "output_type": "stream",
     "text": [
      "21\n",
      "35\n",
      "42\n",
      "27\n"
     ]
    }
   ],
   "source": [
    "user_ages = [10, 18, 21, 35, 42, 27, 12, 16]\n",
    "for i in user_ages:\n",
    "    if i>18:\n",
    "        print(i)"
   ]
  },
  {
   "cell_type": "code",
   "execution_count": 61,
   "metadata": {},
   "outputs": [],
   "source": [
    "values = [12, 134, 10, 47, 100, 20, 50, 160, 210]\n",
    "tens=[]\n",
    "for i in values:\n",
    "    if i % 10 == 0:\n",
    "        tens.append(i)"
   ]
  },
  {
   "cell_type": "code",
   "execution_count": 22,
   "metadata": {},
   "outputs": [
    {
     "name": "stdout",
     "output_type": "stream",
     "text": [
      "Ivan Ivanov is junior\n",
      "Petr Petrov is middle\n",
      "Sidor Sidorov is middle\n"
     ]
    }
   ],
   "source": [
    "workers = [['Ivan', 'Ivanov', 100000, 0], ['Petr', 'Petrov', 150000, 2], ['Sidor', 'Sidorov', 200000, 4]]\n",
    "status = '{} {} is {}'\n",
    "for w in workers:\n",
    "    user_name = w[0]\n",
    "    user_family = w[1]\n",
    "    exp = w[-1]\n",
    "    if 0 <= w[-1] < 2:\n",
    "        position ='junior';\n",
    "    elif 2 <= w[-1] <= 5:\n",
    "        position ='middle';\n",
    "    else:\n",
    "        position='senior';\n",
    "    print(status.format(w[0], w[1], position))"
   ]
  },
  {
   "cell_type": "code",
   "execution_count": 23,
   "metadata": {},
   "outputs": [
    {
     "name": "stdout",
     "output_type": "stream",
     "text": [
      "2021-11-19\n"
     ]
    }
   ],
   "source": [
    "from datetime import date\n",
    "today = str(date.today())\n",
    "print(today)"
   ]
  },
  {
   "cell_type": "code",
   "execution_count": null,
   "metadata": {},
   "outputs": [],
   "source": [
    "# Поместите в список lst числа от 0 (n = 0) до 10 включительно (N = 10) c шагом 2 (dn = 2). \n",
    "# Для этого используйте условие while.\n",
    "# Note: необходимо создать переменную lst"
   ]
  },
  {
   "cell_type": "code",
   "execution_count": 3,
   "metadata": {},
   "outputs": [],
   "source": [
    "lst=[]\n",
    "n = 0\n",
    "N = 10\n",
    "dn = 2\n",
    "while n<=N:\n",
    "    lst.append(n)\n",
    "    n +=dn"
   ]
  },
  {
   "cell_type": "code",
   "execution_count": 4,
   "metadata": {},
   "outputs": [
    {
     "data": {
      "text/plain": [
       "[0, 2, 4, 6, 8]"
      ]
     },
     "execution_count": 4,
     "metadata": {},
     "output_type": "execute_result"
    }
   ],
   "source": [
    " lst"
   ]
  },
  {
   "cell_type": "code",
   "execution_count": 1,
   "metadata": {},
   "outputs": [],
   "source": [
    "import pandas as pd"
   ]
  },
  {
   "cell_type": "code",
   "execution_count": 4,
   "metadata": {},
   "outputs": [],
   "source": [
    "df = pd.read_csv('lesson_2_data.csv', encoding='Windows-1251', sep=';')"
   ]
  },
  {
   "cell_type": "code",
   "execution_count": 13,
   "metadata": {},
   "outputs": [
    {
     "data": {
      "text/html": [
       "<div>\n",
       "<style scoped>\n",
       "    .dataframe tbody tr th:only-of-type {\n",
       "        vertical-align: middle;\n",
       "    }\n",
       "\n",
       "    .dataframe tbody tr th {\n",
       "        vertical-align: top;\n",
       "    }\n",
       "\n",
       "    .dataframe thead th {\n",
       "        text-align: right;\n",
       "    }\n",
       "</style>\n",
       "<table border=\"1\" class=\"dataframe\">\n",
       "  <thead>\n",
       "    <tr style=\"text-align: right;\">\n",
       "      <th></th>\n",
       "      <th>Номер</th>\n",
       "      <th>Дата создания</th>\n",
       "      <th>Дата оплаты</th>\n",
       "      <th>Title</th>\n",
       "      <th>Статус</th>\n",
       "      <th>Заработано</th>\n",
       "      <th>Город</th>\n",
       "      <th>Платежная система</th>\n",
       "    </tr>\n",
       "  </thead>\n",
       "  <tbody>\n",
       "    <tr>\n",
       "      <th>0</th>\n",
       "      <td>1062823</td>\n",
       "      <td>01.12.2019 10:50</td>\n",
       "      <td>01.12.2019 10:52</td>\n",
       "      <td>Курс обучения «Эксперт»</td>\n",
       "      <td>Завершен</td>\n",
       "      <td>29597.5</td>\n",
       "      <td>Чита</td>\n",
       "      <td>Сбербанк эквайринг</td>\n",
       "    </tr>\n",
       "    <tr>\n",
       "      <th>1</th>\n",
       "      <td>1062855</td>\n",
       "      <td>01.12.2019 20:53</td>\n",
       "      <td>01.12.2019 21:27</td>\n",
       "      <td>Курс обучения «Эксперт»</td>\n",
       "      <td>Завершен</td>\n",
       "      <td>17450.3</td>\n",
       "      <td>Краснодар</td>\n",
       "      <td>Яндекс.Касса</td>\n",
       "    </tr>\n",
       "    <tr>\n",
       "      <th>2</th>\n",
       "      <td>1062856</td>\n",
       "      <td>01.12.2019 21:43</td>\n",
       "      <td>NaN</td>\n",
       "      <td>Курс обучения «Специалист»</td>\n",
       "      <td>Отменен</td>\n",
       "      <td>0.0</td>\n",
       "      <td>NaN</td>\n",
       "      <td>NaN</td>\n",
       "    </tr>\n",
       "    <tr>\n",
       "      <th>3</th>\n",
       "      <td>1062880</td>\n",
       "      <td>03.12.2019 0:18</td>\n",
       "      <td>NaN</td>\n",
       "      <td>Курс обучения «Консультант»</td>\n",
       "      <td>Отменен</td>\n",
       "      <td>0.0</td>\n",
       "      <td>г.Москва и Московская область</td>\n",
       "      <td>NaN</td>\n",
       "    </tr>\n",
       "    <tr>\n",
       "      <th>4</th>\n",
       "      <td>1062899</td>\n",
       "      <td>03.12.2019 21:43</td>\n",
       "      <td>NaN</td>\n",
       "      <td>Курс обучения «Эксперт»</td>\n",
       "      <td>Отменен</td>\n",
       "      <td>0.0</td>\n",
       "      <td>г.Москва и Московская область</td>\n",
       "      <td>NaN</td>\n",
       "    </tr>\n",
       "  </tbody>\n",
       "</table>\n",
       "</div>"
      ],
      "text/plain": [
       "     Номер     Дата создания       Дата оплаты                        Title  \\\n",
       "0  1062823  01.12.2019 10:50  01.12.2019 10:52      Курс обучения «Эксперт»   \n",
       "1  1062855  01.12.2019 20:53  01.12.2019 21:27      Курс обучения «Эксперт»   \n",
       "2  1062856  01.12.2019 21:43               NaN   Курс обучения «Специалист»   \n",
       "3  1062880   03.12.2019 0:18               NaN  Курс обучения «Консультант»   \n",
       "4  1062899  03.12.2019 21:43               NaN      Курс обучения «Эксперт»   \n",
       "\n",
       "     Статус  Заработано                          Город   Платежная система  \n",
       "0  Завершен     29597.5                           Чита  Сбербанк эквайринг  \n",
       "1  Завершен     17450.3                      Краснодар        Яндекс.Касса  \n",
       "2   Отменен         0.0                            NaN                 NaN  \n",
       "3   Отменен         0.0  г.Москва и Московская область                 NaN  \n",
       "4   Отменен         0.0  г.Москва и Московская область                 NaN  "
      ]
     },
     "execution_count": 13,
     "metadata": {},
     "output_type": "execute_result"
    }
   ],
   "source": [
    "df.head()"
   ]
  },
  {
   "cell_type": "code",
   "execution_count": 5,
   "metadata": {},
   "outputs": [],
   "source": [
    "df = pd.read_csv('C:/Users/lybov/Downloads/lesson_2_data.csv', encoding='Windows-1251', sep=';')"
   ]
  },
  {
   "cell_type": "code",
   "execution_count": 10,
   "metadata": {},
   "outputs": [
    {
     "data": {
      "text/plain": [
       "(5, 8)"
      ]
     },
     "execution_count": 10,
     "metadata": {},
     "output_type": "execute_result"
    }
   ],
   "source": [
    "df.head().shape"
   ]
  },
  {
   "cell_type": "code",
   "execution_count": 11,
   "metadata": {},
   "outputs": [
    {
     "data": {
      "text/plain": [
       "Номер                  int64\n",
       "Дата создания         object\n",
       "Дата оплаты           object\n",
       "Title                 object\n",
       "Статус                object\n",
       "Заработано           float64\n",
       "Город                 object\n",
       "Платежная система     object\n",
       "dtype: object"
      ]
     },
     "execution_count": 11,
     "metadata": {},
     "output_type": "execute_result"
    }
   ],
   "source": [
    "df.dtypes"
   ]
  },
  {
   "cell_type": "code",
   "execution_count": 12,
   "metadata": {
    "scrolled": true
   },
   "outputs": [
    {
     "data": {
      "text/plain": [
       "<bound method NDFrame.describe of        Номер     Дата создания       Дата оплаты  \\\n",
       "0    1062823  01.12.2019 10:50  01.12.2019 10:52   \n",
       "1    1062855  01.12.2019 20:53  01.12.2019 21:27   \n",
       "2    1062856  01.12.2019 21:43               NaN   \n",
       "3    1062880   03.12.2019 0:18               NaN   \n",
       "4    1062899  03.12.2019 21:43               NaN   \n",
       "..       ...               ...               ...   \n",
       "287  1064720   30.12.2019 9:42  30.12.2019 12:49   \n",
       "288  1064724  30.12.2019 11:32               NaN   \n",
       "289  1064775   31.12.2019 2:17   31.12.2019 2:22   \n",
       "290  1064793  31.12.2019 16:40  01.01.2020 14:29   \n",
       "291  1064796  31.12.2019 17:29  31.12.2019 17:32   \n",
       "\n",
       "                                                 Title    Статус  Заработано  \\\n",
       "0                              Курс обучения «Эксперт»  Завершен    29597.50   \n",
       "1                              Курс обучения «Эксперт»  Завершен    17450.30   \n",
       "2                           Курс обучения «Специалист»   Отменен        0.00   \n",
       "3                          Курс обучения «Консультант»   Отменен        0.00   \n",
       "4                              Курс обучения «Эксперт»   Отменен        0.00   \n",
       "..                                                 ...       ...         ...   \n",
       "287  Подписка «ОНЛАЙН ДИЕТОЛОГ» с ежемесячным автос...  Завершен     2935.44   \n",
       "288                        Курс обучения «Консультант»   Отменен        0.00   \n",
       "289                        Курс обучения «Консультант»  Завершен     7423.92   \n",
       "290  Подписка «ОНЛАЙН ДИЕТОЛОГ» с ежемесячным автос...  Завершен     2935.44   \n",
       "291  Курс от Школы Диетологов. Повышение квалификац...  Завершен     9898.56   \n",
       "\n",
       "                             Город                 Платежная система  \n",
       "0                             Чита                Сбербанк эквайринг  \n",
       "1                        Краснодар                      Яндекс.Касса  \n",
       "2                              NaN                               NaN  \n",
       "3    г.Москва и Московская область                               NaN  \n",
       "4    г.Москва и Московская область                               NaN  \n",
       "..                             ...                               ...  \n",
       "287              Самарская область                      Яндекс.Касса  \n",
       "288                            NaN                               NaN  \n",
       "289                            NaN  Сбербанк эквайринг,Бонусный счет  \n",
       "290             Республика Карелия                      Яндекс.Касса  \n",
       "291                            Уфа  Сбербанк эквайринг,Бонусный счет  \n",
       "\n",
       "[292 rows x 8 columns]>"
      ]
     },
     "execution_count": 12,
     "metadata": {},
     "output_type": "execute_result"
    }
   ],
   "source": [
    "df.describe"
   ]
  },
  {
   "cell_type": "code",
   "execution_count": 13,
   "metadata": {},
   "outputs": [
    {
     "data": {
      "text/plain": [
       "Index(['Номер', 'Дата создания', 'Дата оплаты', 'Title', 'Статус',\n",
       "       'Заработано', 'Город', 'Платежная система'],\n",
       "      dtype='object')"
      ]
     },
     "execution_count": 13,
     "metadata": {},
     "output_type": "execute_result"
    }
   ],
   "source": [
    "df.columns"
   ]
  },
  {
   "cell_type": "code",
   "execution_count": 15,
   "metadata": {},
   "outputs": [],
   "source": [
    "df = df.rename(columns={'Номер':'number', \n",
    "                        'Дата создания':'create_date', \n",
    "                        'Дата оплаты':'payment_date',\n",
    "                        'Title':'title', \n",
    "                        'Статус':'status',\n",
    "                        'Заработано':'total_score', \n",
    "                        'Город':'city', \n",
    "                        'Платежная система':'payment_system'})"
   ]
  },
  {
   "cell_type": "code",
   "execution_count": 16,
   "metadata": {},
   "outputs": [
    {
     "data": {
      "text/html": [
       "<div>\n",
       "<style scoped>\n",
       "    .dataframe tbody tr th:only-of-type {\n",
       "        vertical-align: middle;\n",
       "    }\n",
       "\n",
       "    .dataframe tbody tr th {\n",
       "        vertical-align: top;\n",
       "    }\n",
       "\n",
       "    .dataframe thead th {\n",
       "        text-align: right;\n",
       "    }\n",
       "</style>\n",
       "<table border=\"1\" class=\"dataframe\">\n",
       "  <thead>\n",
       "    <tr style=\"text-align: right;\">\n",
       "      <th></th>\n",
       "      <th>number</th>\n",
       "      <th>create_date</th>\n",
       "      <th>payment_date</th>\n",
       "      <th>title</th>\n",
       "      <th>status</th>\n",
       "      <th>total_score</th>\n",
       "      <th>city</th>\n",
       "      <th>payment_system</th>\n",
       "    </tr>\n",
       "  </thead>\n",
       "  <tbody>\n",
       "    <tr>\n",
       "      <th>0</th>\n",
       "      <td>1062823</td>\n",
       "      <td>01.12.2019 10:50</td>\n",
       "      <td>01.12.2019 10:52</td>\n",
       "      <td>Курс обучения «Эксперт»</td>\n",
       "      <td>Завершен</td>\n",
       "      <td>29597.5</td>\n",
       "      <td>Чита</td>\n",
       "      <td>Сбербанк эквайринг</td>\n",
       "    </tr>\n",
       "    <tr>\n",
       "      <th>1</th>\n",
       "      <td>1062855</td>\n",
       "      <td>01.12.2019 20:53</td>\n",
       "      <td>01.12.2019 21:27</td>\n",
       "      <td>Курс обучения «Эксперт»</td>\n",
       "      <td>Завершен</td>\n",
       "      <td>17450.3</td>\n",
       "      <td>Краснодар</td>\n",
       "      <td>Яндекс.Касса</td>\n",
       "    </tr>\n",
       "    <tr>\n",
       "      <th>2</th>\n",
       "      <td>1062856</td>\n",
       "      <td>01.12.2019 21:43</td>\n",
       "      <td>NaN</td>\n",
       "      <td>Курс обучения «Специалист»</td>\n",
       "      <td>Отменен</td>\n",
       "      <td>0.0</td>\n",
       "      <td>NaN</td>\n",
       "      <td>NaN</td>\n",
       "    </tr>\n",
       "    <tr>\n",
       "      <th>3</th>\n",
       "      <td>1062880</td>\n",
       "      <td>03.12.2019 0:18</td>\n",
       "      <td>NaN</td>\n",
       "      <td>Курс обучения «Консультант»</td>\n",
       "      <td>Отменен</td>\n",
       "      <td>0.0</td>\n",
       "      <td>г.Москва и Московская область</td>\n",
       "      <td>NaN</td>\n",
       "    </tr>\n",
       "    <tr>\n",
       "      <th>4</th>\n",
       "      <td>1062899</td>\n",
       "      <td>03.12.2019 21:43</td>\n",
       "      <td>NaN</td>\n",
       "      <td>Курс обучения «Эксперт»</td>\n",
       "      <td>Отменен</td>\n",
       "      <td>0.0</td>\n",
       "      <td>г.Москва и Московская область</td>\n",
       "      <td>NaN</td>\n",
       "    </tr>\n",
       "  </tbody>\n",
       "</table>\n",
       "</div>"
      ],
      "text/plain": [
       "    number       create_date      payment_date                        title  \\\n",
       "0  1062823  01.12.2019 10:50  01.12.2019 10:52      Курс обучения «Эксперт»   \n",
       "1  1062855  01.12.2019 20:53  01.12.2019 21:27      Курс обучения «Эксперт»   \n",
       "2  1062856  01.12.2019 21:43               NaN   Курс обучения «Специалист»   \n",
       "3  1062880   03.12.2019 0:18               NaN  Курс обучения «Консультант»   \n",
       "4  1062899  03.12.2019 21:43               NaN      Курс обучения «Эксперт»   \n",
       "\n",
       "     status  total_score                           city      payment_system  \n",
       "0  Завершен      29597.5                           Чита  Сбербанк эквайринг  \n",
       "1  Завершен      17450.3                      Краснодар        Яндекс.Касса  \n",
       "2   Отменен          0.0                            NaN                 NaN  \n",
       "3   Отменен          0.0  г.Москва и Московская область                 NaN  \n",
       "4   Отменен          0.0  г.Москва и Московская область                 NaN  "
      ]
     },
     "execution_count": 16,
     "metadata": {},
     "output_type": "execute_result"
    }
   ],
   "source": [
    "df.head()"
   ]
  },
  {
   "cell_type": "code",
   "execution_count": 18,
   "metadata": {},
   "outputs": [
    {
     "data": {
      "text/plain": [
       "992103.59"
      ]
     },
     "execution_count": 18,
     "metadata": {},
     "output_type": "execute_result"
    }
   ],
   "source": [
    "round(df.total_score.sum(),2)"
   ]
  },
  {
   "cell_type": "code",
   "execution_count": 97,
   "metadata": {},
   "outputs": [],
   "source": [
    "df = pd.read_csv('C:/Users/lybov/Downloads/data.csv')"
   ]
  },
  {
   "cell_type": "code",
   "execution_count": 98,
   "metadata": {},
   "outputs": [
    {
     "data": {
      "text/html": [
       "<div>\n",
       "<style scoped>\n",
       "    .dataframe tbody tr th:only-of-type {\n",
       "        vertical-align: middle;\n",
       "    }\n",
       "\n",
       "    .dataframe tbody tr th {\n",
       "        vertical-align: top;\n",
       "    }\n",
       "\n",
       "    .dataframe thead th {\n",
       "        text-align: right;\n",
       "    }\n",
       "</style>\n",
       "<table border=\"1\" class=\"dataframe\">\n",
       "  <thead>\n",
       "    <tr style=\"text-align: right;\">\n",
       "      <th></th>\n",
       "      <th>match_id</th>\n",
       "      <th>start_time</th>\n",
       "      <th>win</th>\n",
       "      <th>hero_id</th>\n",
       "      <th>account_id</th>\n",
       "      <th>leaguename</th>\n",
       "    </tr>\n",
       "  </thead>\n",
       "  <tbody>\n",
       "    <tr>\n",
       "      <th>0</th>\n",
       "      <td>7179178843</td>\n",
       "      <td>1685505859</td>\n",
       "      <td>False</td>\n",
       "      <td>86</td>\n",
       "      <td>992327405</td>\n",
       "      <td>Destiny league</td>\n",
       "    </tr>\n",
       "    <tr>\n",
       "      <th>1</th>\n",
       "      <td>7179178843</td>\n",
       "      <td>1685505859</td>\n",
       "      <td>False</td>\n",
       "      <td>128</td>\n",
       "      <td>162724090</td>\n",
       "      <td>Destiny league</td>\n",
       "    </tr>\n",
       "    <tr>\n",
       "      <th>2</th>\n",
       "      <td>7179178843</td>\n",
       "      <td>1685505859</td>\n",
       "      <td>False</td>\n",
       "      <td>17</td>\n",
       "      <td>1232094007</td>\n",
       "      <td>Destiny league</td>\n",
       "    </tr>\n",
       "    <tr>\n",
       "      <th>3</th>\n",
       "      <td>7179178843</td>\n",
       "      <td>1685505859</td>\n",
       "      <td>False</td>\n",
       "      <td>41</td>\n",
       "      <td>1170923497</td>\n",
       "      <td>Destiny league</td>\n",
       "    </tr>\n",
       "    <tr>\n",
       "      <th>4</th>\n",
       "      <td>7179178843</td>\n",
       "      <td>1685505859</td>\n",
       "      <td>False</td>\n",
       "      <td>38</td>\n",
       "      <td>202984325</td>\n",
       "      <td>Destiny league</td>\n",
       "    </tr>\n",
       "  </tbody>\n",
       "</table>\n",
       "</div>"
      ],
      "text/plain": [
       "     match_id  start_time    win  hero_id  account_id      leaguename\n",
       "0  7179178843  1685505859  False       86   992327405  Destiny league\n",
       "1  7179178843  1685505859  False      128   162724090  Destiny league\n",
       "2  7179178843  1685505859  False       17  1232094007  Destiny league\n",
       "3  7179178843  1685505859  False       41  1170923497  Destiny league\n",
       "4  7179178843  1685505859  False       38   202984325  Destiny league"
      ]
     },
     "execution_count": 98,
     "metadata": {},
     "output_type": "execute_result"
    }
   ],
   "source": [
    "df.head()"
   ]
  },
  {
   "cell_type": "code",
   "execution_count": 100,
   "metadata": {},
   "outputs": [
    {
     "data": {
      "text/plain": [
       "match_id       int64\n",
       "start_time     int64\n",
       "win             bool\n",
       "hero_id        int64\n",
       "account_id     int64\n",
       "leaguename    object\n",
       "dtype: object"
      ]
     },
     "execution_count": 100,
     "metadata": {},
     "output_type": "execute_result"
    }
   ],
   "source": [
    "df.dtypes"
   ]
  },
  {
   "cell_type": "code",
   "execution_count": 103,
   "metadata": {},
   "outputs": [
    {
     "data": {
      "text/plain": [
       "100"
      ]
     },
     "execution_count": 103,
     "metadata": {},
     "output_type": "execute_result"
    }
   ],
   "source": [
    "df.win.sum()"
   ]
  },
  {
   "cell_type": "code",
   "execution_count": 105,
   "metadata": {},
   "outputs": [
    {
     "data": {
      "text/html": [
       "<div>\n",
       "<style scoped>\n",
       "    .dataframe tbody tr th:only-of-type {\n",
       "        vertical-align: middle;\n",
       "    }\n",
       "\n",
       "    .dataframe tbody tr th {\n",
       "        vertical-align: top;\n",
       "    }\n",
       "\n",
       "    .dataframe thead th {\n",
       "        text-align: right;\n",
       "    }\n",
       "</style>\n",
       "<table border=\"1\" class=\"dataframe\">\n",
       "  <thead>\n",
       "    <tr style=\"text-align: right;\">\n",
       "      <th></th>\n",
       "      <th>match_id</th>\n",
       "      <th>start_time</th>\n",
       "      <th>hero_id</th>\n",
       "      <th>account_id</th>\n",
       "    </tr>\n",
       "  </thead>\n",
       "  <tbody>\n",
       "    <tr>\n",
       "      <th>count</th>\n",
       "      <td>2.000000e+02</td>\n",
       "      <td>2.000000e+02</td>\n",
       "      <td>200.000000</td>\n",
       "      <td>2.000000e+02</td>\n",
       "    </tr>\n",
       "    <tr>\n",
       "      <th>mean</th>\n",
       "      <td>7.179271e+09</td>\n",
       "      <td>1.685514e+09</td>\n",
       "      <td>66.595000</td>\n",
       "      <td>9.051761e+08</td>\n",
       "    </tr>\n",
       "    <tr>\n",
       "      <th>std</th>\n",
       "      <td>5.714607e+04</td>\n",
       "      <td>4.716808e+03</td>\n",
       "      <td>39.864859</td>\n",
       "      <td>5.755590e+08</td>\n",
       "    </tr>\n",
       "    <tr>\n",
       "      <th>min</th>\n",
       "      <td>7.179179e+09</td>\n",
       "      <td>1.685506e+09</td>\n",
       "      <td>3.000000</td>\n",
       "      <td>3.165951e+06</td>\n",
       "    </tr>\n",
       "    <tr>\n",
       "      <th>25%</th>\n",
       "      <td>7.179219e+09</td>\n",
       "      <td>1.685509e+09</td>\n",
       "      <td>31.000000</td>\n",
       "      <td>2.055309e+08</td>\n",
       "    </tr>\n",
       "    <tr>\n",
       "      <th>50%</th>\n",
       "      <td>7.179267e+09</td>\n",
       "      <td>1.685514e+09</td>\n",
       "      <td>71.000000</td>\n",
       "      <td>1.093667e+09</td>\n",
       "    </tr>\n",
       "    <tr>\n",
       "      <th>75%</th>\n",
       "      <td>7.179314e+09</td>\n",
       "      <td>1.685518e+09</td>\n",
       "      <td>101.000000</td>\n",
       "      <td>1.499725e+09</td>\n",
       "    </tr>\n",
       "    <tr>\n",
       "      <th>max</th>\n",
       "      <td>7.179368e+09</td>\n",
       "      <td>1.685521e+09</td>\n",
       "      <td>137.000000</td>\n",
       "      <td>1.543901e+09</td>\n",
       "    </tr>\n",
       "  </tbody>\n",
       "</table>\n",
       "</div>"
      ],
      "text/plain": [
       "           match_id    start_time     hero_id    account_id\n",
       "count  2.000000e+02  2.000000e+02  200.000000  2.000000e+02\n",
       "mean   7.179271e+09  1.685514e+09   66.595000  9.051761e+08\n",
       "std    5.714607e+04  4.716808e+03   39.864859  5.755590e+08\n",
       "min    7.179179e+09  1.685506e+09    3.000000  3.165951e+06\n",
       "25%    7.179219e+09  1.685509e+09   31.000000  2.055309e+08\n",
       "50%    7.179267e+09  1.685514e+09   71.000000  1.093667e+09\n",
       "75%    7.179314e+09  1.685518e+09  101.000000  1.499725e+09\n",
       "max    7.179368e+09  1.685521e+09  137.000000  1.543901e+09"
      ]
     },
     "execution_count": 105,
     "metadata": {},
     "output_type": "execute_result"
    }
   ],
   "source": [
    "df"
   ]
  },
  {
   "cell_type": "code",
   "execution_count": 108,
   "metadata": {
    "scrolled": true
   },
   "outputs": [
    {
     "data": {
      "text/plain": [
       "match_id                                           717927094405\n",
       "start_time                                         168551376720\n",
       "win                                                         100\n",
       "hero_id                                                    6435\n",
       "account_id                                          92714711309\n",
       "leaguename    Destiny leagueDestiny leagueDestiny leagueDest...\n",
       "dtype: object"
      ]
     },
     "execution_count": 108,
     "metadata": {},
     "output_type": "execute_result"
    }
   ],
   "source": [
    "df.query(\"win == True\").sum()"
   ]
  },
  {
   "cell_type": "code",
   "execution_count": 111,
   "metadata": {},
   "outputs": [
    {
     "data": {
      "text/html": [
       "<div>\n",
       "<style scoped>\n",
       "    .dataframe tbody tr th:only-of-type {\n",
       "        vertical-align: middle;\n",
       "    }\n",
       "\n",
       "    .dataframe tbody tr th {\n",
       "        vertical-align: top;\n",
       "    }\n",
       "\n",
       "    .dataframe thead th {\n",
       "        text-align: right;\n",
       "    }\n",
       "</style>\n",
       "<table border=\"1\" class=\"dataframe\">\n",
       "  <thead>\n",
       "    <tr style=\"text-align: right;\">\n",
       "      <th></th>\n",
       "      <th>match_id</th>\n",
       "      <th>start_time</th>\n",
       "      <th>win</th>\n",
       "      <th>hero_id</th>\n",
       "      <th>account_id</th>\n",
       "      <th>leaguename</th>\n",
       "    </tr>\n",
       "  </thead>\n",
       "  <tbody>\n",
       "    <tr>\n",
       "      <th>5</th>\n",
       "      <td>7179178843</td>\n",
       "      <td>1685505859</td>\n",
       "      <td>True</td>\n",
       "      <td>51</td>\n",
       "      <td>1216609165</td>\n",
       "      <td>Destiny league</td>\n",
       "    </tr>\n",
       "    <tr>\n",
       "      <th>6</th>\n",
       "      <td>7179178843</td>\n",
       "      <td>1685505859</td>\n",
       "      <td>True</td>\n",
       "      <td>11</td>\n",
       "      <td>1083977859</td>\n",
       "      <td>Destiny league</td>\n",
       "    </tr>\n",
       "    <tr>\n",
       "      <th>7</th>\n",
       "      <td>7179178843</td>\n",
       "      <td>1685505859</td>\n",
       "      <td>True</td>\n",
       "      <td>62</td>\n",
       "      <td>1122407405</td>\n",
       "      <td>Destiny league</td>\n",
       "    </tr>\n",
       "    <tr>\n",
       "      <th>8</th>\n",
       "      <td>7179178843</td>\n",
       "      <td>1685505859</td>\n",
       "      <td>True</td>\n",
       "      <td>21</td>\n",
       "      <td>1119908658</td>\n",
       "      <td>Destiny league</td>\n",
       "    </tr>\n",
       "    <tr>\n",
       "      <th>9</th>\n",
       "      <td>7179178843</td>\n",
       "      <td>1685505859</td>\n",
       "      <td>True</td>\n",
       "      <td>3</td>\n",
       "      <td>1220632105</td>\n",
       "      <td>Destiny league</td>\n",
       "    </tr>\n",
       "    <tr>\n",
       "      <th>...</th>\n",
       "      <td>...</td>\n",
       "      <td>...</td>\n",
       "      <td>...</td>\n",
       "      <td>...</td>\n",
       "      <td>...</td>\n",
       "      <td>...</td>\n",
       "    </tr>\n",
       "    <tr>\n",
       "      <th>195</th>\n",
       "      <td>7179367595</td>\n",
       "      <td>1685521110</td>\n",
       "      <td>True</td>\n",
       "      <td>72</td>\n",
       "      <td>1427100407</td>\n",
       "      <td>Ancients League</td>\n",
       "    </tr>\n",
       "    <tr>\n",
       "      <th>196</th>\n",
       "      <td>7179367595</td>\n",
       "      <td>1685521110</td>\n",
       "      <td>True</td>\n",
       "      <td>88</td>\n",
       "      <td>1529282248</td>\n",
       "      <td>Ancients League</td>\n",
       "    </tr>\n",
       "    <tr>\n",
       "      <th>197</th>\n",
       "      <td>7179367595</td>\n",
       "      <td>1685521110</td>\n",
       "      <td>True</td>\n",
       "      <td>40</td>\n",
       "      <td>1526386891</td>\n",
       "      <td>Ancients League</td>\n",
       "    </tr>\n",
       "    <tr>\n",
       "      <th>198</th>\n",
       "      <td>7179367595</td>\n",
       "      <td>1685521110</td>\n",
       "      <td>True</td>\n",
       "      <td>87</td>\n",
       "      <td>1513040880</td>\n",
       "      <td>Ancients League</td>\n",
       "    </tr>\n",
       "    <tr>\n",
       "      <th>199</th>\n",
       "      <td>7179367595</td>\n",
       "      <td>1685521110</td>\n",
       "      <td>True</td>\n",
       "      <td>126</td>\n",
       "      <td>1517400698</td>\n",
       "      <td>Ancients League</td>\n",
       "    </tr>\n",
       "  </tbody>\n",
       "</table>\n",
       "<p>100 rows × 6 columns</p>\n",
       "</div>"
      ],
      "text/plain": [
       "       match_id  start_time   win  hero_id  account_id       leaguename\n",
       "5    7179178843  1685505859  True       51  1216609165   Destiny league\n",
       "6    7179178843  1685505859  True       11  1083977859   Destiny league\n",
       "7    7179178843  1685505859  True       62  1122407405   Destiny league\n",
       "8    7179178843  1685505859  True       21  1119908658   Destiny league\n",
       "9    7179178843  1685505859  True        3  1220632105   Destiny league\n",
       "..          ...         ...   ...      ...         ...              ...\n",
       "195  7179367595  1685521110  True       72  1427100407  Ancients League\n",
       "196  7179367595  1685521110  True       88  1529282248  Ancients League\n",
       "197  7179367595  1685521110  True       40  1526386891  Ancients League\n",
       "198  7179367595  1685521110  True       87  1513040880  Ancients League\n",
       "199  7179367595  1685521110  True      126  1517400698  Ancients League\n",
       "\n",
       "[100 rows x 6 columns]"
      ]
     },
     "execution_count": 111,
     "metadata": {},
     "output_type": "execute_result"
    }
   ],
   "source": [
    "df.loc[df['win']]"
   ]
  },
  {
   "cell_type": "code",
   "execution_count": 150,
   "metadata": {
    "scrolled": true
   },
   "outputs": [
    {
     "data": {
      "text/html": [
       "<div>\n",
       "<style scoped>\n",
       "    .dataframe tbody tr th:only-of-type {\n",
       "        vertical-align: middle;\n",
       "    }\n",
       "\n",
       "    .dataframe tbody tr th {\n",
       "        vertical-align: top;\n",
       "    }\n",
       "\n",
       "    .dataframe thead th {\n",
       "        text-align: right;\n",
       "    }\n",
       "</style>\n",
       "<table border=\"1\" class=\"dataframe\">\n",
       "  <thead>\n",
       "    <tr style=\"text-align: right;\">\n",
       "      <th></th>\n",
       "      <th>leaguename</th>\n",
       "      <th>win</th>\n",
       "    </tr>\n",
       "  </thead>\n",
       "  <tbody>\n",
       "    <tr>\n",
       "      <th>0</th>\n",
       "      <td>Ancients League</td>\n",
       "      <td>35</td>\n",
       "    </tr>\n",
       "    <tr>\n",
       "      <th>1</th>\n",
       "      <td>DPC 2023 SEA Summer Tour Division I - presente...</td>\n",
       "      <td>15</td>\n",
       "    </tr>\n",
       "    <tr>\n",
       "      <th>2</th>\n",
       "      <td>Destiny league</td>\n",
       "      <td>30</td>\n",
       "    </tr>\n",
       "    <tr>\n",
       "      <th>3</th>\n",
       "      <td>ESportsBattle | DOTA2 SC8</td>\n",
       "      <td>15</td>\n",
       "    </tr>\n",
       "    <tr>\n",
       "      <th>4</th>\n",
       "      <td>Pinnacle Cup: Malta Vibes #2</td>\n",
       "      <td>5</td>\n",
       "    </tr>\n",
       "  </tbody>\n",
       "</table>\n",
       "</div>"
      ],
      "text/plain": [
       "                                          leaguename  win\n",
       "0                                    Ancients League   35\n",
       "1  DPC 2023 SEA Summer Tour Division I - presente...   15\n",
       "2                                     Destiny league   30\n",
       "3                          ESportsBattle | DOTA2 SC8   15\n",
       "4                       Pinnacle Cup: Malta Vibes #2    5"
      ]
     },
     "execution_count": 150,
     "metadata": {},
     "output_type": "execute_result"
    }
   ],
   "source": [
    "df.query(\"win == True\") \\\n",
    "    .groupby(['leaguename'], as_index=False) \\\n",
    "    .agg({'win': 'count'}) \\\n",
    "    .sort_values('leaguename')"
   ]
  },
  {
   "cell_type": "code",
   "execution_count": 151,
   "metadata": {},
   "outputs": [
    {
     "data": {
      "text/html": [
       "<div>\n",
       "<style scoped>\n",
       "    .dataframe tbody tr th:only-of-type {\n",
       "        vertical-align: middle;\n",
       "    }\n",
       "\n",
       "    .dataframe tbody tr th {\n",
       "        vertical-align: top;\n",
       "    }\n",
       "\n",
       "    .dataframe thead th {\n",
       "        text-align: right;\n",
       "    }\n",
       "</style>\n",
       "<table border=\"1\" class=\"dataframe\">\n",
       "  <thead>\n",
       "    <tr style=\"text-align: right;\">\n",
       "      <th></th>\n",
       "      <th>leaguename</th>\n",
       "      <th>win</th>\n",
       "    </tr>\n",
       "  </thead>\n",
       "  <tbody>\n",
       "    <tr>\n",
       "      <th>0</th>\n",
       "      <td>Ancients League</td>\n",
       "      <td>35</td>\n",
       "    </tr>\n",
       "    <tr>\n",
       "      <th>1</th>\n",
       "      <td>Ancients League</td>\n",
       "      <td>35</td>\n",
       "    </tr>\n",
       "    <tr>\n",
       "      <th>2</th>\n",
       "      <td>DPC 2023 SEA Summer Tour Division I - presente...</td>\n",
       "      <td>15</td>\n",
       "    </tr>\n",
       "    <tr>\n",
       "      <th>3</th>\n",
       "      <td>DPC 2023 SEA Summer Tour Division I - presente...</td>\n",
       "      <td>15</td>\n",
       "    </tr>\n",
       "    <tr>\n",
       "      <th>4</th>\n",
       "      <td>Destiny league</td>\n",
       "      <td>30</td>\n",
       "    </tr>\n",
       "    <tr>\n",
       "      <th>5</th>\n",
       "      <td>Destiny league</td>\n",
       "      <td>30</td>\n",
       "    </tr>\n",
       "    <tr>\n",
       "      <th>6</th>\n",
       "      <td>ESportsBattle | DOTA2 SC8</td>\n",
       "      <td>15</td>\n",
       "    </tr>\n",
       "    <tr>\n",
       "      <th>7</th>\n",
       "      <td>ESportsBattle | DOTA2 SC8</td>\n",
       "      <td>15</td>\n",
       "    </tr>\n",
       "    <tr>\n",
       "      <th>8</th>\n",
       "      <td>Pinnacle Cup: Malta Vibes #2</td>\n",
       "      <td>5</td>\n",
       "    </tr>\n",
       "    <tr>\n",
       "      <th>9</th>\n",
       "      <td>Pinnacle Cup: Malta Vibes #2</td>\n",
       "      <td>5</td>\n",
       "    </tr>\n",
       "  </tbody>\n",
       "</table>\n",
       "</div>"
      ],
      "text/plain": [
       "                                          leaguename  win\n",
       "0                                    Ancients League   35\n",
       "1                                    Ancients League   35\n",
       "2  DPC 2023 SEA Summer Tour Division I - presente...   15\n",
       "3  DPC 2023 SEA Summer Tour Division I - presente...   15\n",
       "4                                     Destiny league   30\n",
       "5                                     Destiny league   30\n",
       "6                          ESportsBattle | DOTA2 SC8   15\n",
       "7                          ESportsBattle | DOTA2 SC8   15\n",
       "8                       Pinnacle Cup: Malta Vibes #2    5\n",
       "9                       Pinnacle Cup: Malta Vibes #2    5"
      ]
     },
     "execution_count": 151,
     "metadata": {},
     "output_type": "execute_result"
    }
   ],
   "source": [
    "df.groupby(['leaguename', 'win'], as_index=False) \\\n",
    "    .agg({'win': 'count'}) \\\n",
    "    .sort_values('leaguename')"
   ]
  },
  {
   "cell_type": "code",
   "execution_count": 159,
   "metadata": {},
   "outputs": [
    {
     "ename": "AttributeError",
     "evalue": "'DataFrame' object has no attribute 'counts'",
     "output_type": "error",
     "traceback": [
      "\u001b[1;31m---------------------------------------------------------------------------\u001b[0m",
      "\u001b[1;31mAttributeError\u001b[0m                            Traceback (most recent call last)",
      "\u001b[1;32m~\\AppData\\Local\\Temp/ipykernel_13788/641497944.py\u001b[0m in \u001b[0;36m<module>\u001b[1;34m\u001b[0m\n\u001b[1;32m----> 1\u001b[1;33m \u001b[0mdf\u001b[0m\u001b[1;33m.\u001b[0m\u001b[0mquery\u001b[0m\u001b[1;33m(\u001b[0m\u001b[1;34m'leaguename == \"Ancients League\" and win == False'\u001b[0m\u001b[1;33m)\u001b[0m\u001b[1;33m.\u001b[0m\u001b[0mcounts\u001b[0m\u001b[1;33m\u001b[0m\u001b[1;33m\u001b[0m\u001b[0m\n\u001b[0m",
      "\u001b[1;32m~\\anaconda3\\lib\\site-packages\\pandas\\core\\generic.py\u001b[0m in \u001b[0;36m__getattr__\u001b[1;34m(self, name)\u001b[0m\n\u001b[0;32m   5485\u001b[0m         ):\n\u001b[0;32m   5486\u001b[0m             \u001b[1;32mreturn\u001b[0m \u001b[0mself\u001b[0m\u001b[1;33m[\u001b[0m\u001b[0mname\u001b[0m\u001b[1;33m]\u001b[0m\u001b[1;33m\u001b[0m\u001b[1;33m\u001b[0m\u001b[0m\n\u001b[1;32m-> 5487\u001b[1;33m         \u001b[1;32mreturn\u001b[0m \u001b[0mobject\u001b[0m\u001b[1;33m.\u001b[0m\u001b[0m__getattribute__\u001b[0m\u001b[1;33m(\u001b[0m\u001b[0mself\u001b[0m\u001b[1;33m,\u001b[0m \u001b[0mname\u001b[0m\u001b[1;33m)\u001b[0m\u001b[1;33m\u001b[0m\u001b[1;33m\u001b[0m\u001b[0m\n\u001b[0m\u001b[0;32m   5488\u001b[0m \u001b[1;33m\u001b[0m\u001b[0m\n\u001b[0;32m   5489\u001b[0m     \u001b[1;32mdef\u001b[0m \u001b[0m__setattr__\u001b[0m\u001b[1;33m(\u001b[0m\u001b[0mself\u001b[0m\u001b[1;33m,\u001b[0m \u001b[0mname\u001b[0m\u001b[1;33m:\u001b[0m \u001b[0mstr\u001b[0m\u001b[1;33m,\u001b[0m \u001b[0mvalue\u001b[0m\u001b[1;33m)\u001b[0m \u001b[1;33m->\u001b[0m \u001b[1;32mNone\u001b[0m\u001b[1;33m:\u001b[0m\u001b[1;33m\u001b[0m\u001b[1;33m\u001b[0m\u001b[0m\n",
      "\u001b[1;31mAttributeError\u001b[0m: 'DataFrame' object has no attribute 'counts'"
     ]
    }
   ],
   "source": [
    "df.query('leaguename == \"Ancients League\" and win == False').counts"
   ]
  },
  {
   "cell_type": "code",
   "execution_count": 125,
   "metadata": {},
   "outputs": [],
   "source": [
    "from datetime import datetime"
   ]
  },
  {
   "cell_type": "code",
   "execution_count": 127,
   "metadata": {},
   "outputs": [],
   "source": [
    "date = datetime.today().strftime('%Y-%m-%d-%H:%M:%S')"
   ]
  },
  {
   "cell_type": "code",
   "execution_count": 128,
   "metadata": {},
   "outputs": [
    {
     "data": {
      "text/plain": [
       "'2023-06-30-14:27:49'"
      ]
     },
     "execution_count": 128,
     "metadata": {},
     "output_type": "execute_result"
    }
   ],
   "source": [
    "date"
   ]
  },
  {
   "cell_type": "code",
   "execution_count": 130,
   "metadata": {},
   "outputs": [
    {
     "name": "stdout",
     "output_type": "stream",
     "text": [
      "Full time format of now is 2023-06-30 14:28:03.883707\n"
     ]
    }
   ],
   "source": [
    "from datetime import datetime\n",
    "\n",
    "# current date and time\n",
    "now = datetime.now() \n",
    "print(f'Full time format of now is {now}')"
   ]
  },
  {
   "cell_type": "code",
   "execution_count": 133,
   "metadata": {},
   "outputs": [
    {
     "name": "stdout",
     "output_type": "stream",
     "text": [
      "year: 2023\n"
     ]
    }
   ],
   "source": [
    "y = now.strftime('%Y')\n",
    "print('year:', y)"
   ]
  },
  {
   "cell_type": "code",
   "execution_count": 137,
   "metadata": {},
   "outputs": [
    {
     "name": "stdout",
     "output_type": "stream",
     "text": [
      "year:2023\n"
     ]
    }
   ],
   "source": [
    "print(f'year:{y}')"
   ]
  },
  {
   "cell_type": "code",
   "execution_count": 147,
   "metadata": {},
   "outputs": [],
   "source": [
    "name = 'очень жарко сегодня и вообще в эти дни'"
   ]
  },
  {
   "cell_type": "code",
   "execution_count": 148,
   "metadata": {},
   "outputs": [],
   "source": [
    "def underscore(name):\n",
    "    return name.replace(' ', '_')"
   ]
  },
  {
   "cell_type": "code",
   "execution_count": 149,
   "metadata": {},
   "outputs": [
    {
     "data": {
      "text/plain": [
       "'очень_жарко_сегодня_и_вообще_в_эти_дни'"
      ]
     },
     "execution_count": 149,
     "metadata": {},
     "output_type": "execute_result"
    }
   ],
   "source": [
    "underscore(name)"
   ]
  },
  {
   "cell_type": "code",
   "execution_count": null,
   "metadata": {},
   "outputs": [],
   "source": []
  }
 ],
 "metadata": {
  "kernelspec": {
   "display_name": "Python 3 (ipykernel)",
   "language": "python",
   "name": "python3"
  },
  "language_info": {
   "codemirror_mode": {
    "name": "ipython",
    "version": 3
   },
   "file_extension": ".py",
   "mimetype": "text/x-python",
   "name": "python",
   "nbconvert_exporter": "python",
   "pygments_lexer": "ipython3",
   "version": "3.9.7"
  }
 },
 "nbformat": 4,
 "nbformat_minor": 4
}
